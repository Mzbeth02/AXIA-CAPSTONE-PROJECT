{
 "cells": [
  {
   "cell_type": "markdown",
   "id": "8b969251-f070-4987-8bb9-e9e198e0bf4d",
   "metadata": {},
   "source": [
    "# Data Science in Restaurant Analytics: Capstone Project"
   ]
  },
  {
   "cell_type": "markdown",
   "id": "b158dc42-08fb-4730-912b-f1934f323097",
   "metadata": {},
   "source": [
    "### **Overall Problem Statement**\n",
    "\n",
    "#### Apply my data science skills to real-world restaurant data over 4 weeks. Analyze trends, build predictive models, and create a professional video showcasing your insights."
   ]
  },
  {
   "cell_type": "markdown",
   "id": "ea4fba4f-e74c-4d14-8234-45459d65452e",
   "metadata": {},
   "source": [
    "## **Week 1: Data Exploration**"
   ]
  },
  {
   "cell_type": "markdown",
   "id": "f90055a7-b850-49f5-a7d0-f36361315ef0",
   "metadata": {},
   "source": [
    "### **Problem Statement:**\n",
    "\n",
    "1. Dataset Overview: Explore dataset dimensions. Check for missing values. Perform data type conversions as needed.\n",
    "2. Target Variable: Analyze \"Aggregate rating\" distribution. Address any class imbalances.\n",
    "3. Descriptive Analysis: Calculate statistics for numerical columns. Explore categorical variables. Identify top 5 cuisines and cities."
   ]
  },
  {
   "cell_type": "markdown",
   "id": "fa75ba3e-2d1d-41e8-a864-2527103a7c90",
   "metadata": {},
   "source": [
    "### **Objectives**\n",
    "\n",
    "The objective of this exploratory data analysis (EDA) is to understand the dataset by analyzing its structure, performing numerical statistics, and identifying the top 5 cuisines and cities."
   ]
  },
  {
   "cell_type": "markdown",
   "id": "499335a5-4e98-4d99-992e-8b8b72159ffe",
   "metadata": {},
   "source": [
    "### 1. **Dataset Overview**"
   ]
  },
  {
   "cell_type": "markdown",
   "id": "ed5b9a36-2163-410d-bee2-c0eddc13c2ba",
   "metadata": {},
   "source": [
    "#### Import Libraries"
   ]
  },
  {
   "cell_type": "code",
   "execution_count": 1,
   "id": "cd0e46a4-e690-41e9-95d2-6fae22c24fb7",
   "metadata": {},
   "outputs": [],
   "source": [
    "import pandas as pd\n",
    "import numpy as np\n",
    "import matplotlib.pyplot as plt\n",
    "import seaborn as sns"
   ]
  },
  {
   "cell_type": "code",
   "execution_count": 2,
   "id": "26cf4cf2-ef29-41a4-a043-7762cc5175d8",
   "metadata": {},
   "outputs": [],
   "source": [
    "import folium\n",
    "from folium.plugins import MarkerCluster"
   ]
  },
  {
   "cell_type": "code",
   "execution_count": 3,
   "id": "c4f8906b-5572-48be-9f23-814e25e8030e",
   "metadata": {},
   "outputs": [],
   "source": [
    "from sklearn.model_selection import train_test_split\n",
    "from sklearn.preprocessing import OneHotEncoder, StandardScaler\n",
    "from sklearn.linear_model import LinearRegression\n",
    "from sklearn.tree import DecisionTreeRegressor\n",
    "from sklearn.ensemble import GradientBoostingRegressor, RandomForestRegressor\n",
    "from sklearn.metrics import mean_squared_error, r2_score, mean_absolute_error"
   ]
  },
  {
   "cell_type": "markdown",
   "id": "ddfe477d-1b7d-4928-812f-c587b720ed3b",
   "metadata": {},
   "source": [
    "#### Load Dataset"
   ]
  },
  {
   "cell_type": "code",
   "execution_count": 4,
   "id": "fa0d353e-110b-4b58-ad67-54736c6d4f5f",
   "metadata": {
    "id": "fa0d353e-110b-4b58-ad67-54736c6d4f5f"
   },
   "outputs": [],
   "source": [
    "dataset_original = \"https://raw.githubusercontent.com/Oyeniran20/axia_class_cohort_7/refs/heads/main/Dataset%20.csv\"\n"
   ]
  },
  {
   "cell_type": "code",
   "execution_count": 5,
   "id": "c84c9597-381c-43bd-97b7-1e7967fecbcc",
   "metadata": {
    "colab": {
     "base_uri": "https://localhost:8080/",
     "height": 810
    },
    "id": "c84c9597-381c-43bd-97b7-1e7967fecbcc",
    "outputId": "440a957a-5c5c-483f-d448-bb1e354ea132",
    "scrolled": true
   },
   "outputs": [
    {
     "data": {
      "text/html": [
       "<div>\n",
       "<style scoped>\n",
       "    .dataframe tbody tr th:only-of-type {\n",
       "        vertical-align: middle;\n",
       "    }\n",
       "\n",
       "    .dataframe tbody tr th {\n",
       "        vertical-align: top;\n",
       "    }\n",
       "\n",
       "    .dataframe thead th {\n",
       "        text-align: right;\n",
       "    }\n",
       "</style>\n",
       "<table border=\"1\" class=\"dataframe\">\n",
       "  <thead>\n",
       "    <tr style=\"text-align: right;\">\n",
       "      <th></th>\n",
       "      <th>Restaurant ID</th>\n",
       "      <th>Restaurant Name</th>\n",
       "      <th>Country Code</th>\n",
       "      <th>City</th>\n",
       "      <th>Address</th>\n",
       "      <th>Locality</th>\n",
       "      <th>Locality Verbose</th>\n",
       "      <th>Longitude</th>\n",
       "      <th>Latitude</th>\n",
       "      <th>Cuisines</th>\n",
       "      <th>...</th>\n",
       "      <th>Currency</th>\n",
       "      <th>Has Table booking</th>\n",
       "      <th>Has Online delivery</th>\n",
       "      <th>Is delivering now</th>\n",
       "      <th>Switch to order menu</th>\n",
       "      <th>Price range</th>\n",
       "      <th>Aggregate rating</th>\n",
       "      <th>Rating color</th>\n",
       "      <th>Rating text</th>\n",
       "      <th>Votes</th>\n",
       "    </tr>\n",
       "  </thead>\n",
       "  <tbody>\n",
       "    <tr>\n",
       "      <th>0</th>\n",
       "      <td>6317637</td>\n",
       "      <td>Le Petit Souffle</td>\n",
       "      <td>162</td>\n",
       "      <td>Makati City</td>\n",
       "      <td>Third Floor, Century City Mall, Kalayaan Avenu...</td>\n",
       "      <td>Century City Mall, Poblacion, Makati City</td>\n",
       "      <td>Century City Mall, Poblacion, Makati City, Mak...</td>\n",
       "      <td>121.027535</td>\n",
       "      <td>14.565443</td>\n",
       "      <td>French, Japanese, Desserts</td>\n",
       "      <td>...</td>\n",
       "      <td>Botswana Pula(P)</td>\n",
       "      <td>Yes</td>\n",
       "      <td>No</td>\n",
       "      <td>No</td>\n",
       "      <td>No</td>\n",
       "      <td>3</td>\n",
       "      <td>4.8</td>\n",
       "      <td>Dark Green</td>\n",
       "      <td>Excellent</td>\n",
       "      <td>314</td>\n",
       "    </tr>\n",
       "    <tr>\n",
       "      <th>1</th>\n",
       "      <td>6304287</td>\n",
       "      <td>Izakaya Kikufuji</td>\n",
       "      <td>162</td>\n",
       "      <td>Makati City</td>\n",
       "      <td>Little Tokyo, 2277 Chino Roces Avenue, Legaspi...</td>\n",
       "      <td>Little Tokyo, Legaspi Village, Makati City</td>\n",
       "      <td>Little Tokyo, Legaspi Village, Makati City, Ma...</td>\n",
       "      <td>121.014101</td>\n",
       "      <td>14.553708</td>\n",
       "      <td>Japanese</td>\n",
       "      <td>...</td>\n",
       "      <td>Botswana Pula(P)</td>\n",
       "      <td>Yes</td>\n",
       "      <td>No</td>\n",
       "      <td>No</td>\n",
       "      <td>No</td>\n",
       "      <td>3</td>\n",
       "      <td>4.5</td>\n",
       "      <td>Dark Green</td>\n",
       "      <td>Excellent</td>\n",
       "      <td>591</td>\n",
       "    </tr>\n",
       "    <tr>\n",
       "      <th>2</th>\n",
       "      <td>6300002</td>\n",
       "      <td>Heat - Edsa Shangri-La</td>\n",
       "      <td>162</td>\n",
       "      <td>Mandaluyong City</td>\n",
       "      <td>Edsa Shangri-La, 1 Garden Way, Ortigas, Mandal...</td>\n",
       "      <td>Edsa Shangri-La, Ortigas, Mandaluyong City</td>\n",
       "      <td>Edsa Shangri-La, Ortigas, Mandaluyong City, Ma...</td>\n",
       "      <td>121.056831</td>\n",
       "      <td>14.581404</td>\n",
       "      <td>Seafood, Asian, Filipino, Indian</td>\n",
       "      <td>...</td>\n",
       "      <td>Botswana Pula(P)</td>\n",
       "      <td>Yes</td>\n",
       "      <td>No</td>\n",
       "      <td>No</td>\n",
       "      <td>No</td>\n",
       "      <td>4</td>\n",
       "      <td>4.4</td>\n",
       "      <td>Green</td>\n",
       "      <td>Very Good</td>\n",
       "      <td>270</td>\n",
       "    </tr>\n",
       "    <tr>\n",
       "      <th>3</th>\n",
       "      <td>6318506</td>\n",
       "      <td>Ooma</td>\n",
       "      <td>162</td>\n",
       "      <td>Mandaluyong City</td>\n",
       "      <td>Third Floor, Mega Fashion Hall, SM Megamall, O...</td>\n",
       "      <td>SM Megamall, Ortigas, Mandaluyong City</td>\n",
       "      <td>SM Megamall, Ortigas, Mandaluyong City, Mandal...</td>\n",
       "      <td>121.056475</td>\n",
       "      <td>14.585318</td>\n",
       "      <td>Japanese, Sushi</td>\n",
       "      <td>...</td>\n",
       "      <td>Botswana Pula(P)</td>\n",
       "      <td>No</td>\n",
       "      <td>No</td>\n",
       "      <td>No</td>\n",
       "      <td>No</td>\n",
       "      <td>4</td>\n",
       "      <td>4.9</td>\n",
       "      <td>Dark Green</td>\n",
       "      <td>Excellent</td>\n",
       "      <td>365</td>\n",
       "    </tr>\n",
       "    <tr>\n",
       "      <th>4</th>\n",
       "      <td>6314302</td>\n",
       "      <td>Sambo Kojin</td>\n",
       "      <td>162</td>\n",
       "      <td>Mandaluyong City</td>\n",
       "      <td>Third Floor, Mega Atrium, SM Megamall, Ortigas...</td>\n",
       "      <td>SM Megamall, Ortigas, Mandaluyong City</td>\n",
       "      <td>SM Megamall, Ortigas, Mandaluyong City, Mandal...</td>\n",
       "      <td>121.057508</td>\n",
       "      <td>14.584450</td>\n",
       "      <td>Japanese, Korean</td>\n",
       "      <td>...</td>\n",
       "      <td>Botswana Pula(P)</td>\n",
       "      <td>Yes</td>\n",
       "      <td>No</td>\n",
       "      <td>No</td>\n",
       "      <td>No</td>\n",
       "      <td>4</td>\n",
       "      <td>4.8</td>\n",
       "      <td>Dark Green</td>\n",
       "      <td>Excellent</td>\n",
       "      <td>229</td>\n",
       "    </tr>\n",
       "  </tbody>\n",
       "</table>\n",
       "<p>5 rows × 21 columns</p>\n",
       "</div>"
      ],
      "text/plain": [
       "   Restaurant ID         Restaurant Name  Country Code              City  \\\n",
       "0        6317637        Le Petit Souffle           162       Makati City   \n",
       "1        6304287        Izakaya Kikufuji           162       Makati City   \n",
       "2        6300002  Heat - Edsa Shangri-La           162  Mandaluyong City   \n",
       "3        6318506                    Ooma           162  Mandaluyong City   \n",
       "4        6314302             Sambo Kojin           162  Mandaluyong City   \n",
       "\n",
       "                                             Address  \\\n",
       "0  Third Floor, Century City Mall, Kalayaan Avenu...   \n",
       "1  Little Tokyo, 2277 Chino Roces Avenue, Legaspi...   \n",
       "2  Edsa Shangri-La, 1 Garden Way, Ortigas, Mandal...   \n",
       "3  Third Floor, Mega Fashion Hall, SM Megamall, O...   \n",
       "4  Third Floor, Mega Atrium, SM Megamall, Ortigas...   \n",
       "\n",
       "                                     Locality  \\\n",
       "0   Century City Mall, Poblacion, Makati City   \n",
       "1  Little Tokyo, Legaspi Village, Makati City   \n",
       "2  Edsa Shangri-La, Ortigas, Mandaluyong City   \n",
       "3      SM Megamall, Ortigas, Mandaluyong City   \n",
       "4      SM Megamall, Ortigas, Mandaluyong City   \n",
       "\n",
       "                                    Locality Verbose   Longitude   Latitude  \\\n",
       "0  Century City Mall, Poblacion, Makati City, Mak...  121.027535  14.565443   \n",
       "1  Little Tokyo, Legaspi Village, Makati City, Ma...  121.014101  14.553708   \n",
       "2  Edsa Shangri-La, Ortigas, Mandaluyong City, Ma...  121.056831  14.581404   \n",
       "3  SM Megamall, Ortigas, Mandaluyong City, Mandal...  121.056475  14.585318   \n",
       "4  SM Megamall, Ortigas, Mandaluyong City, Mandal...  121.057508  14.584450   \n",
       "\n",
       "                           Cuisines  ...          Currency Has Table booking  \\\n",
       "0        French, Japanese, Desserts  ...  Botswana Pula(P)               Yes   \n",
       "1                          Japanese  ...  Botswana Pula(P)               Yes   \n",
       "2  Seafood, Asian, Filipino, Indian  ...  Botswana Pula(P)               Yes   \n",
       "3                   Japanese, Sushi  ...  Botswana Pula(P)                No   \n",
       "4                  Japanese, Korean  ...  Botswana Pula(P)               Yes   \n",
       "\n",
       "  Has Online delivery Is delivering now Switch to order menu Price range  \\\n",
       "0                  No                No                   No           3   \n",
       "1                  No                No                   No           3   \n",
       "2                  No                No                   No           4   \n",
       "3                  No                No                   No           4   \n",
       "4                  No                No                   No           4   \n",
       "\n",
       "   Aggregate rating  Rating color Rating text Votes  \n",
       "0               4.8    Dark Green   Excellent   314  \n",
       "1               4.5    Dark Green   Excellent   591  \n",
       "2               4.4         Green   Very Good   270  \n",
       "3               4.9    Dark Green   Excellent   365  \n",
       "4               4.8    Dark Green   Excellent   229  \n",
       "\n",
       "[5 rows x 21 columns]"
      ]
     },
     "execution_count": 5,
     "metadata": {},
     "output_type": "execute_result"
    }
   ],
   "source": [
    "df = pd.read_csv(dataset_original)\n",
    "df.head(5)"
   ]
  },
  {
   "cell_type": "markdown",
   "id": "0b7ed678-5bfa-4499-9a40-8ceba518b598",
   "metadata": {
    "id": "0b7ed678-5bfa-4499-9a40-8ceba518b598"
   },
   "source": [
    "#### Data Understanding"
   ]
  },
  {
   "cell_type": "code",
   "execution_count": 6,
   "id": "NBYLykdxVOaB",
   "metadata": {
    "colab": {
     "base_uri": "https://localhost:8080/"
    },
    "id": "NBYLykdxVOaB",
    "outputId": "3fbe39bb-ed44-4bcf-bdf9-a60cd7421f83"
   },
   "outputs": [
    {
     "data": {
      "text/plain": [
       "(9551, 21)"
      ]
     },
     "execution_count": 6,
     "metadata": {},
     "output_type": "execute_result"
    }
   ],
   "source": [
    "df.shape"
   ]
  },
  {
   "cell_type": "code",
   "execution_count": 7,
   "id": "c81907bd-eacc-497e-999d-41f94e4a85ff",
   "metadata": {
    "colab": {
     "base_uri": "https://localhost:8080/"
    },
    "id": "c81907bd-eacc-497e-999d-41f94e4a85ff",
    "outputId": "6e1f2604-06a9-442d-e0a1-6449bd66b182"
   },
   "outputs": [
    {
     "name": "stdout",
     "output_type": "stream",
     "text": [
      "<class 'pandas.core.frame.DataFrame'>\n",
      "RangeIndex: 9551 entries, 0 to 9550\n",
      "Data columns (total 21 columns):\n",
      " #   Column                Non-Null Count  Dtype  \n",
      "---  ------                --------------  -----  \n",
      " 0   Restaurant ID         9551 non-null   int64  \n",
      " 1   Restaurant Name       9551 non-null   object \n",
      " 2   Country Code          9551 non-null   int64  \n",
      " 3   City                  9551 non-null   object \n",
      " 4   Address               9551 non-null   object \n",
      " 5   Locality              9551 non-null   object \n",
      " 6   Locality Verbose      9551 non-null   object \n",
      " 7   Longitude             9551 non-null   float64\n",
      " 8   Latitude              9551 non-null   float64\n",
      " 9   Cuisines              9542 non-null   object \n",
      " 10  Average Cost for two  9551 non-null   int64  \n",
      " 11  Currency              9551 non-null   object \n",
      " 12  Has Table booking     9551 non-null   object \n",
      " 13  Has Online delivery   9551 non-null   object \n",
      " 14  Is delivering now     9551 non-null   object \n",
      " 15  Switch to order menu  9551 non-null   object \n",
      " 16  Price range           9551 non-null   int64  \n",
      " 17  Aggregate rating      9551 non-null   float64\n",
      " 18  Rating color          9551 non-null   object \n",
      " 19  Rating text           9551 non-null   object \n",
      " 20  Votes                 9551 non-null   int64  \n",
      "dtypes: float64(3), int64(5), object(13)\n",
      "memory usage: 1.5+ MB\n"
     ]
    }
   ],
   "source": [
    "df.info()"
   ]
  },
  {
   "cell_type": "code",
   "execution_count": 8,
   "id": "6a8459d7-e57c-4bcc-98fc-f62a5ff5052c",
   "metadata": {
    "colab": {
     "base_uri": "https://localhost:8080/",
     "height": 742
    },
    "id": "6a8459d7-e57c-4bcc-98fc-f62a5ff5052c",
    "outputId": "c2d69ea3-62bf-4b6e-d31c-356dfdd9d219"
   },
   "outputs": [
    {
     "data": {
      "text/plain": [
       "Cuisines                9\n",
       "Restaurant Name         0\n",
       "Country Code            0\n",
       "City                    0\n",
       "Restaurant ID           0\n",
       "Address                 0\n",
       "Locality                0\n",
       "Longitude               0\n",
       "Locality Verbose        0\n",
       "Latitude                0\n",
       "Average Cost for two    0\n",
       "Currency                0\n",
       "Has Table booking       0\n",
       "Has Online delivery     0\n",
       "Is delivering now       0\n",
       "Switch to order menu    0\n",
       "Price range             0\n",
       "Aggregate rating        0\n",
       "Rating color            0\n",
       "Rating text             0\n",
       "Votes                   0\n",
       "dtype: int64"
      ]
     },
     "execution_count": 8,
     "metadata": {},
     "output_type": "execute_result"
    }
   ],
   "source": [
    "df.isnull().sum().sort_values(ascending = False)"
   ]
  },
  {
   "cell_type": "markdown",
   "id": "d527f4c1-1b5a-44ef-9bbe-a2ef610001b4",
   "metadata": {},
   "source": [
    "The Cuisines has 9 null values so this records will be dropped"
   ]
  },
  {
   "cell_type": "code",
   "execution_count": 9,
   "id": "4583ab82-6524-4a90-a86c-157420a16841",
   "metadata": {},
   "outputs": [
    {
     "data": {
      "text/plain": [
       "np.float64(-0.9541304733200109)"
      ]
     },
     "execution_count": 9,
     "metadata": {},
     "output_type": "execute_result"
    }
   ],
   "source": [
    "df['Aggregate rating'].skew()"
   ]
  },
  {
   "cell_type": "code",
   "execution_count": 10,
   "id": "f01a4d0c-2c9a-486b-8151-d070fc26ff55",
   "metadata": {
    "colab": {
     "base_uri": "https://localhost:8080/"
    },
    "id": "f01a4d0c-2c9a-486b-8151-d070fc26ff55",
    "outputId": "c998aa6c-f7ed-42df-a57f-cd543ca348e2"
   },
   "outputs": [
    {
     "data": {
      "text/plain": [
       "np.int64(0)"
      ]
     },
     "execution_count": 10,
     "metadata": {},
     "output_type": "execute_result"
    }
   ],
   "source": [
    "df.duplicated().sum()"
   ]
  },
  {
   "cell_type": "code",
   "execution_count": 11,
   "id": "dd7c37e0-d75d-4ff6-8dec-5ae381f793aa",
   "metadata": {},
   "outputs": [
    {
     "data": {
      "text/html": [
       "<div>\n",
       "<style scoped>\n",
       "    .dataframe tbody tr th:only-of-type {\n",
       "        vertical-align: middle;\n",
       "    }\n",
       "\n",
       "    .dataframe tbody tr th {\n",
       "        vertical-align: top;\n",
       "    }\n",
       "\n",
       "    .dataframe thead th {\n",
       "        text-align: right;\n",
       "    }\n",
       "</style>\n",
       "<table border=\"1\" class=\"dataframe\">\n",
       "  <thead>\n",
       "    <tr style=\"text-align: right;\">\n",
       "      <th></th>\n",
       "      <th>count</th>\n",
       "      <th>mean</th>\n",
       "      <th>std</th>\n",
       "      <th>min</th>\n",
       "      <th>25%</th>\n",
       "      <th>50%</th>\n",
       "      <th>75%</th>\n",
       "      <th>max</th>\n",
       "    </tr>\n",
       "  </thead>\n",
       "  <tbody>\n",
       "    <tr>\n",
       "      <th>Restaurant ID</th>\n",
       "      <td>9551.0</td>\n",
       "      <td>9.051128e+06</td>\n",
       "      <td>8.791521e+06</td>\n",
       "      <td>53.000000</td>\n",
       "      <td>301962.500000</td>\n",
       "      <td>6.004089e+06</td>\n",
       "      <td>1.835229e+07</td>\n",
       "      <td>1.850065e+07</td>\n",
       "    </tr>\n",
       "    <tr>\n",
       "      <th>Country Code</th>\n",
       "      <td>9551.0</td>\n",
       "      <td>1.836562e+01</td>\n",
       "      <td>5.675055e+01</td>\n",
       "      <td>1.000000</td>\n",
       "      <td>1.000000</td>\n",
       "      <td>1.000000e+00</td>\n",
       "      <td>1.000000e+00</td>\n",
       "      <td>2.160000e+02</td>\n",
       "    </tr>\n",
       "    <tr>\n",
       "      <th>Longitude</th>\n",
       "      <td>9551.0</td>\n",
       "      <td>6.412657e+01</td>\n",
       "      <td>4.146706e+01</td>\n",
       "      <td>-157.948486</td>\n",
       "      <td>77.081343</td>\n",
       "      <td>7.719196e+01</td>\n",
       "      <td>7.728201e+01</td>\n",
       "      <td>1.748321e+02</td>\n",
       "    </tr>\n",
       "    <tr>\n",
       "      <th>Latitude</th>\n",
       "      <td>9551.0</td>\n",
       "      <td>2.585438e+01</td>\n",
       "      <td>1.100794e+01</td>\n",
       "      <td>-41.330428</td>\n",
       "      <td>28.478713</td>\n",
       "      <td>2.857047e+01</td>\n",
       "      <td>2.864276e+01</td>\n",
       "      <td>5.597698e+01</td>\n",
       "    </tr>\n",
       "    <tr>\n",
       "      <th>Average Cost for two</th>\n",
       "      <td>9551.0</td>\n",
       "      <td>1.199211e+03</td>\n",
       "      <td>1.612118e+04</td>\n",
       "      <td>0.000000</td>\n",
       "      <td>250.000000</td>\n",
       "      <td>4.000000e+02</td>\n",
       "      <td>7.000000e+02</td>\n",
       "      <td>8.000000e+05</td>\n",
       "    </tr>\n",
       "    <tr>\n",
       "      <th>Price range</th>\n",
       "      <td>9551.0</td>\n",
       "      <td>1.804837e+00</td>\n",
       "      <td>9.056088e-01</td>\n",
       "      <td>1.000000</td>\n",
       "      <td>1.000000</td>\n",
       "      <td>2.000000e+00</td>\n",
       "      <td>2.000000e+00</td>\n",
       "      <td>4.000000e+00</td>\n",
       "    </tr>\n",
       "    <tr>\n",
       "      <th>Aggregate rating</th>\n",
       "      <td>9551.0</td>\n",
       "      <td>2.666370e+00</td>\n",
       "      <td>1.516378e+00</td>\n",
       "      <td>0.000000</td>\n",
       "      <td>2.500000</td>\n",
       "      <td>3.200000e+00</td>\n",
       "      <td>3.700000e+00</td>\n",
       "      <td>4.900000e+00</td>\n",
       "    </tr>\n",
       "    <tr>\n",
       "      <th>Votes</th>\n",
       "      <td>9551.0</td>\n",
       "      <td>1.569097e+02</td>\n",
       "      <td>4.301691e+02</td>\n",
       "      <td>0.000000</td>\n",
       "      <td>5.000000</td>\n",
       "      <td>3.100000e+01</td>\n",
       "      <td>1.310000e+02</td>\n",
       "      <td>1.093400e+04</td>\n",
       "    </tr>\n",
       "  </tbody>\n",
       "</table>\n",
       "</div>"
      ],
      "text/plain": [
       "                       count          mean           std         min  \\\n",
       "Restaurant ID         9551.0  9.051128e+06  8.791521e+06   53.000000   \n",
       "Country Code          9551.0  1.836562e+01  5.675055e+01    1.000000   \n",
       "Longitude             9551.0  6.412657e+01  4.146706e+01 -157.948486   \n",
       "Latitude              9551.0  2.585438e+01  1.100794e+01  -41.330428   \n",
       "Average Cost for two  9551.0  1.199211e+03  1.612118e+04    0.000000   \n",
       "Price range           9551.0  1.804837e+00  9.056088e-01    1.000000   \n",
       "Aggregate rating      9551.0  2.666370e+00  1.516378e+00    0.000000   \n",
       "Votes                 9551.0  1.569097e+02  4.301691e+02    0.000000   \n",
       "\n",
       "                                25%           50%           75%           max  \n",
       "Restaurant ID         301962.500000  6.004089e+06  1.835229e+07  1.850065e+07  \n",
       "Country Code               1.000000  1.000000e+00  1.000000e+00  2.160000e+02  \n",
       "Longitude                 77.081343  7.719196e+01  7.728201e+01  1.748321e+02  \n",
       "Latitude                  28.478713  2.857047e+01  2.864276e+01  5.597698e+01  \n",
       "Average Cost for two     250.000000  4.000000e+02  7.000000e+02  8.000000e+05  \n",
       "Price range                1.000000  2.000000e+00  2.000000e+00  4.000000e+00  \n",
       "Aggregate rating           2.500000  3.200000e+00  3.700000e+00  4.900000e+00  \n",
       "Votes                      5.000000  3.100000e+01  1.310000e+02  1.093400e+04  "
      ]
     },
     "execution_count": 11,
     "metadata": {},
     "output_type": "execute_result"
    }
   ],
   "source": [
    "df.describe().T"
   ]
  },
  {
   "cell_type": "code",
   "execution_count": 12,
   "id": "w-K9tKvpYBjm",
   "metadata": {
    "id": "w-K9tKvpYBjm"
   },
   "outputs": [],
   "source": [
    "df.dropna(inplace = True)"
   ]
  },
  {
   "cell_type": "code",
   "execution_count": 13,
   "id": "OsOAkppZYNzW",
   "metadata": {
    "colab": {
     "base_uri": "https://localhost:8080/"
    },
    "id": "OsOAkppZYNzW",
    "outputId": "c93a1e49-7ac1-4a31-9989-bb96d89168f2"
   },
   "outputs": [
    {
     "name": "stdout",
     "output_type": "stream",
     "text": [
      "<class 'pandas.core.frame.DataFrame'>\n",
      "Index: 9542 entries, 0 to 9550\n",
      "Data columns (total 21 columns):\n",
      " #   Column                Non-Null Count  Dtype  \n",
      "---  ------                --------------  -----  \n",
      " 0   Restaurant ID         9542 non-null   int64  \n",
      " 1   Restaurant Name       9542 non-null   object \n",
      " 2   Country Code          9542 non-null   int64  \n",
      " 3   City                  9542 non-null   object \n",
      " 4   Address               9542 non-null   object \n",
      " 5   Locality              9542 non-null   object \n",
      " 6   Locality Verbose      9542 non-null   object \n",
      " 7   Longitude             9542 non-null   float64\n",
      " 8   Latitude              9542 non-null   float64\n",
      " 9   Cuisines              9542 non-null   object \n",
      " 10  Average Cost for two  9542 non-null   int64  \n",
      " 11  Currency              9542 non-null   object \n",
      " 12  Has Table booking     9542 non-null   object \n",
      " 13  Has Online delivery   9542 non-null   object \n",
      " 14  Is delivering now     9542 non-null   object \n",
      " 15  Switch to order menu  9542 non-null   object \n",
      " 16  Price range           9542 non-null   int64  \n",
      " 17  Aggregate rating      9542 non-null   float64\n",
      " 18  Rating color          9542 non-null   object \n",
      " 19  Rating text           9542 non-null   object \n",
      " 20  Votes                 9542 non-null   int64  \n",
      "dtypes: float64(3), int64(5), object(13)\n",
      "memory usage: 1.6+ MB\n"
     ]
    }
   ],
   "source": [
    "df.info()"
   ]
  },
  {
   "cell_type": "markdown",
   "id": "1-eUsYQ1VYol",
   "metadata": {
    "id": "1-eUsYQ1VYol"
   },
   "source": [
    "#### **Observation**\n",
    "\n",
    "1. The dataset has 9,551 records with 21 columns.\n",
    "2. No duplicate record\n",
    "3. Tbe cuisines column contained 9 missing records and these records were dropped from the dataset."
   ]
  },
  {
   "cell_type": "markdown",
   "id": "ce8d1018-c2ee-4c93-bc5c-24c9ef36d1be",
   "metadata": {
    "id": "ce8d1018-c2ee-4c93-bc5c-24c9ef36d1be"
   },
   "source": [
    "### 2. i. **Aggregate Rating (Target Variable) Distribution**"
   ]
  },
  {
   "cell_type": "code",
   "execution_count": 14,
   "id": "b7a4179a-f0e2-4770-98ac-44c880788f70",
   "metadata": {
    "colab": {
     "base_uri": "https://localhost:8080/",
     "height": 504
    },
    "id": "b7a4179a-f0e2-4770-98ac-44c880788f70",
    "outputId": "576227c4-5aed-40a3-c45c-31b579340f09"
   },
   "outputs": [
    {
     "name": "stdout",
     "output_type": "stream",
     "text": [
      "Skewness: -0.9530521389484676\n"
     ]
    },
    {
     "data": {
      "image/png": "[encoded data removed]",
      "text/plain": [
       "<Figure size 800x300 with 2 Axes>"
      ]
     },
     "metadata": {},
     "output_type": "display_data"
    }
   ],
   "source": [
    "Skewness = df['Aggregate rating'].skew()\n",
    "print(f\"Skewness: {Skewness}\")\n",
    "plt.figure(figsize = (8,3))\n",
    "plt.subplot(1,2,1)\n",
    "sns.histplot(df['Aggregate rating'], kde = True, bins = 20)\n",
    "plt.title(\"Aggregate rating Distribution\")\n",
    "plt.subplot(1,2,2)\n",
    "sns.boxplot(x = df['Aggregate rating'], color = 'red' )\n",
    "plt.title(\"Aggregate rating Boxplot\")\n",
    "plt.show()"
   ]
  },
  {
   "cell_type": "markdown",
   "id": "17c3d778-699e-4252-838e-fd4564e692e2",
   "metadata": {
    "id": "17c3d778-699e-4252-838e-fd4564e692e2"
   },
   "source": [
    "### ii. Class Imbalance"
   ]
  },
  {
   "cell_type": "raw",
   "id": "e057d123-c953-4d41-aced-427f44c5fe59",
   "metadata": {
    "id": "e057d123-c953-4d41-aced-427f44c5fe59"
   },
   "source": [
    "The class imbalance shows the frequency of each of the \"Aggregate rating\"."
   ]
  },
  {
   "cell_type": "code",
   "execution_count": 15,
   "id": "a9188e0d-c21d-45d7-85ab-5e904a8bc7e5",
   "metadata": {
    "id": "a9188e0d-c21d-45d7-85ab-5e904a8bc7e5"
   },
   "outputs": [],
   "source": [
    "rating_count = df['Aggregate rating'].value_counts()\n"
   ]
  },
  {
   "cell_type": "code",
   "execution_count": 16,
   "id": "67cd3dcb-9ccf-4c28-a005-8fde2a139ede",
   "metadata": {
    "colab": {
     "base_uri": "https://localhost:8080/",
     "height": 1000
    },
    "id": "67cd3dcb-9ccf-4c28-a005-8fde2a139ede",
    "outputId": "5e4fd042-66f9-4f86-d5e3-a41affe79333",
    "scrolled": true
   },
   "outputs": [
    {
     "data": {
      "text/html": [
       "<div>\n",
       "<style scoped>\n",
       "    .dataframe tbody tr th:only-of-type {\n",
       "        vertical-align: middle;\n",
       "    }\n",
       "\n",
       "    .dataframe tbody tr th {\n",
       "        vertical-align: top;\n",
       "    }\n",
       "\n",
       "    .dataframe thead th {\n",
       "        text-align: right;\n",
       "    }\n",
       "</style>\n",
       "<table border=\"1\" class=\"dataframe\">\n",
       "  <thead>\n",
       "    <tr style=\"text-align: right;\">\n",
       "      <th></th>\n",
       "      <th>rating count</th>\n",
       "      <th>percentage</th>\n",
       "    </tr>\n",
       "    <tr>\n",
       "      <th>Aggregate rating</th>\n",
       "      <th></th>\n",
       "      <th></th>\n",
       "    </tr>\n",
       "  </thead>\n",
       "  <tbody>\n",
       "    <tr>\n",
       "      <th>0.0</th>\n",
       "      <td>2148</td>\n",
       "      <td>22.51</td>\n",
       "    </tr>\n",
       "    <tr>\n",
       "      <th>3.2</th>\n",
       "      <td>522</td>\n",
       "      <td>5.47</td>\n",
       "    </tr>\n",
       "    <tr>\n",
       "      <th>3.1</th>\n",
       "      <td>519</td>\n",
       "      <td>5.44</td>\n",
       "    </tr>\n",
       "    <tr>\n",
       "      <th>3.4</th>\n",
       "      <td>495</td>\n",
       "      <td>5.19</td>\n",
       "    </tr>\n",
       "    <tr>\n",
       "      <th>3.3</th>\n",
       "      <td>483</td>\n",
       "      <td>5.06</td>\n",
       "    </tr>\n",
       "    <tr>\n",
       "      <th>3.5</th>\n",
       "      <td>480</td>\n",
       "      <td>5.03</td>\n",
       "    </tr>\n",
       "    <tr>\n",
       "      <th>3.0</th>\n",
       "      <td>468</td>\n",
       "      <td>4.90</td>\n",
       "    </tr>\n",
       "    <tr>\n",
       "      <th>3.6</th>\n",
       "      <td>458</td>\n",
       "      <td>4.80</td>\n",
       "    </tr>\n",
       "    <tr>\n",
       "      <th>3.7</th>\n",
       "      <td>427</td>\n",
       "      <td>4.47</td>\n",
       "    </tr>\n",
       "    <tr>\n",
       "      <th>3.8</th>\n",
       "      <td>399</td>\n",
       "      <td>4.18</td>\n",
       "    </tr>\n",
       "    <tr>\n",
       "      <th>2.9</th>\n",
       "      <td>381</td>\n",
       "      <td>3.99</td>\n",
       "    </tr>\n",
       "    <tr>\n",
       "      <th>3.9</th>\n",
       "      <td>332</td>\n",
       "      <td>3.48</td>\n",
       "    </tr>\n",
       "    <tr>\n",
       "      <th>2.8</th>\n",
       "      <td>315</td>\n",
       "      <td>3.30</td>\n",
       "    </tr>\n",
       "    <tr>\n",
       "      <th>4.1</th>\n",
       "      <td>274</td>\n",
       "      <td>2.87</td>\n",
       "    </tr>\n",
       "    <tr>\n",
       "      <th>4.0</th>\n",
       "      <td>266</td>\n",
       "      <td>2.79</td>\n",
       "    </tr>\n",
       "    <tr>\n",
       "      <th>2.7</th>\n",
       "      <td>250</td>\n",
       "      <td>2.62</td>\n",
       "    </tr>\n",
       "    <tr>\n",
       "      <th>4.2</th>\n",
       "      <td>221</td>\n",
       "      <td>2.32</td>\n",
       "    </tr>\n",
       "    <tr>\n",
       "      <th>2.6</th>\n",
       "      <td>191</td>\n",
       "      <td>2.00</td>\n",
       "    </tr>\n",
       "    <tr>\n",
       "      <th>4.3</th>\n",
       "      <td>174</td>\n",
       "      <td>1.82</td>\n",
       "    </tr>\n",
       "    <tr>\n",
       "      <th>4.4</th>\n",
       "      <td>143</td>\n",
       "      <td>1.50</td>\n",
       "    </tr>\n",
       "    <tr>\n",
       "      <th>2.5</th>\n",
       "      <td>110</td>\n",
       "      <td>1.15</td>\n",
       "    </tr>\n",
       "    <tr>\n",
       "      <th>4.5</th>\n",
       "      <td>95</td>\n",
       "      <td>1.00</td>\n",
       "    </tr>\n",
       "    <tr>\n",
       "      <th>2.4</th>\n",
       "      <td>87</td>\n",
       "      <td>0.91</td>\n",
       "    </tr>\n",
       "    <tr>\n",
       "      <th>4.6</th>\n",
       "      <td>78</td>\n",
       "      <td>0.82</td>\n",
       "    </tr>\n",
       "    <tr>\n",
       "      <th>4.9</th>\n",
       "      <td>61</td>\n",
       "      <td>0.64</td>\n",
       "    </tr>\n",
       "    <tr>\n",
       "      <th>2.3</th>\n",
       "      <td>47</td>\n",
       "      <td>0.49</td>\n",
       "    </tr>\n",
       "    <tr>\n",
       "      <th>4.7</th>\n",
       "      <td>41</td>\n",
       "      <td>0.43</td>\n",
       "    </tr>\n",
       "    <tr>\n",
       "      <th>2.2</th>\n",
       "      <td>27</td>\n",
       "      <td>0.28</td>\n",
       "    </tr>\n",
       "    <tr>\n",
       "      <th>4.8</th>\n",
       "      <td>25</td>\n",
       "      <td>0.26</td>\n",
       "    </tr>\n",
       "    <tr>\n",
       "      <th>2.1</th>\n",
       "      <td>15</td>\n",
       "      <td>0.16</td>\n",
       "    </tr>\n",
       "    <tr>\n",
       "      <th>2.0</th>\n",
       "      <td>7</td>\n",
       "      <td>0.07</td>\n",
       "    </tr>\n",
       "    <tr>\n",
       "      <th>1.9</th>\n",
       "      <td>2</td>\n",
       "      <td>0.02</td>\n",
       "    </tr>\n",
       "    <tr>\n",
       "      <th>1.8</th>\n",
       "      <td>1</td>\n",
       "      <td>0.01</td>\n",
       "    </tr>\n",
       "  </tbody>\n",
       "</table>\n",
       "</div>"
      ],
      "text/plain": [
       "                  rating count  percentage\n",
       "Aggregate rating                          \n",
       "0.0                       2148       22.51\n",
       "3.2                        522        5.47\n",
       "3.1                        519        5.44\n",
       "3.4                        495        5.19\n",
       "3.3                        483        5.06\n",
       "3.5                        480        5.03\n",
       "3.0                        468        4.90\n",
       "3.6                        458        4.80\n",
       "3.7                        427        4.47\n",
       "3.8                        399        4.18\n",
       "2.9                        381        3.99\n",
       "3.9                        332        3.48\n",
       "2.8                        315        3.30\n",
       "4.1                        274        2.87\n",
       "4.0                        266        2.79\n",
       "2.7                        250        2.62\n",
       "4.2                        221        2.32\n",
       "2.6                        191        2.00\n",
       "4.3                        174        1.82\n",
       "4.4                        143        1.50\n",
       "2.5                        110        1.15\n",
       "4.5                         95        1.00\n",
       "2.4                         87        0.91\n",
       "4.6                         78        0.82\n",
       "4.9                         61        0.64\n",
       "2.3                         47        0.49\n",
       "4.7                         41        0.43\n",
       "2.2                         27        0.28\n",
       "4.8                         25        0.26\n",
       "2.1                         15        0.16\n",
       "2.0                          7        0.07\n",
       "1.9                          2        0.02\n",
       "1.8                          1        0.01"
      ]
     },
     "execution_count": 16,
     "metadata": {},
     "output_type": "execute_result"
    }
   ],
   "source": [
    "pd.DataFrame({'rating count': rating_count,\n",
    "             'percentage': round((rating_count/len(df))* 100, 2)})"
   ]
  },
  {
   "cell_type": "code",
   "execution_count": 17,
   "id": "65fb36f0-d39f-4a25-8971-6151e73a7e37",
   "metadata": {
    "colab": {
     "base_uri": "https://localhost:8080/",
     "height": 458
    },
    "id": "65fb36f0-d39f-4a25-8971-6151e73a7e37",
    "outputId": "678cd9fd-c7d7-41d5-9814-86aabd5a90e1",
    "scrolled": true
   },
   "outputs": [
    {
     "data": {
      "image/png": "[encoded data removed]",
      "text/plain": [
       "<Figure size 800x300 with 1 Axes>"
      ]
     },
     "metadata": {},
     "output_type": "display_data"
    }
   ],
   "source": [
    "plt.figure(figsize=(8,3))\n",
    "sns.countplot(x=df['Aggregate rating'])\n",
    "plt.xticks(rotation=90, ha='right')\n",
    "plt.show()"
   ]
  },
  {
   "cell_type": "markdown",
   "id": "RSgyg4PvaRGk",
   "metadata": {
    "id": "RSgyg4PvaRGk"
   },
   "source": [
    "#### **Observation**\n",
    "\n",
    "i. From the Distribution, we can see that the Target Variable is moderately left skewed with a skewness of -0.954 approximately. Also, the target variable(Aggregate rating) has some lower bound outliers.\n",
    "ii. Class imbalance: It can be seen that the 0 rating constituted 22.5% approximately. However, class imabalance will not be addressed in the project because it is a regression problem and not classification problem."
   ]
  },
  {
   "cell_type": "markdown",
   "id": "f836ac64-690a-4be2-9cc2-4fba1f9fff0c",
   "metadata": {
    "id": "f836ac64-690a-4be2-9cc2-4fba1f9fff0c"
   },
   "source": [
    "## 3. **Descriptive Analysis**"
   ]
  },
  {
   "cell_type": "markdown",
   "id": "60ee3951-ef39-4523-ab64-605a38809805",
   "metadata": {
    "id": "60ee3951-ef39-4523-ab64-605a38809805"
   },
   "source": [
    "### i. Statistics for Numerical Columns"
   ]
  },
  {
   "cell_type": "code",
   "execution_count": 18,
   "id": "7cb68c01-f1a0-4e1f-959f-ac7422a1d36f",
   "metadata": {
    "colab": {
     "base_uri": "https://localhost:8080/",
     "height": 300
    },
    "id": "7cb68c01-f1a0-4e1f-959f-ac7422a1d36f",
    "outputId": "61daac3f-db52-41c3-f7be-da535cd4a52c"
   },
   "outputs": [
    {
     "data": {
      "text/html": [
       "<div>\n",
       "<style scoped>\n",
       "    .dataframe tbody tr th:only-of-type {\n",
       "        vertical-align: middle;\n",
       "    }\n",
       "\n",
       "    .dataframe tbody tr th {\n",
       "        vertical-align: top;\n",
       "    }\n",
       "\n",
       "    .dataframe thead th {\n",
       "        text-align: right;\n",
       "    }\n",
       "</style>\n",
       "<table border=\"1\" class=\"dataframe\">\n",
       "  <thead>\n",
       "    <tr style=\"text-align: right;\">\n",
       "      <th></th>\n",
       "      <th>count</th>\n",
       "      <th>mean</th>\n",
       "      <th>std</th>\n",
       "      <th>min</th>\n",
       "      <th>25%</th>\n",
       "      <th>50%</th>\n",
       "      <th>75%</th>\n",
       "      <th>max</th>\n",
       "    </tr>\n",
       "  </thead>\n",
       "  <tbody>\n",
       "    <tr>\n",
       "      <th>Restaurant ID</th>\n",
       "      <td>9542.0</td>\n",
       "      <td>9.043301e+06</td>\n",
       "      <td>8.791967e+06</td>\n",
       "      <td>53.000000</td>\n",
       "      <td>301931.250000</td>\n",
       "      <td>6.002726e+06</td>\n",
       "      <td>1.835260e+07</td>\n",
       "      <td>1.850065e+07</td>\n",
       "    </tr>\n",
       "    <tr>\n",
       "      <th>Country Code</th>\n",
       "      <td>9542.0</td>\n",
       "      <td>1.817921e+01</td>\n",
       "      <td>5.645160e+01</td>\n",
       "      <td>1.000000</td>\n",
       "      <td>1.000000</td>\n",
       "      <td>1.000000e+00</td>\n",
       "      <td>1.000000e+00</td>\n",
       "      <td>2.160000e+02</td>\n",
       "    </tr>\n",
       "    <tr>\n",
       "      <th>Longitude</th>\n",
       "      <td>9542.0</td>\n",
       "      <td>6.427500e+01</td>\n",
       "      <td>4.119760e+01</td>\n",
       "      <td>-157.948486</td>\n",
       "      <td>77.081565</td>\n",
       "      <td>7.719203e+01</td>\n",
       "      <td>7.728204e+01</td>\n",
       "      <td>1.748321e+02</td>\n",
       "    </tr>\n",
       "    <tr>\n",
       "      <th>Latitude</th>\n",
       "      <td>9542.0</td>\n",
       "      <td>2.584853e+01</td>\n",
       "      <td>1.101009e+01</td>\n",
       "      <td>-41.330428</td>\n",
       "      <td>28.478658</td>\n",
       "      <td>2.857044e+01</td>\n",
       "      <td>2.864271e+01</td>\n",
       "      <td>5.597698e+01</td>\n",
       "    </tr>\n",
       "    <tr>\n",
       "      <th>Average Cost for two</th>\n",
       "      <td>9542.0</td>\n",
       "      <td>1.200326e+03</td>\n",
       "      <td>1.612874e+04</td>\n",
       "      <td>0.000000</td>\n",
       "      <td>250.000000</td>\n",
       "      <td>4.000000e+02</td>\n",
       "      <td>7.000000e+02</td>\n",
       "      <td>8.000000e+05</td>\n",
       "    </tr>\n",
       "    <tr>\n",
       "      <th>Price range</th>\n",
       "      <td>9542.0</td>\n",
       "      <td>1.804968e+00</td>\n",
       "      <td>9.055631e-01</td>\n",
       "      <td>1.000000</td>\n",
       "      <td>1.000000</td>\n",
       "      <td>2.000000e+00</td>\n",
       "      <td>2.000000e+00</td>\n",
       "      <td>4.000000e+00</td>\n",
       "    </tr>\n",
       "    <tr>\n",
       "      <th>Aggregate rating</th>\n",
       "      <td>9542.0</td>\n",
       "      <td>2.665238e+00</td>\n",
       "      <td>1.516588e+00</td>\n",
       "      <td>0.000000</td>\n",
       "      <td>2.500000</td>\n",
       "      <td>3.200000e+00</td>\n",
       "      <td>3.700000e+00</td>\n",
       "      <td>4.900000e+00</td>\n",
       "    </tr>\n",
       "    <tr>\n",
       "      <th>Votes</th>\n",
       "      <td>9542.0</td>\n",
       "      <td>1.567721e+02</td>\n",
       "      <td>4.302033e+02</td>\n",
       "      <td>0.000000</td>\n",
       "      <td>5.000000</td>\n",
       "      <td>3.100000e+01</td>\n",
       "      <td>1.300000e+02</td>\n",
       "      <td>1.093400e+04</td>\n",
       "    </tr>\n",
       "  </tbody>\n",
       "</table>\n",
       "</div>"
      ],
      "text/plain": [
       "                       count          mean           std         min  \\\n",
       "Restaurant ID         9542.0  9.043301e+06  8.791967e+06   53.000000   \n",
       "Country Code          9542.0  1.817921e+01  5.645160e+01    1.000000   \n",
       "Longitude             9542.0  6.427500e+01  4.119760e+01 -157.948486   \n",
       "Latitude              9542.0  2.584853e+01  1.101009e+01  -41.330428   \n",
       "Average Cost for two  9542.0  1.200326e+03  1.612874e+04    0.000000   \n",
       "Price range           9542.0  1.804968e+00  9.055631e-01    1.000000   \n",
       "Aggregate rating      9542.0  2.665238e+00  1.516588e+00    0.000000   \n",
       "Votes                 9542.0  1.567721e+02  4.302033e+02    0.000000   \n",
       "\n",
       "                                25%           50%           75%           max  \n",
       "Restaurant ID         301931.250000  6.002726e+06  1.835260e+07  1.850065e+07  \n",
       "Country Code               1.000000  1.000000e+00  1.000000e+00  2.160000e+02  \n",
       "Longitude                 77.081565  7.719203e+01  7.728204e+01  1.748321e+02  \n",
       "Latitude                  28.478658  2.857044e+01  2.864271e+01  5.597698e+01  \n",
       "Average Cost for two     250.000000  4.000000e+02  7.000000e+02  8.000000e+05  \n",
       "Price range                1.000000  2.000000e+00  2.000000e+00  4.000000e+00  \n",
       "Aggregate rating           2.500000  3.200000e+00  3.700000e+00  4.900000e+00  \n",
       "Votes                      5.000000  3.100000e+01  1.300000e+02  1.093400e+04  "
      ]
     },
     "execution_count": 18,
     "metadata": {},
     "output_type": "execute_result"
    }
   ],
   "source": [
    "df.describe().T"
   ]
  },
  {
   "cell_type": "markdown",
   "id": "43d3158a-49bd-4373-b9ec-77ceab5d8582",
   "metadata": {
    "id": "43d3158a-49bd-4373-b9ec-77ceab5d8582"
   },
   "source": [
    "### ii. Categorical Columns Exploration"
   ]
  },
  {
   "cell_type": "code",
   "execution_count": 19,
   "id": "d3454e71-6950-49cf-a1fe-5db300e2479c",
   "metadata": {
    "colab": {
     "base_uri": "https://localhost:8080/"
    },
    "id": "d3454e71-6950-49cf-a1fe-5db300e2479c",
    "outputId": "95f22f2f-df4b-4eba-a522-163ac2871b93"
   },
   "outputs": [
    {
     "data": {
      "text/plain": [
       "Index(['Restaurant Name', 'City', 'Address', 'Locality', 'Locality Verbose',\n",
       "       'Cuisines', 'Currency', 'Has Table booking', 'Has Online delivery',\n",
       "       'Is delivering now', 'Switch to order menu', 'Rating color',\n",
       "       'Rating text'],\n",
       "      dtype='object')"
      ]
     },
     "execution_count": 19,
     "metadata": {},
     "output_type": "execute_result"
    }
   ],
   "source": [
    "cat_col = df.select_dtypes(include=['object']).columns\n",
    "cat_col"
   ]
  },
  {
   "cell_type": "markdown",
   "id": "8f3aef43-6f1d-47f1-a412-56fa5354da60",
   "metadata": {
    "id": "8f3aef43-6f1d-47f1-a412-56fa5354da60"
   },
   "source": [
    "#### Unique values"
   ]
  },
  {
   "cell_type": "code",
   "execution_count": 20,
   "id": "a03d1ae0-f498-459a-a628-d3754e85d676",
   "metadata": {
    "colab": {
     "base_uri": "https://localhost:8080/",
     "height": 491
    },
    "id": "a03d1ae0-f498-459a-a628-d3754e85d676",
    "outputId": "8f925752-ae94-447e-e940-49677d69be94"
   },
   "outputs": [
    {
     "data": {
      "text/plain": [
       "Restaurant Name         7437\n",
       "City                     140\n",
       "Address                 8910\n",
       "Locality                1206\n",
       "Locality Verbose        1263\n",
       "Cuisines                1825\n",
       "Currency                  12\n",
       "Has Table booking          2\n",
       "Has Online delivery        2\n",
       "Is delivering now          2\n",
       "Switch to order menu       1\n",
       "Rating color               6\n",
       "Rating text                6\n",
       "dtype: int64"
      ]
     },
     "execution_count": 20,
     "metadata": {},
     "output_type": "execute_result"
    }
   ],
   "source": [
    "categorical_summary = df[cat_col].nunique()\n",
    "categorical_summary\n"
   ]
  },
  {
   "cell_type": "markdown",
   "id": "a89bc4a5-abb6-4e11-a7f6-e365ead1c035",
   "metadata": {
    "id": "a89bc4a5-abb6-4e11-a7f6-e365ead1c035"
   },
   "source": [
    "#### Values with the highest frequency"
   ]
  },
  {
   "cell_type": "code",
   "execution_count": 21,
   "id": "15f3e219-c16a-416f-8a61-de775412804d",
   "metadata": {
    "colab": {
     "base_uri": "https://localhost:8080/",
     "height": 167
    },
    "id": "15f3e219-c16a-416f-8a61-de775412804d",
    "outputId": "3757c449-aaa3-4ac6-c6a8-9459c1805cf3"
   },
   "outputs": [
    {
     "data": {
      "text/html": [
       "<div>\n",
       "<style scoped>\n",
       "    .dataframe tbody tr th:only-of-type {\n",
       "        vertical-align: middle;\n",
       "    }\n",
       "\n",
       "    .dataframe tbody tr th {\n",
       "        vertical-align: top;\n",
       "    }\n",
       "\n",
       "    .dataframe thead th {\n",
       "        text-align: right;\n",
       "    }\n",
       "</style>\n",
       "<table border=\"1\" class=\"dataframe\">\n",
       "  <thead>\n",
       "    <tr style=\"text-align: right;\">\n",
       "      <th></th>\n",
       "      <th>Restaurant Name</th>\n",
       "      <th>City</th>\n",
       "      <th>Address</th>\n",
       "      <th>Locality</th>\n",
       "      <th>Locality Verbose</th>\n",
       "      <th>Cuisines</th>\n",
       "      <th>Currency</th>\n",
       "      <th>Has Table booking</th>\n",
       "      <th>Has Online delivery</th>\n",
       "      <th>Is delivering now</th>\n",
       "      <th>Switch to order menu</th>\n",
       "      <th>Rating color</th>\n",
       "      <th>Rating text</th>\n",
       "    </tr>\n",
       "  </thead>\n",
       "  <tbody>\n",
       "    <tr>\n",
       "      <th>Mode</th>\n",
       "      <td>Cafe Coffee Day</td>\n",
       "      <td>New Delhi</td>\n",
       "      <td>Dilli Haat, INA, New Delhi</td>\n",
       "      <td>Connaught Place</td>\n",
       "      <td>Connaught Place, New Delhi</td>\n",
       "      <td>North Indian</td>\n",
       "      <td>Indian Rupees(Rs.)</td>\n",
       "      <td>No</td>\n",
       "      <td>No</td>\n",
       "      <td>No</td>\n",
       "      <td>No</td>\n",
       "      <td>Orange</td>\n",
       "      <td>Average</td>\n",
       "    </tr>\n",
       "  </tbody>\n",
       "</table>\n",
       "</div>"
      ],
      "text/plain": [
       "      Restaurant Name       City                     Address         Locality  \\\n",
       "Mode  Cafe Coffee Day  New Delhi  Dilli Haat, INA, New Delhi  Connaught Place   \n",
       "\n",
       "                Locality Verbose      Cuisines            Currency  \\\n",
       "Mode  Connaught Place, New Delhi  North Indian  Indian Rupees(Rs.)   \n",
       "\n",
       "     Has Table booking Has Online delivery Is delivering now  \\\n",
       "Mode                No                  No                No   \n",
       "\n",
       "     Switch to order menu Rating color Rating text  \n",
       "Mode                   No       Orange     Average  "
      ]
     },
     "execution_count": 21,
     "metadata": {},
     "output_type": "execute_result"
    }
   ],
   "source": [
    "mode_df = pd.DataFrame(\n",
    "    {col: df[col].mode()[0] for col in cat_col}, index=['Mode'])\n",
    "mode_df"
   ]
  },
  {
   "cell_type": "markdown",
   "id": "d59819bb-352f-4356-affe-6e7d3a6fbc5c",
   "metadata": {
    "id": "d59819bb-352f-4356-affe-6e7d3a6fbc5c"
   },
   "source": [
    "#### Top 5 Cuisines by Value count"
   ]
  },
  {
   "cell_type": "code",
   "execution_count": 22,
   "id": "01bd5764-297a-43a5-a7ea-cd58a4a63df7",
   "metadata": {},
   "outputs": [],
   "source": [
    "df_exploded = df"
   ]
  },
  {
   "cell_type": "code",
   "execution_count": 23,
   "id": "dcb052e5-b9ac-40d6-95c6-db7b0aacb72c",
   "metadata": {},
   "outputs": [
    {
     "data": {
      "text/plain": [
       "0              [French,  Japanese,  Desserts]\n",
       "1                                  [Japanese]\n",
       "2       [Seafood,  Asian,  Filipino,  Indian]\n",
       "3                          [Japanese,  Sushi]\n",
       "4                         [Japanese,  Korean]\n",
       "                        ...                  \n",
       "9546                                [Turkish]\n",
       "9547      [World Cuisine,  Patisserie,  Cafe]\n",
       "9548                [Italian,  World Cuisine]\n",
       "9549                        [Restaurant Cafe]\n",
       "9550                                   [Cafe]\n",
       "Name: Cuisines, Length: 9542, dtype: object"
      ]
     },
     "execution_count": 23,
     "metadata": {},
     "output_type": "execute_result"
    }
   ],
   "source": [
    "# Split\n",
    "df_exploded['Cuisines'] = df_exploded['Cuisines'].str.split(',', regex=False)\n",
    "\n",
    "df_exploded['Cuisines']"
   ]
  },
  {
   "cell_type": "code",
   "execution_count": 24,
   "id": "c1f52738-09c8-40bd-8942-e283364101e0",
   "metadata": {},
   "outputs": [],
   "source": [
    "#df.to_csv('exploded.csv')"
   ]
  },
  {
   "cell_type": "code",
   "execution_count": 25,
   "id": "36ab1924-cd0d-45d4-a2f2-1467dac6929a",
   "metadata": {
    "scrolled": true
   },
   "outputs": [
    {
     "data": {
      "text/html": [
       "<div>\n",
       "<style scoped>\n",
       "    .dataframe tbody tr th:only-of-type {\n",
       "        vertical-align: middle;\n",
       "    }\n",
       "\n",
       "    .dataframe tbody tr th {\n",
       "        vertical-align: top;\n",
       "    }\n",
       "\n",
       "    .dataframe thead th {\n",
       "        text-align: right;\n",
       "    }\n",
       "</style>\n",
       "<table border=\"1\" class=\"dataframe\">\n",
       "  <thead>\n",
       "    <tr style=\"text-align: right;\">\n",
       "      <th></th>\n",
       "      <th>Restaurant ID</th>\n",
       "      <th>Restaurant Name</th>\n",
       "      <th>Country Code</th>\n",
       "      <th>City</th>\n",
       "      <th>Address</th>\n",
       "      <th>Locality</th>\n",
       "      <th>Locality Verbose</th>\n",
       "      <th>Longitude</th>\n",
       "      <th>Latitude</th>\n",
       "      <th>Cuisines</th>\n",
       "      <th>...</th>\n",
       "      <th>Currency</th>\n",
       "      <th>Has Table booking</th>\n",
       "      <th>Has Online delivery</th>\n",
       "      <th>Is delivering now</th>\n",
       "      <th>Switch to order menu</th>\n",
       "      <th>Price range</th>\n",
       "      <th>Aggregate rating</th>\n",
       "      <th>Rating color</th>\n",
       "      <th>Rating text</th>\n",
       "      <th>Votes</th>\n",
       "    </tr>\n",
       "  </thead>\n",
       "  <tbody>\n",
       "    <tr>\n",
       "      <th>0</th>\n",
       "      <td>6317637</td>\n",
       "      <td>Le Petit Souffle</td>\n",
       "      <td>162</td>\n",
       "      <td>Makati City</td>\n",
       "      <td>Third Floor, Century City Mall, Kalayaan Avenu...</td>\n",
       "      <td>Century City Mall, Poblacion, Makati City</td>\n",
       "      <td>Century City Mall, Poblacion, Makati City, Mak...</td>\n",
       "      <td>121.027535</td>\n",
       "      <td>14.565443</td>\n",
       "      <td>French</td>\n",
       "      <td>...</td>\n",
       "      <td>Botswana Pula(P)</td>\n",
       "      <td>Yes</td>\n",
       "      <td>No</td>\n",
       "      <td>No</td>\n",
       "      <td>No</td>\n",
       "      <td>3</td>\n",
       "      <td>4.8</td>\n",
       "      <td>Dark Green</td>\n",
       "      <td>Excellent</td>\n",
       "      <td>314</td>\n",
       "    </tr>\n",
       "    <tr>\n",
       "      <th>0</th>\n",
       "      <td>6317637</td>\n",
       "      <td>Le Petit Souffle</td>\n",
       "      <td>162</td>\n",
       "      <td>Makati City</td>\n",
       "      <td>Third Floor, Century City Mall, Kalayaan Avenu...</td>\n",
       "      <td>Century City Mall, Poblacion, Makati City</td>\n",
       "      <td>Century City Mall, Poblacion, Makati City, Mak...</td>\n",
       "      <td>121.027535</td>\n",
       "      <td>14.565443</td>\n",
       "      <td>Japanese</td>\n",
       "      <td>...</td>\n",
       "      <td>Botswana Pula(P)</td>\n",
       "      <td>Yes</td>\n",
       "      <td>No</td>\n",
       "      <td>No</td>\n",
       "      <td>No</td>\n",
       "      <td>3</td>\n",
       "      <td>4.8</td>\n",
       "      <td>Dark Green</td>\n",
       "      <td>Excellent</td>\n",
       "      <td>314</td>\n",
       "    </tr>\n",
       "    <tr>\n",
       "      <th>0</th>\n",
       "      <td>6317637</td>\n",
       "      <td>Le Petit Souffle</td>\n",
       "      <td>162</td>\n",
       "      <td>Makati City</td>\n",
       "      <td>Third Floor, Century City Mall, Kalayaan Avenu...</td>\n",
       "      <td>Century City Mall, Poblacion, Makati City</td>\n",
       "      <td>Century City Mall, Poblacion, Makati City, Mak...</td>\n",
       "      <td>121.027535</td>\n",
       "      <td>14.565443</td>\n",
       "      <td>Desserts</td>\n",
       "      <td>...</td>\n",
       "      <td>Botswana Pula(P)</td>\n",
       "      <td>Yes</td>\n",
       "      <td>No</td>\n",
       "      <td>No</td>\n",
       "      <td>No</td>\n",
       "      <td>3</td>\n",
       "      <td>4.8</td>\n",
       "      <td>Dark Green</td>\n",
       "      <td>Excellent</td>\n",
       "      <td>314</td>\n",
       "    </tr>\n",
       "    <tr>\n",
       "      <th>1</th>\n",
       "      <td>6304287</td>\n",
       "      <td>Izakaya Kikufuji</td>\n",
       "      <td>162</td>\n",
       "      <td>Makati City</td>\n",
       "      <td>Little Tokyo, 2277 Chino Roces Avenue, Legaspi...</td>\n",
       "      <td>Little Tokyo, Legaspi Village, Makati City</td>\n",
       "      <td>Little Tokyo, Legaspi Village, Makati City, Ma...</td>\n",
       "      <td>121.014101</td>\n",
       "      <td>14.553708</td>\n",
       "      <td>Japanese</td>\n",
       "      <td>...</td>\n",
       "      <td>Botswana Pula(P)</td>\n",
       "      <td>Yes</td>\n",
       "      <td>No</td>\n",
       "      <td>No</td>\n",
       "      <td>No</td>\n",
       "      <td>3</td>\n",
       "      <td>4.5</td>\n",
       "      <td>Dark Green</td>\n",
       "      <td>Excellent</td>\n",
       "      <td>591</td>\n",
       "    </tr>\n",
       "    <tr>\n",
       "      <th>2</th>\n",
       "      <td>6300002</td>\n",
       "      <td>Heat - Edsa Shangri-La</td>\n",
       "      <td>162</td>\n",
       "      <td>Mandaluyong City</td>\n",
       "      <td>Edsa Shangri-La, 1 Garden Way, Ortigas, Mandal...</td>\n",
       "      <td>Edsa Shangri-La, Ortigas, Mandaluyong City</td>\n",
       "      <td>Edsa Shangri-La, Ortigas, Mandaluyong City, Ma...</td>\n",
       "      <td>121.056831</td>\n",
       "      <td>14.581404</td>\n",
       "      <td>Seafood</td>\n",
       "      <td>...</td>\n",
       "      <td>Botswana Pula(P)</td>\n",
       "      <td>Yes</td>\n",
       "      <td>No</td>\n",
       "      <td>No</td>\n",
       "      <td>No</td>\n",
       "      <td>4</td>\n",
       "      <td>4.4</td>\n",
       "      <td>Green</td>\n",
       "      <td>Very Good</td>\n",
       "      <td>270</td>\n",
       "    </tr>\n",
       "    <tr>\n",
       "      <th>...</th>\n",
       "      <td>...</td>\n",
       "      <td>...</td>\n",
       "      <td>...</td>\n",
       "      <td>...</td>\n",
       "      <td>...</td>\n",
       "      <td>...</td>\n",
       "      <td>...</td>\n",
       "      <td>...</td>\n",
       "      <td>...</td>\n",
       "      <td>...</td>\n",
       "      <td>...</td>\n",
       "      <td>...</td>\n",
       "      <td>...</td>\n",
       "      <td>...</td>\n",
       "      <td>...</td>\n",
       "      <td>...</td>\n",
       "      <td>...</td>\n",
       "      <td>...</td>\n",
       "      <td>...</td>\n",
       "      <td>...</td>\n",
       "      <td>...</td>\n",
       "    </tr>\n",
       "    <tr>\n",
       "      <th>9547</th>\n",
       "      <td>5908749</td>\n",
       "      <td>Ceviz A��ac۱</td>\n",
       "      <td>208</td>\n",
       "      <td>��stanbul</td>\n",
       "      <td>Ko��uyolu Mahallesi, Muhittin ��st�_nda�� Cadd...</td>\n",
       "      <td>Ko��uyolu</td>\n",
       "      <td>Ko��uyolu, ��stanbul</td>\n",
       "      <td>29.041297</td>\n",
       "      <td>41.009847</td>\n",
       "      <td>Cafe</td>\n",
       "      <td>...</td>\n",
       "      <td>Turkish Lira(TL)</td>\n",
       "      <td>No</td>\n",
       "      <td>No</td>\n",
       "      <td>No</td>\n",
       "      <td>No</td>\n",
       "      <td>3</td>\n",
       "      <td>4.2</td>\n",
       "      <td>Green</td>\n",
       "      <td>Very Good</td>\n",
       "      <td>1034</td>\n",
       "    </tr>\n",
       "    <tr>\n",
       "      <th>9548</th>\n",
       "      <td>5915807</td>\n",
       "      <td>Huqqa</td>\n",
       "      <td>208</td>\n",
       "      <td>��stanbul</td>\n",
       "      <td>Kuru�_e��me Mahallesi, Muallim Naci Caddesi, N...</td>\n",
       "      <td>Kuru�_e��me</td>\n",
       "      <td>Kuru�_e��me, ��stanbul</td>\n",
       "      <td>29.034640</td>\n",
       "      <td>41.055817</td>\n",
       "      <td>Italian</td>\n",
       "      <td>...</td>\n",
       "      <td>Turkish Lira(TL)</td>\n",
       "      <td>No</td>\n",
       "      <td>No</td>\n",
       "      <td>No</td>\n",
       "      <td>No</td>\n",
       "      <td>4</td>\n",
       "      <td>3.7</td>\n",
       "      <td>Yellow</td>\n",
       "      <td>Good</td>\n",
       "      <td>661</td>\n",
       "    </tr>\n",
       "    <tr>\n",
       "      <th>9548</th>\n",
       "      <td>5915807</td>\n",
       "      <td>Huqqa</td>\n",
       "      <td>208</td>\n",
       "      <td>��stanbul</td>\n",
       "      <td>Kuru�_e��me Mahallesi, Muallim Naci Caddesi, N...</td>\n",
       "      <td>Kuru�_e��me</td>\n",
       "      <td>Kuru�_e��me, ��stanbul</td>\n",
       "      <td>29.034640</td>\n",
       "      <td>41.055817</td>\n",
       "      <td>World Cuisine</td>\n",
       "      <td>...</td>\n",
       "      <td>Turkish Lira(TL)</td>\n",
       "      <td>No</td>\n",
       "      <td>No</td>\n",
       "      <td>No</td>\n",
       "      <td>No</td>\n",
       "      <td>4</td>\n",
       "      <td>3.7</td>\n",
       "      <td>Yellow</td>\n",
       "      <td>Good</td>\n",
       "      <td>661</td>\n",
       "    </tr>\n",
       "    <tr>\n",
       "      <th>9549</th>\n",
       "      <td>5916112</td>\n",
       "      <td>A���k Kahve</td>\n",
       "      <td>208</td>\n",
       "      <td>��stanbul</td>\n",
       "      <td>Kuru�_e��me Mahallesi, Muallim Naci Caddesi, N...</td>\n",
       "      <td>Kuru�_e��me</td>\n",
       "      <td>Kuru�_e��me, ��stanbul</td>\n",
       "      <td>29.036019</td>\n",
       "      <td>41.057979</td>\n",
       "      <td>Restaurant Cafe</td>\n",
       "      <td>...</td>\n",
       "      <td>Turkish Lira(TL)</td>\n",
       "      <td>No</td>\n",
       "      <td>No</td>\n",
       "      <td>No</td>\n",
       "      <td>No</td>\n",
       "      <td>4</td>\n",
       "      <td>4.0</td>\n",
       "      <td>Green</td>\n",
       "      <td>Very Good</td>\n",
       "      <td>901</td>\n",
       "    </tr>\n",
       "    <tr>\n",
       "      <th>9550</th>\n",
       "      <td>5927402</td>\n",
       "      <td>Walter's Coffee Roastery</td>\n",
       "      <td>208</td>\n",
       "      <td>��stanbul</td>\n",
       "      <td>Cafea��a Mahallesi, Bademalt۱ Sokak, No 21/B, ...</td>\n",
       "      <td>Moda</td>\n",
       "      <td>Moda, ��stanbul</td>\n",
       "      <td>29.026016</td>\n",
       "      <td>40.984776</td>\n",
       "      <td>Cafe</td>\n",
       "      <td>...</td>\n",
       "      <td>Turkish Lira(TL)</td>\n",
       "      <td>No</td>\n",
       "      <td>No</td>\n",
       "      <td>No</td>\n",
       "      <td>No</td>\n",
       "      <td>2</td>\n",
       "      <td>4.0</td>\n",
       "      <td>Green</td>\n",
       "      <td>Very Good</td>\n",
       "      <td>591</td>\n",
       "    </tr>\n",
       "  </tbody>\n",
       "</table>\n",
       "<p>19710 rows × 21 columns</p>\n",
       "</div>"
      ],
      "text/plain": [
       "      Restaurant ID           Restaurant Name  Country Code              City  \\\n",
       "0           6317637          Le Petit Souffle           162       Makati City   \n",
       "0           6317637          Le Petit Souffle           162       Makati City   \n",
       "0           6317637          Le Petit Souffle           162       Makati City   \n",
       "1           6304287          Izakaya Kikufuji           162       Makati City   \n",
       "2           6300002    Heat - Edsa Shangri-La           162  Mandaluyong City   \n",
       "...             ...                       ...           ...               ...   \n",
       "9547        5908749              Ceviz A��ac۱           208         ��stanbul   \n",
       "9548        5915807                     Huqqa           208         ��stanbul   \n",
       "9548        5915807                     Huqqa           208         ��stanbul   \n",
       "9549        5916112               A���k Kahve           208         ��stanbul   \n",
       "9550        5927402  Walter's Coffee Roastery           208         ��stanbul   \n",
       "\n",
       "                                                Address  \\\n",
       "0     Third Floor, Century City Mall, Kalayaan Avenu...   \n",
       "0     Third Floor, Century City Mall, Kalayaan Avenu...   \n",
       "0     Third Floor, Century City Mall, Kalayaan Avenu...   \n",
       "1     Little Tokyo, 2277 Chino Roces Avenue, Legaspi...   \n",
       "2     Edsa Shangri-La, 1 Garden Way, Ortigas, Mandal...   \n",
       "...                                                 ...   \n",
       "9547  Ko��uyolu Mahallesi, Muhittin ��st�_nda�� Cadd...   \n",
       "9548  Kuru�_e��me Mahallesi, Muallim Naci Caddesi, N...   \n",
       "9548  Kuru�_e��me Mahallesi, Muallim Naci Caddesi, N...   \n",
       "9549  Kuru�_e��me Mahallesi, Muallim Naci Caddesi, N...   \n",
       "9550  Cafea��a Mahallesi, Bademalt۱ Sokak, No 21/B, ...   \n",
       "\n",
       "                                        Locality  \\\n",
       "0      Century City Mall, Poblacion, Makati City   \n",
       "0      Century City Mall, Poblacion, Makati City   \n",
       "0      Century City Mall, Poblacion, Makati City   \n",
       "1     Little Tokyo, Legaspi Village, Makati City   \n",
       "2     Edsa Shangri-La, Ortigas, Mandaluyong City   \n",
       "...                                          ...   \n",
       "9547                                   Ko��uyolu   \n",
       "9548                                 Kuru�_e��me   \n",
       "9548                                 Kuru�_e��me   \n",
       "9549                                 Kuru�_e��me   \n",
       "9550                                        Moda   \n",
       "\n",
       "                                       Locality Verbose   Longitude  \\\n",
       "0     Century City Mall, Poblacion, Makati City, Mak...  121.027535   \n",
       "0     Century City Mall, Poblacion, Makati City, Mak...  121.027535   \n",
       "0     Century City Mall, Poblacion, Makati City, Mak...  121.027535   \n",
       "1     Little Tokyo, Legaspi Village, Makati City, Ma...  121.014101   \n",
       "2     Edsa Shangri-La, Ortigas, Mandaluyong City, Ma...  121.056831   \n",
       "...                                                 ...         ...   \n",
       "9547                               Ko��uyolu, ��stanbul   29.041297   \n",
       "9548                             Kuru�_e��me, ��stanbul   29.034640   \n",
       "9548                             Kuru�_e��me, ��stanbul   29.034640   \n",
       "9549                             Kuru�_e��me, ��stanbul   29.036019   \n",
       "9550                                    Moda, ��stanbul   29.026016   \n",
       "\n",
       "       Latitude         Cuisines  ...          Currency Has Table booking  \\\n",
       "0     14.565443           French  ...  Botswana Pula(P)               Yes   \n",
       "0     14.565443         Japanese  ...  Botswana Pula(P)               Yes   \n",
       "0     14.565443         Desserts  ...  Botswana Pula(P)               Yes   \n",
       "1     14.553708         Japanese  ...  Botswana Pula(P)               Yes   \n",
       "2     14.581404          Seafood  ...  Botswana Pula(P)               Yes   \n",
       "...         ...              ...  ...               ...               ...   \n",
       "9547  41.009847             Cafe  ...  Turkish Lira(TL)                No   \n",
       "9548  41.055817          Italian  ...  Turkish Lira(TL)                No   \n",
       "9548  41.055817    World Cuisine  ...  Turkish Lira(TL)                No   \n",
       "9549  41.057979  Restaurant Cafe  ...  Turkish Lira(TL)                No   \n",
       "9550  40.984776             Cafe  ...  Turkish Lira(TL)                No   \n",
       "\n",
       "     Has Online delivery Is delivering now Switch to order menu Price range  \\\n",
       "0                     No                No                   No           3   \n",
       "0                     No                No                   No           3   \n",
       "0                     No                No                   No           3   \n",
       "1                     No                No                   No           3   \n",
       "2                     No                No                   No           4   \n",
       "...                  ...               ...                  ...         ...   \n",
       "9547                  No                No                   No           3   \n",
       "9548                  No                No                   No           4   \n",
       "9548                  No                No                   No           4   \n",
       "9549                  No                No                   No           4   \n",
       "9550                  No                No                   No           2   \n",
       "\n",
       "      Aggregate rating  Rating color Rating text Votes  \n",
       "0                  4.8    Dark Green   Excellent   314  \n",
       "0                  4.8    Dark Green   Excellent   314  \n",
       "0                  4.8    Dark Green   Excellent   314  \n",
       "1                  4.5    Dark Green   Excellent   591  \n",
       "2                  4.4         Green   Very Good   270  \n",
       "...                ...           ...         ...   ...  \n",
       "9547               4.2         Green   Very Good  1034  \n",
       "9548               3.7        Yellow        Good   661  \n",
       "9548               3.7        Yellow        Good   661  \n",
       "9549               4.0         Green   Very Good   901  \n",
       "9550               4.0         Green   Very Good   591  \n",
       "\n",
       "[19710 rows x 21 columns]"
      ]
     },
     "execution_count": 25,
     "metadata": {},
     "output_type": "execute_result"
    }
   ],
   "source": [
    "# Unpivot the cuisines column so as to have the lumped cuisines on a separate row\n",
    "df_exploded = df_exploded.explode('Cuisines')\n",
    "df_exploded"
   ]
  },
  {
   "cell_type": "code",
   "execution_count": 26,
   "id": "1c79a552-b5e6-423e-a44d-06c2224bd584",
   "metadata": {},
   "outputs": [],
   "source": [
    "# Strip so as to clean white space\n",
    "df_exploded['Cuisines'] = df_exploded['Cuisines'].str.strip()\n"
   ]
  },
  {
   "cell_type": "code",
   "execution_count": 27,
   "id": "74e27355-000c-47fa-9750-ef0301b35a73",
   "metadata": {},
   "outputs": [
    {
     "data": {
      "text/plain": [
       "0      French\n",
       "0    Japanese\n",
       "0    Desserts\n",
       "1    Japanese\n",
       "2     Seafood\n",
       "2       Asian\n",
       "2    Filipino\n",
       "2      Indian\n",
       "3    Japanese\n",
       "3       Sushi\n",
       "Name: Cuisines, dtype: object"
      ]
     },
     "execution_count": 27,
     "metadata": {},
     "output_type": "execute_result"
    }
   ],
   "source": [
    "df_exploded['Cuisines'].head(10)"
   ]
  },
  {
   "cell_type": "markdown",
   "id": "fcf3bb99-32d3-4b5e-b057-291c2313a0a9",
   "metadata": {},
   "source": [
    "#### Top 5 Cuisines by Value Count"
   ]
  },
  {
   "cell_type": "code",
   "execution_count": 28,
   "id": "0dec3b6f-a25c-4b54-8051-62c487cc089a",
   "metadata": {
    "colab": {
     "base_uri": "https://localhost:8080/",
     "height": 272
    },
    "id": "0dec3b6f-a25c-4b54-8051-62c487cc089a",
    "outputId": "eab5744c-9a85-4e87-c9e0-6f3e26c1a4d3"
   },
   "outputs": [
    {
     "data": {
      "text/plain": [
       "Cuisines\n",
       "North Indian    3960\n",
       "Chinese         2735\n",
       "Fast Food       1986\n",
       "Mughlai          995\n",
       "Italian          764\n",
       "Name: count, dtype: int64"
      ]
     },
     "execution_count": 28,
     "metadata": {},
     "output_type": "execute_result"
    }
   ],
   "source": [
    "top5_cuisines = df_exploded['Cuisines'].value_counts().nlargest(5)\n",
    "top5_cuisines"
   ]
  },
  {
   "cell_type": "code",
   "execution_count": 29,
   "id": "754efc5e-d9da-4594-b07c-0ab167343bd3",
   "metadata": {
    "colab": {
     "base_uri": "https://localhost:8080/",
     "height": 472
    },
    "id": "754efc5e-d9da-4594-b07c-0ab167343bd3",
    "outputId": "8733c911-cf87-46d5-cd25-505f438c7b64"
   },
   "outputs": [
    {
     "data": {
      "image/png": "[encoded data removed]",
      "text/plain": [
       "<Figure size 500x300 with 1 Axes>"
      ]
     },
     "metadata": {},
     "output_type": "display_data"
    }
   ],
   "source": [
    "plt.figure(figsize=(5,3))\n",
    "sns.barplot(x=top5_cuisines.values, y=top5_cuisines.index, legend = False)\n",
    "plt.xlabel(\"Count\")\n",
    "plt.ylabel(\"Cuisines\")\n",
    "plt.title(\"Top 5 Cuisines by Count\")\n",
    "plt.show()"
   ]
  },
  {
   "cell_type": "markdown",
   "id": "4b35ea55-94b3-4102-a7ea-a9c1038b2c42",
   "metadata": {
    "id": "4b35ea55-94b3-4102-a7ea-a9c1038b2c42"
   },
   "source": [
    "#### Top 5 Cities by Value Count"
   ]
  },
  {
   "cell_type": "code",
   "execution_count": 30,
   "id": "e6ff56cc-2ab1-435b-810b-39360807e321",
   "metadata": {
    "colab": {
     "base_uri": "https://localhost:8080/",
     "height": 272
    },
    "id": "e6ff56cc-2ab1-435b-810b-39360807e321",
    "outputId": "567dbafa-abe1-414f-9247-1ace57bd54c3"
   },
   "outputs": [
    {
     "data": {
      "text/plain": [
       "City\n",
       "New Delhi    5473\n",
       "Gurgaon      1118\n",
       "Noida        1080\n",
       "Faridabad     251\n",
       "Ghaziabad      25\n",
       "Name: count, dtype: int64"
      ]
     },
     "execution_count": 30,
     "metadata": {},
     "output_type": "execute_result"
    }
   ],
   "source": [
    "top5_cities = df['City'].value_counts().nlargest(5)\n",
    "top5_cities"
   ]
  },
  {
   "cell_type": "code",
   "execution_count": 31,
   "id": "046cf042-ec28-4b78-bb30-b2d9a6bdd189",
   "metadata": {
    "colab": {
     "base_uri": "https://localhost:8080/",
     "height": 510
    },
    "id": "046cf042-ec28-4b78-bb30-b2d9a6bdd189",
    "outputId": "f437ad56-4e8b-475b-f85f-87466cb6d354"
   },
   "outputs": [
    {
     "data": {
      "image/png": "[encoded data removed]",
      "text/plain": [
       "<Figure size 500x300 with 1 Axes>"
      ]
     },
     "metadata": {},
     "output_type": "display_data"
    }
   ],
   "source": [
    "plt.figure(figsize=(5,3))\n",
    "df['City'].value_counts().nlargest(5).plot(kind =  'bar', color = 'purple')\n",
    "plt.title('Top 5 Cities by Value Count')\n",
    "plt.show()"
   ]
  },
  {
   "cell_type": "markdown",
   "id": "8O2Pi4Kl3s0W",
   "metadata": {
    "id": "8O2Pi4Kl3s0W"
   },
   "source": [
    "#### **Observation**\n",
    "\n",
    "1. It was observed that the cuisines feature have some records with multiple cuisines combined in one entry, separated by comma and this has to be treated in order to get top 5 cuisines by value count.\n",
    "2. North Indian cuisines has the highest aggregate rating followed by Chinese.\n",
    "3. The highest City by value count is New Delhi.\n"
   ]
  },
  {
   "cell_type": "markdown",
   "id": "2ujY48UwdT0F",
   "metadata": {
    "id": "2ujY48UwdT0F"
   },
   "source": [
    "## **Week 2: Data Visualization**"
   ]
  },
  {
   "cell_type": "markdown",
   "id": "2506aa2d-77a8-4904-b282-5df5eb48a3b6",
   "metadata": {
    "id": "2506aa2d-77a8-4904-b282-5df5eb48a3b6"
   },
   "source": [
    "#### **Objectives**\n",
    "\n",
    "1. Create histograms, bar plots, and box plots of ratings. Compare average ratings across cuisines and cities.\n",
    "2. i Geospatial Analysis Map restaurant locations using coordinates.\n",
    "ii. Analyze distribution across cities.\n",
    "iii. Correlate location with ratings.\n",
    "3. i Additional Analysis Identify outliers and their effects.\n",
    "ii. Determine relationship between votes and ratings."
   ]
  },
  {
   "cell_type": "markdown",
   "id": "KeuPBLcVEXvH",
   "metadata": {
    "id": "KeuPBLcVEXvH"
   },
   "source": [
    "### 1. **Visualizations**"
   ]
  },
  {
   "cell_type": "markdown",
   "id": "-1yjxTrEEMHd",
   "metadata": {
    "id": "-1yjxTrEEMHd"
   },
   "source": [
    "Create histograms, bar plots, and box plots of ratings. Compare average ratings across cuisines and cities."
   ]
  },
  {
   "cell_type": "code",
   "execution_count": 32,
   "id": "lIvoyUgLdVjK",
   "metadata": {
    "colab": {
     "base_uri": "https://localhost:8080/",
     "height": 466
    },
    "id": "lIvoyUgLdVjK",
    "outputId": "514d0779-7e40-4efa-99a3-8706cbe03e94"
   },
   "outputs": [
    {
     "data": {
      "text/plain": [
       "<Axes: xlabel='Aggregate rating', ylabel='Count'>"
      ]
     },
     "execution_count": 32,
     "metadata": {},
     "output_type": "execute_result"
    },
    {
     "data": {
      "image/png": "[encoded data removed]",
      "text/plain": [
       "<Figure size 640x480 with 1 Axes>"
      ]
     },
     "metadata": {},
     "output_type": "display_data"
    }
   ],
   "source": [
    "sns.histplot(df['Aggregate rating'], bins = 20, kde = True)"
   ]
  },
  {
   "cell_type": "code",
   "execution_count": 33,
   "id": "1a97756a-76ed-4e89-8760-c3293f4fc6a0",
   "metadata": {
    "colab": {
     "base_uri": "https://localhost:8080/",
     "height": 493
    },
    "id": "1a97756a-76ed-4e89-8760-c3293f4fc6a0",
    "outputId": "6b4df178-abfe-4d41-f835-ef8d01eecdbc"
   },
   "outputs": [
    {
     "data": {
      "image/png": "[encoded data removed]",
      "text/plain": [
       "<Figure size 1200x500 with 2 Axes>"
      ]
     },
     "metadata": {},
     "output_type": "display_data"
    }
   ],
   "source": [
    "rating_counts = df['Aggregate rating'].value_counts().sort_index().reset_index()\n",
    "rating_counts.columns = ['Rating', 'Count']\n",
    "\n",
    "# Create bar plot with seaborn\n",
    "plt.figure(figsize=(12, 5))\n",
    "plt.subplot(1,2,1)\n",
    "sns.barplot(x='Rating', y='Count', data=rating_counts)\n",
    "plt.xlabel('Aggregate rating')\n",
    "plt.ylabel('Count')\n",
    "plt.title('Aggregate Rating Bar Plot')\n",
    "plt.xticks(rotation=45, ha = 'right')\n",
    "plt.tight_layout()\n",
    "\n",
    "plt.subplot(1,2,2)\n",
    "sns.boxplot(x = df['Aggregate rating'], color = 'red' )\n",
    "plt.title(\"Aggregate Rating Boxplot\")\n",
    "plt.show()\n"
   ]
  },
  {
   "cell_type": "code",
   "execution_count": 34,
   "id": "56514254-d2d9-41f9-9431-5d807bdcfabc",
   "metadata": {
    "colab": {
     "base_uri": "https://localhost:8080/"
    },
    "id": "56514254-d2d9-41f9-9431-5d807bdcfabc",
    "outputId": "1444ac0a-157b-4084-c698-aa2359f8ed7a"
   },
   "outputs": [
    {
     "name": "stdout",
     "output_type": "stream",
     "text": [
      "Cuisines unique count:145\n",
      "City unique count 140\n"
     ]
    }
   ],
   "source": [
    "print(f'Cuisines unique count:{df_exploded.Cuisines.nunique()}')\n",
    "print(f'City unique count {df_exploded.City.nunique()}')"
   ]
  },
  {
   "cell_type": "code",
   "execution_count": 35,
   "id": "df65cb19-e715-4c4c-ae49-27e9f683ca12",
   "metadata": {
    "colab": {
     "base_uri": "https://localhost:8080/"
    },
    "id": "df65cb19-e715-4c4c-ae49-27e9f683ca12",
    "outputId": "654b22af-545d-43f1-a4c7-78b091922274"
   },
   "outputs": [
    {
     "data": {
      "text/plain": [
       "7437"
      ]
     },
     "execution_count": 35,
     "metadata": {},
     "output_type": "execute_result"
    }
   ],
   "source": [
    "df['Restaurant Name'].nunique()"
   ]
  },
  {
   "cell_type": "markdown",
   "id": "b99dcc5b-27cf-4f86-a9cf-275fff73c424",
   "metadata": {
    "id": "b99dcc5b-27cf-4f86-a9cf-275fff73c424"
   },
   "source": [
    "#### Average rating across cuisines"
   ]
  },
  {
   "cell_type": "code",
   "execution_count": 36,
   "id": "56133cc2-6454-418d-8f79-30eaef7a6f90",
   "metadata": {
    "colab": {
     "base_uri": "https://localhost:8080/",
     "height": 429
    },
    "id": "56133cc2-6454-418d-8f79-30eaef7a6f90",
    "outputId": "bb628cfc-1a2a-4427-d920-997a4886cc69"
   },
   "outputs": [
    {
     "data": {
      "text/plain": [
       "Cuisines\n",
       "Sunda         4.9000\n",
       "B�_rek        4.7000\n",
       "Taiwanese     4.6500\n",
       "Ramen         4.5000\n",
       "Dim Sum       4.4667\n",
       "Hawaiian      4.4125\n",
       "Bubble Tea    4.4000\n",
       "D�_ner        4.4000\n",
       "Curry         4.4000\n",
       "Kebab         4.3800\n",
       "Name: Aggregate rating, dtype: float64"
      ]
     },
     "execution_count": 36,
     "metadata": {},
     "output_type": "execute_result"
    }
   ],
   "source": [
    "cuisines_rating = df_exploded.groupby(df_exploded['Cuisines'])['Aggregate rating'].mean().nlargest(10)\n",
    "cuisines_rating = round(cuisines_rating,4)\n",
    "cuisines_rating "
   ]
  },
  {
   "cell_type": "code",
   "execution_count": 37,
   "id": "aa05422c-d627-493d-abaf-a2819c24f8fd",
   "metadata": {
    "colab": {
     "base_uri": "https://localhost:8080/",
     "height": 472
    },
    "id": "aa05422c-d627-493d-abaf-a2819c24f8fd",
    "outputId": "56d2a27c-b62f-40a0-ca21-c9e01a5fe22c"
   },
   "outputs": [
    {
     "data": {
      "image/png": "[encoded data removed]",
      "text/plain": [
       "<Figure size 640x480 with 1 Axes>"
      ]
     },
     "metadata": {},
     "output_type": "display_data"
    }
   ],
   "source": [
    "sns.barplot(x=cuisines_rating.values, y=cuisines_rating.index, legend = False)\n",
    "plt.xlabel('Average Aggregate rating')\n",
    "plt.title('Top 10 Average Aggregate Rating by Cuisines')\n",
    "plt.xlim(3, 5)\n",
    "plt.show()"
   ]
  },
  {
   "cell_type": "code",
   "execution_count": 38,
   "id": "2c962e51-eae4-4506-bee9-9e9d0a20f89c",
   "metadata": {
    "colab": {
     "base_uri": "https://localhost:8080/",
     "height": 429
    },
    "id": "2c962e51-eae4-4506-bee9-9e9d0a20f89c",
    "outputId": "a897d679-5683-462a-ae20-f97c94325b30"
   },
   "outputs": [
    {
     "data": {
      "text/plain": [
       "City\n",
       "Inner City          4.900000\n",
       "Quezon City         4.800000\n",
       "Makati City         4.650000\n",
       "Pasig City          4.633333\n",
       "Mandaluyong City    4.625000\n",
       "Beechworth          4.600000\n",
       "London              4.535000\n",
       "Taguig City         4.525000\n",
       "Lincoln             4.500000\n",
       "Secunderabad        4.500000\n",
       "Name: Aggregate rating, dtype: float64"
      ]
     },
     "execution_count": 38,
     "metadata": {},
     "output_type": "execute_result"
    }
   ],
   "source": [
    "city_rating = df.groupby(df['City'])['Aggregate rating'].mean().nlargest(10)\n",
    "city_rating"
   ]
  },
  {
   "cell_type": "code",
   "execution_count": 39,
   "id": "7711026a-f887-4a08-842a-c13f940873f5",
   "metadata": {
    "colab": {
     "base_uri": "https://localhost:8080/",
     "height": 556
    },
    "id": "7711026a-f887-4a08-842a-c13f940873f5",
    "outputId": "e35ab910-35f6-4bd7-c6a9-d94031580271"
   },
   "outputs": [
    {
     "data": {
      "image/png": "[encoded data removed]",
      "text/plain": [
       "<Figure size 640x480 with 1 Axes>"
      ]
     },
     "metadata": {},
     "output_type": "display_data"
    }
   ],
   "source": [
    "sns.barplot(x=city_rating.index, y=city_rating.values, legend = False)\n",
    "plt.xticks(rotation = 45, ha = 'right')\n",
    "plt.ylabel('Average Aggregate rating')\n",
    "plt.title('Top 10 Average Aggregate Rating by City')\n",
    "plt.ylim((4, 5))\n",
    "#plt.text(x =0.5, y = 0.5, s = 'center')\n",
    "plt.show()"
   ]
  },
  {
   "cell_type": "markdown",
   "id": "8PjcR4XH7Pyj",
   "metadata": {
    "id": "8PjcR4XH7Pyj"
   },
   "source": [
    "#### **Observation**\n",
    "\n",
    "It was observed that Inner City had the highest average aggregate rating,followed by Quezon City.\n",
    "\n",
    "It was also observed that our first 10 cuisines by aggregate rating ranges from 4.9 - 4.38. This is after splitting and unpivoting the cuisines column."
   ]
  },
  {
   "cell_type": "markdown",
   "id": "d2009ce1-c3b0-4648-8706-71f499126cb5",
   "metadata": {
    "id": "d2009ce1-c3b0-4648-8706-71f499126cb5"
   },
   "source": [
    "### 2. **Geospatial Analysis**"
   ]
  },
  {
   "cell_type": "markdown",
   "id": "020768e8-9662-4ccf-82a9-4189761ec859",
   "metadata": {
    "id": "020768e8-9662-4ccf-82a9-4189761ec859"
   },
   "source": [
    "#### i.Map Visualization"
   ]
  },
  {
   "cell_type": "code",
   "execution_count": 40,
   "id": "510da86c-eb69-4d07-81e9-80f5423d10a4",
   "metadata": {
    "colab": {
     "base_uri": "https://localhost:8080/"
    },
    "id": "510da86c-eb69-4d07-81e9-80f5423d10a4",
    "outputId": "875a4f52-53a7-4250-e2af-de37935690da"
   },
   "outputs": [
    {
     "data": {
      "text/plain": [
       "np.int64(7)"
      ]
     },
     "execution_count": 40,
     "metadata": {},
     "output_type": "execute_result"
    }
   ],
   "source": [
    "df[['Restaurant Name','City', 'Longitude', 'Latitude' ]].duplicated().sum()"
   ]
  },
  {
   "cell_type": "code",
   "execution_count": 41,
   "id": "1f36736f-4946-42be-993e-23f2161bcdb6",
   "metadata": {
    "colab": {
     "base_uri": "https://localhost:8080/",
     "height": 423
    },
    "id": "1f36736f-4946-42be-993e-23f2161bcdb6",
    "outputId": "9f50dc07-9bca-4ebb-be20-057a8f07cc2c"
   },
   "outputs": [
    {
     "data": {
      "text/html": [
       "<div>\n",
       "<style scoped>\n",
       "    .dataframe tbody tr th:only-of-type {\n",
       "        vertical-align: middle;\n",
       "    }\n",
       "\n",
       "    .dataframe tbody tr th {\n",
       "        vertical-align: top;\n",
       "    }\n",
       "\n",
       "    .dataframe thead th {\n",
       "        text-align: right;\n",
       "    }\n",
       "</style>\n",
       "<table border=\"1\" class=\"dataframe\">\n",
       "  <thead>\n",
       "    <tr style=\"text-align: right;\">\n",
       "      <th></th>\n",
       "      <th>Restaurant ID</th>\n",
       "      <th>Restaurant Name</th>\n",
       "      <th>City</th>\n",
       "      <th>Longitude</th>\n",
       "      <th>Latitude</th>\n",
       "      <th>Aggregate rating</th>\n",
       "    </tr>\n",
       "  </thead>\n",
       "  <tbody>\n",
       "    <tr>\n",
       "      <th>0</th>\n",
       "      <td>6317637</td>\n",
       "      <td>Le Petit Souffle</td>\n",
       "      <td>Makati City</td>\n",
       "      <td>121.027535</td>\n",
       "      <td>14.565443</td>\n",
       "      <td>4.8</td>\n",
       "    </tr>\n",
       "    <tr>\n",
       "      <th>1</th>\n",
       "      <td>6304287</td>\n",
       "      <td>Izakaya Kikufuji</td>\n",
       "      <td>Makati City</td>\n",
       "      <td>121.014101</td>\n",
       "      <td>14.553708</td>\n",
       "      <td>4.5</td>\n",
       "    </tr>\n",
       "    <tr>\n",
       "      <th>2</th>\n",
       "      <td>6300002</td>\n",
       "      <td>Heat - Edsa Shangri-La</td>\n",
       "      <td>Mandaluyong City</td>\n",
       "      <td>121.056831</td>\n",
       "      <td>14.581404</td>\n",
       "      <td>4.4</td>\n",
       "    </tr>\n",
       "    <tr>\n",
       "      <th>3</th>\n",
       "      <td>6318506</td>\n",
       "      <td>Ooma</td>\n",
       "      <td>Mandaluyong City</td>\n",
       "      <td>121.056475</td>\n",
       "      <td>14.585318</td>\n",
       "      <td>4.9</td>\n",
       "    </tr>\n",
       "    <tr>\n",
       "      <th>4</th>\n",
       "      <td>6314302</td>\n",
       "      <td>Sambo Kojin</td>\n",
       "      <td>Mandaluyong City</td>\n",
       "      <td>121.057508</td>\n",
       "      <td>14.584450</td>\n",
       "      <td>4.8</td>\n",
       "    </tr>\n",
       "    <tr>\n",
       "      <th>...</th>\n",
       "      <td>...</td>\n",
       "      <td>...</td>\n",
       "      <td>...</td>\n",
       "      <td>...</td>\n",
       "      <td>...</td>\n",
       "      <td>...</td>\n",
       "    </tr>\n",
       "    <tr>\n",
       "      <th>9546</th>\n",
       "      <td>5915730</td>\n",
       "      <td>Naml۱ Gurme</td>\n",
       "      <td>��stanbul</td>\n",
       "      <td>28.977392</td>\n",
       "      <td>41.022793</td>\n",
       "      <td>4.1</td>\n",
       "    </tr>\n",
       "    <tr>\n",
       "      <th>9547</th>\n",
       "      <td>5908749</td>\n",
       "      <td>Ceviz A��ac۱</td>\n",
       "      <td>��stanbul</td>\n",
       "      <td>29.041297</td>\n",
       "      <td>41.009847</td>\n",
       "      <td>4.2</td>\n",
       "    </tr>\n",
       "    <tr>\n",
       "      <th>9548</th>\n",
       "      <td>5915807</td>\n",
       "      <td>Huqqa</td>\n",
       "      <td>��stanbul</td>\n",
       "      <td>29.034640</td>\n",
       "      <td>41.055817</td>\n",
       "      <td>3.7</td>\n",
       "    </tr>\n",
       "    <tr>\n",
       "      <th>9549</th>\n",
       "      <td>5916112</td>\n",
       "      <td>A���k Kahve</td>\n",
       "      <td>��stanbul</td>\n",
       "      <td>29.036019</td>\n",
       "      <td>41.057979</td>\n",
       "      <td>4.0</td>\n",
       "    </tr>\n",
       "    <tr>\n",
       "      <th>9550</th>\n",
       "      <td>5927402</td>\n",
       "      <td>Walter's Coffee Roastery</td>\n",
       "      <td>��stanbul</td>\n",
       "      <td>29.026016</td>\n",
       "      <td>40.984776</td>\n",
       "      <td>4.0</td>\n",
       "    </tr>\n",
       "  </tbody>\n",
       "</table>\n",
       "<p>9542 rows × 6 columns</p>\n",
       "</div>"
      ],
      "text/plain": [
       "      Restaurant ID           Restaurant Name              City   Longitude  \\\n",
       "0           6317637          Le Petit Souffle       Makati City  121.027535   \n",
       "1           6304287          Izakaya Kikufuji       Makati City  121.014101   \n",
       "2           6300002    Heat - Edsa Shangri-La  Mandaluyong City  121.056831   \n",
       "3           6318506                      Ooma  Mandaluyong City  121.056475   \n",
       "4           6314302               Sambo Kojin  Mandaluyong City  121.057508   \n",
       "...             ...                       ...               ...         ...   \n",
       "9546        5915730               Naml۱ Gurme         ��stanbul   28.977392   \n",
       "9547        5908749              Ceviz A��ac۱         ��stanbul   29.041297   \n",
       "9548        5915807                     Huqqa         ��stanbul   29.034640   \n",
       "9549        5916112               A���k Kahve         ��stanbul   29.036019   \n",
       "9550        5927402  Walter's Coffee Roastery         ��stanbul   29.026016   \n",
       "\n",
       "       Latitude  Aggregate rating  \n",
       "0     14.565443               4.8  \n",
       "1     14.553708               4.5  \n",
       "2     14.581404               4.4  \n",
       "3     14.585318               4.9  \n",
       "4     14.584450               4.8  \n",
       "...         ...               ...  \n",
       "9546  41.022793               4.1  \n",
       "9547  41.009847               4.2  \n",
       "9548  41.055817               3.7  \n",
       "9549  41.057979               4.0  \n",
       "9550  40.984776               4.0  \n",
       "\n",
       "[9542 rows x 6 columns]"
      ]
     },
     "execution_count": 41,
     "metadata": {},
     "output_type": "execute_result"
    }
   ],
   "source": [
    "map_df = df[['Restaurant ID','Restaurant Name', 'City', 'Longitude', 'Latitude','Aggregate rating']]\n",
    "map_df"
   ]
  },
  {
   "cell_type": "code",
   "execution_count": 42,
   "id": "f917a05a-7921-4a66-a821-465d75e280cd",
   "metadata": {
    "colab": {
     "base_uri": "https://localhost:8080/"
    },
    "id": "f917a05a-7921-4a66-a821-465d75e280cd",
    "outputId": "db76596c-138f-43b8-8586-d31443e51b09"
   },
   "outputs": [
    {
     "name": "stdout",
     "output_type": "stream",
     "text": [
      "<class 'pandas.core.frame.DataFrame'>\n",
      "Index: 9542 entries, 0 to 9550\n",
      "Data columns (total 6 columns):\n",
      " #   Column            Non-Null Count  Dtype  \n",
      "---  ------            --------------  -----  \n",
      " 0   Restaurant ID     9542 non-null   int64  \n",
      " 1   Restaurant Name   9542 non-null   object \n",
      " 2   City              9542 non-null   object \n",
      " 3   Longitude         9542 non-null   float64\n",
      " 4   Latitude          9542 non-null   float64\n",
      " 5   Aggregate rating  9542 non-null   float64\n",
      "dtypes: float64(3), int64(1), object(2)\n",
      "memory usage: 521.8+ KB\n"
     ]
    }
   ],
   "source": [
    "map_df.info()"
   ]
  },
  {
   "cell_type": "code",
   "execution_count": 43,
   "id": "5fcdef00-0cbd-4354-a6b9-bf26ed977f12",
   "metadata": {
    "colab": {
     "base_uri": "https://localhost:8080/"
    },
    "id": "5fcdef00-0cbd-4354-a6b9-bf26ed977f12",
    "outputId": "8b3e1bf9-789a-4438-c77f-721869337141"
   },
   "outputs": [
    {
     "name": "stdout",
     "output_type": "stream",
     "text": [
      "average latitude: 25.84853159488723\n",
      "average longitude: 64.27499746924892\n"
     ]
    }
   ],
   "source": [
    "center_lat = df['Latitude'].mean()\n",
    "center_lon = df['Longitude'].mean()\n",
    "print(f'average latitude: {center_lat}')\n",
    "print(f'average longitude: {center_lon}')"
   ]
  },
  {
   "cell_type": "code",
   "execution_count": 44,
   "id": "72e2327c-40f2-4f06-8407-2fe897cee94f",
   "metadata": {
    "colab": {
     "base_uri": "https://localhost:8080/",
     "height": 711
    },
    "id": "72e2327c-40f2-4f06-8407-2fe897cee94f",
    "outputId": "8d956133-7c00-41de-d7e7-5b09a257f5f0",
    "scrolled": true
   },
   "outputs": [],
   "source": [
    "center_lat = df['Latitude'].mean()\n",
    "center_lon = df['Longitude'].mean()\n",
    "restaurant_map = folium.Map(location=[center_lat, center_lon], zoom_start=4)\n",
    "marker_cluster = MarkerCluster().add_to(restaurant_map)\n",
    "for index, record in map_df.iterrows():\n",
    "    coords = (record['Latitude'], record['Longitude'])\n",
    "    restaurant_name = record['Restaurant Name']\n",
    "\n",
    "    folium.Marker(\n",
    "        location=coords,\n",
    "        popup=f\"Restaurant Name: {record['Restaurant Name']}\",\n",
    "        tooltip = f\"Restaurant Name: {record['Restaurant Name']}<br>Average rating: {record['Aggregate rating']}<br>City: {record['City']}<br> Coordinates: {coords}\"\n",
    "    ).add_to(marker_cluster)\n",
    "\n",
    "#restaurant_map"
   ]
  },
  {
   "cell_type": "markdown",
   "id": "14657a73-ca8e-481f-a11a-ff1d1a369791",
   "metadata": {
    "id": "14657a73-ca8e-481f-a11a-ff1d1a369791"
   },
   "source": [
    "#### **Observation**\n",
    "\n",
    "1. It was observed that we have 7 restaurants with same Restaurant Name, City, Longitude, and Latitude in order to prepare the dataset for the map, the \"Restaurant ID\" was introduced to distinguish these restaurants.  \n",
    "\n",
    "2. From the map, it can be seen that we have more restaurants in India.\n",
    "3. Also it can be seen that 497 restaurants are located on the Atlantic Ocean. This is because the restaurants have 0 latitude and longitude which implies that the restaurants have wrong coordinates when compared to the city the restaurants are situated."
   ]
  },
  {
   "cell_type": "markdown",
   "id": "43ecac6d-2326-4d3c-ad2b-5535e0c4f743",
   "metadata": {
    "id": "43ecac6d-2326-4d3c-ad2b-5535e0c4f743"
   },
   "source": [
    "#### ii. Analyze Distribution across cities"
   ]
  },
  {
   "cell_type": "code",
   "execution_count": 45,
   "id": "4bc67eee-698a-49d1-8606-34c6866b7c96",
   "metadata": {
    "colab": {
     "base_uri": "https://localhost:8080/",
     "height": 363
    },
    "id": "4bc67eee-698a-49d1-8606-34c6866b7c96",
    "outputId": "0f2056fc-5a1c-4d50-fc4c-e1641bff0c99"
   },
   "outputs": [
    {
     "data": {
      "text/html": [
       "<div>\n",
       "<style scoped>\n",
       "    .dataframe tbody tr th:only-of-type {\n",
       "        vertical-align: middle;\n",
       "    }\n",
       "\n",
       "    .dataframe tbody tr th {\n",
       "        vertical-align: top;\n",
       "    }\n",
       "\n",
       "    .dataframe thead th {\n",
       "        text-align: right;\n",
       "    }\n",
       "</style>\n",
       "<table border=\"1\" class=\"dataframe\">\n",
       "  <thead>\n",
       "    <tr style=\"text-align: right;\">\n",
       "      <th></th>\n",
       "      <th>City</th>\n",
       "      <th>Restaurant_Count</th>\n",
       "    </tr>\n",
       "  </thead>\n",
       "  <tbody>\n",
       "    <tr>\n",
       "      <th>87</th>\n",
       "      <td>New Delhi</td>\n",
       "      <td>5473</td>\n",
       "    </tr>\n",
       "    <tr>\n",
       "      <th>50</th>\n",
       "      <td>Gurgaon</td>\n",
       "      <td>1118</td>\n",
       "    </tr>\n",
       "    <tr>\n",
       "      <th>88</th>\n",
       "      <td>Noida</td>\n",
       "      <td>1080</td>\n",
       "    </tr>\n",
       "    <tr>\n",
       "      <th>43</th>\n",
       "      <td>Faridabad</td>\n",
       "      <td>251</td>\n",
       "    </tr>\n",
       "    <tr>\n",
       "      <th>48</th>\n",
       "      <td>Ghaziabad</td>\n",
       "      <td>25</td>\n",
       "    </tr>\n",
       "    <tr>\n",
       "      <th>17</th>\n",
       "      <td>Bhubaneshwar</td>\n",
       "      <td>21</td>\n",
       "    </tr>\n",
       "    <tr>\n",
       "      <th>51</th>\n",
       "      <td>Guwahati</td>\n",
       "      <td>21</td>\n",
       "    </tr>\n",
       "    <tr>\n",
       "      <th>69</th>\n",
       "      <td>Lucknow</td>\n",
       "      <td>21</td>\n",
       "    </tr>\n",
       "    <tr>\n",
       "      <th>2</th>\n",
       "      <td>Ahmedabad</td>\n",
       "      <td>21</td>\n",
       "    </tr>\n",
       "    <tr>\n",
       "      <th>5</th>\n",
       "      <td>Amritsar</td>\n",
       "      <td>21</td>\n",
       "    </tr>\n",
       "  </tbody>\n",
       "</table>\n",
       "</div>"
      ],
      "text/plain": [
       "            City  Restaurant_Count\n",
       "87     New Delhi              5473\n",
       "50       Gurgaon              1118\n",
       "88         Noida              1080\n",
       "43     Faridabad               251\n",
       "48     Ghaziabad                25\n",
       "17  Bhubaneshwar                21\n",
       "51      Guwahati                21\n",
       "69       Lucknow                21\n",
       "2      Ahmedabad                21\n",
       "5       Amritsar                21"
      ]
     },
     "execution_count": 45,
     "metadata": {},
     "output_type": "execute_result"
    }
   ],
   "source": [
    "city_distribution = df.groupby('City')['Restaurant Name'].count().reset_index()\n",
    "city_distribution.rename(columns={'Restaurant Name': 'Restaurant_Count'}, inplace = True)\n",
    "city_distribution = city_distribution.sort_values(by='Restaurant_Count', ascending = False).head(10)\n",
    "\n",
    "city_distribution\n",
    "\n"
   ]
  },
  {
   "cell_type": "code",
   "execution_count": 46,
   "id": "dcb529b4-d0f6-49fa-b93f-3e436ac0f8d8",
   "metadata": {
    "colab": {
     "base_uri": "https://localhost:8080/",
     "height": 541
    },
    "id": "dcb529b4-d0f6-49fa-b93f-3e436ac0f8d8",
    "outputId": "6edd7d8d-1af0-4bd8-cff2-6e807e589227"
   },
   "outputs": [
    {
     "data": {
      "image/png": "[encoded data removed]",
      "text/plain": [
       "<Figure size 640x480 with 1 Axes>"
      ]
     },
     "metadata": {},
     "output_type": "display_data"
    }
   ],
   "source": [
    "sns.barplot(data = city_distribution, x= city_distribution['City'], y= city_distribution['Restaurant_Count'])\n",
    "plt.xticks(rotation=45, ha='right')\n",
    "plt.title('Top 10 Cities by Restaurant count')\n",
    "plt.show()\n",
    "\n"
   ]
  },
  {
   "cell_type": "markdown",
   "id": "07a2dffc-483c-47b7-9aec-08ad9b468a72",
   "metadata": {
    "id": "07a2dffc-483c-47b7-9aec-08ad9b468a72"
   },
   "source": [
    "#### **Observation**\n",
    "\n",
    "New Delhi has the largest population in terms of count of restaurants, followed by a neighbouring city, Gurgaon."
   ]
  },
  {
   "cell_type": "markdown",
   "id": "e1ee256a-34f3-4886-958d-9ac5b2486f9d",
   "metadata": {
    "id": "e1ee256a-34f3-4886-958d-9ac5b2486f9d"
   },
   "source": [
    "#### iii. Correlation"
   ]
  },
  {
   "cell_type": "code",
   "execution_count": 47,
   "id": "571496c3-4196-4974-af7d-b6cf10109c00",
   "metadata": {
    "colab": {
     "base_uri": "https://localhost:8080/",
     "height": 564
    },
    "id": "571496c3-4196-4974-af7d-b6cf10109c00",
    "outputId": "42076545-bd66-41a9-e4a8-acdf3f829ab6"
   },
   "outputs": [
    {
     "data": {
      "image/png": "[encoded data removed]",
      "text/plain": [
       "<Figure size 1000x600 with 2 Axes>"
      ]
     },
     "metadata": {},
     "output_type": "display_data"
    }
   ],
   "source": [
    "plt.figure(figsize=(10, 6))\n",
    "#Note: The \"Average rating\" is multiplied by 15 in order to hence the circle visibility.\n",
    "scatter = plt.scatter(map_df['Longitude'], map_df['Latitude'], s=map_df['Aggregate rating']*15, alpha= 0.5, c=map_df['Aggregate rating'], edgecolors='k',cmap='gist_rainbow')\n",
    "\n",
    "plt.title('Restaurant Locations and Aggregate Ratings')\n",
    "plt.xlabel('Longitude')\n",
    "plt.ylabel('Latitude')\n",
    "cbar = plt.colorbar(scatter)\n",
    "cbar.set_label('Aggregate Rating')\n",
    "\n",
    "plt.grid()\n",
    "plt.show()"
   ]
  },
  {
   "cell_type": "markdown",
   "id": "934d5d06-15d3-4eb4-b352-63a5781f07cf",
   "metadata": {
    "id": "934d5d06-15d3-4eb4-b352-63a5781f07cf"
   },
   "source": [
    "#### **Observation**\n",
    "\n",
    "**Rating Text:**  A scale of 0-5 was used for the aggregate rating.\n",
    "1. 0- Not rated\n",
    "2. 1-2.49: Poor\n",
    "3. 2.5-3.49: Average\n",
    "4. 3.5-3.99: Good\n",
    "5. 4-4.49: Very good\n",
    "6. 4.5 and above: Excellent\n",
    "\n",
    "The size of each dot is proportional to the restaurant's aggregate rating\n",
    "1. Clusters of dots indicate areas with a high density of restaurants\n",
    "2. The clustered circles in blue indicate restaurants with average good rating of 3.5-3.99  while areas with light purple are restaurants ranging with a rating of 4-4.9 i.e very good to excllent."
   ]
  },
  {
   "cell_type": "markdown",
   "id": "6957afa7-7114-4a3a-9820-da260e2e2701",
   "metadata": {
    "id": "6957afa7-7114-4a3a-9820-da260e2e2701"
   },
   "source": [
    "### 3. **Additional Analysis**"
   ]
  },
  {
   "cell_type": "markdown",
   "id": "3f5001d4-00f6-4569-960e-6de6d63f5485",
   "metadata": {
    "id": "3f5001d4-00f6-4569-960e-6de6d63f5485"
   },
   "source": [
    "#### i. Outliers"
   ]
  },
  {
   "cell_type": "code",
   "execution_count": 48,
   "id": "17392d31-c6fb-4326-82e5-2005cc629ca0",
   "metadata": {
    "colab": {
     "base_uri": "https://localhost:8080/",
     "height": 1000
    },
    "id": "17392d31-c6fb-4326-82e5-2005cc629ca0",
    "outputId": "3b202b16-6d0d-4177-8385-7997d4185891"
   },
   "outputs": [
    {
     "name": "stdout",
     "output_type": "stream",
     "text": [
      "lower bound: 0.6999999999999997\n",
      "upper bound: 5.5\n"
     ]
    },
    {
     "data": {
      "text/html": [
       "<div>\n",
       "<style scoped>\n",
       "    .dataframe tbody tr th:only-of-type {\n",
       "        vertical-align: middle;\n",
       "    }\n",
       "\n",
       "    .dataframe tbody tr th {\n",
       "        vertical-align: top;\n",
       "    }\n",
       "\n",
       "    .dataframe thead th {\n",
       "        text-align: right;\n",
       "    }\n",
       "</style>\n",
       "<table border=\"1\" class=\"dataframe\">\n",
       "  <thead>\n",
       "    <tr style=\"text-align: right;\">\n",
       "      <th></th>\n",
       "      <th>Restaurant ID</th>\n",
       "      <th>Restaurant Name</th>\n",
       "      <th>Country Code</th>\n",
       "      <th>City</th>\n",
       "      <th>Address</th>\n",
       "      <th>Locality</th>\n",
       "      <th>Locality Verbose</th>\n",
       "      <th>Longitude</th>\n",
       "      <th>Latitude</th>\n",
       "      <th>Cuisines</th>\n",
       "      <th>...</th>\n",
       "      <th>Currency</th>\n",
       "      <th>Has Table booking</th>\n",
       "      <th>Has Online delivery</th>\n",
       "      <th>Is delivering now</th>\n",
       "      <th>Switch to order menu</th>\n",
       "      <th>Price range</th>\n",
       "      <th>Aggregate rating</th>\n",
       "      <th>Rating color</th>\n",
       "      <th>Rating text</th>\n",
       "      <th>Votes</th>\n",
       "    </tr>\n",
       "  </thead>\n",
       "  <tbody>\n",
       "    <tr>\n",
       "      <th>30</th>\n",
       "      <td>6600060</td>\n",
       "      <td>Sandubas Caf��</td>\n",
       "      <td>30</td>\n",
       "      <td>Bras�_lia</td>\n",
       "      <td>Edif�_cio Jos�� Severo, SCS 6, Bloco A, Loja 9...</td>\n",
       "      <td>Asa Sul</td>\n",
       "      <td>Asa Sul, Bras�_lia</td>\n",
       "      <td>-47.890167</td>\n",
       "      <td>-15.797000</td>\n",
       "      <td>[Brazilian,  Cafe]</td>\n",
       "      <td>...</td>\n",
       "      <td>Brazilian Real(R$)</td>\n",
       "      <td>No</td>\n",
       "      <td>No</td>\n",
       "      <td>No</td>\n",
       "      <td>No</td>\n",
       "      <td>1</td>\n",
       "      <td>0.0</td>\n",
       "      <td>White</td>\n",
       "      <td>Not rated</td>\n",
       "      <td>2</td>\n",
       "    </tr>\n",
       "    <tr>\n",
       "      <th>58</th>\n",
       "      <td>7305048</td>\n",
       "      <td>Quiosque Chopp Brahma</td>\n",
       "      <td>30</td>\n",
       "      <td>Rio de Janeiro</td>\n",
       "      <td>Madureira Shopping - Loja 289/290, Piso 2, Est...</td>\n",
       "      <td>Madureira</td>\n",
       "      <td>Madureira, Rio de Janeiro</td>\n",
       "      <td>-43.341164</td>\n",
       "      <td>-22.870413</td>\n",
       "      <td>[Bar Food,  Brazilian]</td>\n",
       "      <td>...</td>\n",
       "      <td>Brazilian Real(R$)</td>\n",
       "      <td>No</td>\n",
       "      <td>No</td>\n",
       "      <td>No</td>\n",
       "      <td>No</td>\n",
       "      <td>3</td>\n",
       "      <td>0.0</td>\n",
       "      <td>White</td>\n",
       "      <td>Not rated</td>\n",
       "      <td>1</td>\n",
       "    </tr>\n",
       "    <tr>\n",
       "      <th>69</th>\n",
       "      <td>6710645</td>\n",
       "      <td>Cantinho da Gula</td>\n",
       "      <td>30</td>\n",
       "      <td>S��o Paulo</td>\n",
       "      <td>Rua Pedroso Alvarenga, 522, Itaim Bibi, S��o P...</td>\n",
       "      <td>Itaim Bibi</td>\n",
       "      <td>Itaim Bibi, S��o Paulo</td>\n",
       "      <td>-46.675667</td>\n",
       "      <td>-23.581000</td>\n",
       "      <td>[Brazilian]</td>\n",
       "      <td>...</td>\n",
       "      <td>Brazilian Real(R$)</td>\n",
       "      <td>No</td>\n",
       "      <td>No</td>\n",
       "      <td>No</td>\n",
       "      <td>No</td>\n",
       "      <td>2</td>\n",
       "      <td>0.0</td>\n",
       "      <td>White</td>\n",
       "      <td>Not rated</td>\n",
       "      <td>0</td>\n",
       "    </tr>\n",
       "    <tr>\n",
       "      <th>77</th>\n",
       "      <td>6701419</td>\n",
       "      <td>Divino Fog��o</td>\n",
       "      <td>30</td>\n",
       "      <td>S��o Paulo</td>\n",
       "      <td>Shopping Metr�� Santa Cruz - Piso L2, Rua Domi...</td>\n",
       "      <td>Shopping Metr�� Santa Cruz, Vila Mariana</td>\n",
       "      <td>Shopping Metr�� Santa Cruz, Vila Mariana, S��o...</td>\n",
       "      <td>-46.637167</td>\n",
       "      <td>-23.599500</td>\n",
       "      <td>[Brazilian,  Mineira]</td>\n",
       "      <td>...</td>\n",
       "      <td>Brazilian Real(R$)</td>\n",
       "      <td>No</td>\n",
       "      <td>No</td>\n",
       "      <td>No</td>\n",
       "      <td>No</td>\n",
       "      <td>3</td>\n",
       "      <td>0.0</td>\n",
       "      <td>White</td>\n",
       "      <td>Not rated</td>\n",
       "      <td>2</td>\n",
       "    </tr>\n",
       "    <tr>\n",
       "      <th>78</th>\n",
       "      <td>6703956</td>\n",
       "      <td>Super Grill</td>\n",
       "      <td>30</td>\n",
       "      <td>S��o Paulo</td>\n",
       "      <td>Shopping Morumbi - Piso Lazer, Avenida Roque P...</td>\n",
       "      <td>Shopping Morumbi, Santo Amaro</td>\n",
       "      <td>Shopping Morumbi, Santo Amaro, S��o Paulo</td>\n",
       "      <td>-46.698574</td>\n",
       "      <td>-23.622925</td>\n",
       "      <td>[Brazilian]</td>\n",
       "      <td>...</td>\n",
       "      <td>Brazilian Real(R$)</td>\n",
       "      <td>No</td>\n",
       "      <td>No</td>\n",
       "      <td>No</td>\n",
       "      <td>No</td>\n",
       "      <td>2</td>\n",
       "      <td>0.0</td>\n",
       "      <td>White</td>\n",
       "      <td>Not rated</td>\n",
       "      <td>2</td>\n",
       "    </tr>\n",
       "    <tr>\n",
       "      <th>...</th>\n",
       "      <td>...</td>\n",
       "      <td>...</td>\n",
       "      <td>...</td>\n",
       "      <td>...</td>\n",
       "      <td>...</td>\n",
       "      <td>...</td>\n",
       "      <td>...</td>\n",
       "      <td>...</td>\n",
       "      <td>...</td>\n",
       "      <td>...</td>\n",
       "      <td>...</td>\n",
       "      <td>...</td>\n",
       "      <td>...</td>\n",
       "      <td>...</td>\n",
       "      <td>...</td>\n",
       "      <td>...</td>\n",
       "      <td>...</td>\n",
       "      <td>...</td>\n",
       "      <td>...</td>\n",
       "      <td>...</td>\n",
       "      <td>...</td>\n",
       "    </tr>\n",
       "    <tr>\n",
       "      <th>9109</th>\n",
       "      <td>18277023</td>\n",
       "      <td>Bread &amp; Pasta</td>\n",
       "      <td>1</td>\n",
       "      <td>Noida</td>\n",
       "      <td>Shop 15, Near HDFC Bank, Tulip Mall, Sector 48...</td>\n",
       "      <td>Tulip Mall, Sector 48, Noida</td>\n",
       "      <td>Tulip Mall, Sector 48, Noida, Noida</td>\n",
       "      <td>77.367303</td>\n",
       "      <td>28.557929</td>\n",
       "      <td>[Fast Food]</td>\n",
       "      <td>...</td>\n",
       "      <td>Indian Rupees(Rs.)</td>\n",
       "      <td>No</td>\n",
       "      <td>No</td>\n",
       "      <td>No</td>\n",
       "      <td>No</td>\n",
       "      <td>1</td>\n",
       "      <td>0.0</td>\n",
       "      <td>White</td>\n",
       "      <td>Not rated</td>\n",
       "      <td>1</td>\n",
       "    </tr>\n",
       "    <tr>\n",
       "      <th>9110</th>\n",
       "      <td>18313203</td>\n",
       "      <td>Chillies Cafe</td>\n",
       "      <td>1</td>\n",
       "      <td>Noida</td>\n",
       "      <td>G-11, Tulip Mall, Sector 48, Noida</td>\n",
       "      <td>Tulip Mall, Sector 48, Noida</td>\n",
       "      <td>Tulip Mall, Sector 48, Noida, Noida</td>\n",
       "      <td>77.367188</td>\n",
       "      <td>28.557842</td>\n",
       "      <td>[Fast Food]</td>\n",
       "      <td>...</td>\n",
       "      <td>Indian Rupees(Rs.)</td>\n",
       "      <td>No</td>\n",
       "      <td>No</td>\n",
       "      <td>No</td>\n",
       "      <td>No</td>\n",
       "      <td>2</td>\n",
       "      <td>0.0</td>\n",
       "      <td>White</td>\n",
       "      <td>Not rated</td>\n",
       "      <td>3</td>\n",
       "    </tr>\n",
       "    <tr>\n",
       "      <th>9111</th>\n",
       "      <td>18254559</td>\n",
       "      <td>Platters</td>\n",
       "      <td>1</td>\n",
       "      <td>Noida</td>\n",
       "      <td>Shop 1, Tulip Mall, Near HDFC Bank, Sector 48,...</td>\n",
       "      <td>Tulip Mall, Sector 48, Noida</td>\n",
       "      <td>Tulip Mall, Sector 48, Noida, Noida</td>\n",
       "      <td>77.367322</td>\n",
       "      <td>28.557930</td>\n",
       "      <td>[North Indian,  Chinese]</td>\n",
       "      <td>...</td>\n",
       "      <td>Indian Rupees(Rs.)</td>\n",
       "      <td>No</td>\n",
       "      <td>No</td>\n",
       "      <td>No</td>\n",
       "      <td>No</td>\n",
       "      <td>2</td>\n",
       "      <td>0.0</td>\n",
       "      <td>White</td>\n",
       "      <td>Not rated</td>\n",
       "      <td>0</td>\n",
       "    </tr>\n",
       "    <tr>\n",
       "      <th>9112</th>\n",
       "      <td>18255132</td>\n",
       "      <td>The Grand</td>\n",
       "      <td>1</td>\n",
       "      <td>Noida</td>\n",
       "      <td>G-5, Tulip Mall, Sector 48, Noida</td>\n",
       "      <td>Tulip Mall, Sector 48, Noida</td>\n",
       "      <td>Tulip Mall, Sector 48, Noida, Noida</td>\n",
       "      <td>77.367188</td>\n",
       "      <td>28.557852</td>\n",
       "      <td>[Raw Meats,  Fast Food]</td>\n",
       "      <td>...</td>\n",
       "      <td>Indian Rupees(Rs.)</td>\n",
       "      <td>No</td>\n",
       "      <td>No</td>\n",
       "      <td>No</td>\n",
       "      <td>No</td>\n",
       "      <td>1</td>\n",
       "      <td>0.0</td>\n",
       "      <td>White</td>\n",
       "      <td>Not rated</td>\n",
       "      <td>1</td>\n",
       "    </tr>\n",
       "    <tr>\n",
       "      <th>9351</th>\n",
       "      <td>18273002</td>\n",
       "      <td>Damascena Coffee House</td>\n",
       "      <td>215</td>\n",
       "      <td>Birmingham</td>\n",
       "      <td>133 Alcester Road, Moseley, Birmingham</td>\n",
       "      <td>Moseley</td>\n",
       "      <td>Moseley, Birmingham</td>\n",
       "      <td>-1.888555</td>\n",
       "      <td>52.446302</td>\n",
       "      <td>[Greek,  Mediterranean,  Middle Eastern]</td>\n",
       "      <td>...</td>\n",
       "      <td>Pounds(��)</td>\n",
       "      <td>No</td>\n",
       "      <td>No</td>\n",
       "      <td>No</td>\n",
       "      <td>No</td>\n",
       "      <td>2</td>\n",
       "      <td>0.0</td>\n",
       "      <td>White</td>\n",
       "      <td>Not rated</td>\n",
       "      <td>3</td>\n",
       "    </tr>\n",
       "  </tbody>\n",
       "</table>\n",
       "<p>2148 rows × 21 columns</p>\n",
       "</div>"
      ],
      "text/plain": [
       "      Restaurant ID         Restaurant Name  Country Code            City  \\\n",
       "30          6600060          Sandubas Caf��            30       Bras�_lia   \n",
       "58          7305048   Quiosque Chopp Brahma            30  Rio de Janeiro   \n",
       "69          6710645        Cantinho da Gula            30      S��o Paulo   \n",
       "77          6701419           Divino Fog��o            30      S��o Paulo   \n",
       "78          6703956             Super Grill            30      S��o Paulo   \n",
       "...             ...                     ...           ...             ...   \n",
       "9109       18277023           Bread & Pasta             1           Noida   \n",
       "9110       18313203           Chillies Cafe             1           Noida   \n",
       "9111       18254559                Platters             1           Noida   \n",
       "9112       18255132               The Grand             1           Noida   \n",
       "9351       18273002  Damascena Coffee House           215      Birmingham   \n",
       "\n",
       "                                                Address  \\\n",
       "30    Edif�_cio Jos�� Severo, SCS 6, Bloco A, Loja 9...   \n",
       "58    Madureira Shopping - Loja 289/290, Piso 2, Est...   \n",
       "69    Rua Pedroso Alvarenga, 522, Itaim Bibi, S��o P...   \n",
       "77    Shopping Metr�� Santa Cruz - Piso L2, Rua Domi...   \n",
       "78    Shopping Morumbi - Piso Lazer, Avenida Roque P...   \n",
       "...                                                 ...   \n",
       "9109  Shop 15, Near HDFC Bank, Tulip Mall, Sector 48...   \n",
       "9110                 G-11, Tulip Mall, Sector 48, Noida   \n",
       "9111  Shop 1, Tulip Mall, Near HDFC Bank, Sector 48,...   \n",
       "9112                  G-5, Tulip Mall, Sector 48, Noida   \n",
       "9351             133 Alcester Road, Moseley, Birmingham   \n",
       "\n",
       "                                      Locality  \\\n",
       "30                                     Asa Sul   \n",
       "58                                   Madureira   \n",
       "69                                  Itaim Bibi   \n",
       "77    Shopping Metr�� Santa Cruz, Vila Mariana   \n",
       "78               Shopping Morumbi, Santo Amaro   \n",
       "...                                        ...   \n",
       "9109              Tulip Mall, Sector 48, Noida   \n",
       "9110              Tulip Mall, Sector 48, Noida   \n",
       "9111              Tulip Mall, Sector 48, Noida   \n",
       "9112              Tulip Mall, Sector 48, Noida   \n",
       "9351                                   Moseley   \n",
       "\n",
       "                                       Locality Verbose  Longitude   Latitude  \\\n",
       "30                                   Asa Sul, Bras�_lia -47.890167 -15.797000   \n",
       "58                            Madureira, Rio de Janeiro -43.341164 -22.870413   \n",
       "69                               Itaim Bibi, S��o Paulo -46.675667 -23.581000   \n",
       "77    Shopping Metr�� Santa Cruz, Vila Mariana, S��o... -46.637167 -23.599500   \n",
       "78            Shopping Morumbi, Santo Amaro, S��o Paulo -46.698574 -23.622925   \n",
       "...                                                 ...        ...        ...   \n",
       "9109                Tulip Mall, Sector 48, Noida, Noida  77.367303  28.557929   \n",
       "9110                Tulip Mall, Sector 48, Noida, Noida  77.367188  28.557842   \n",
       "9111                Tulip Mall, Sector 48, Noida, Noida  77.367322  28.557930   \n",
       "9112                Tulip Mall, Sector 48, Noida, Noida  77.367188  28.557852   \n",
       "9351                                Moseley, Birmingham  -1.888555  52.446302   \n",
       "\n",
       "                                      Cuisines  ...            Currency  \\\n",
       "30                          [Brazilian,  Cafe]  ...  Brazilian Real(R$)   \n",
       "58                      [Bar Food,  Brazilian]  ...  Brazilian Real(R$)   \n",
       "69                                 [Brazilian]  ...  Brazilian Real(R$)   \n",
       "77                       [Brazilian,  Mineira]  ...  Brazilian Real(R$)   \n",
       "78                                 [Brazilian]  ...  Brazilian Real(R$)   \n",
       "...                                        ...  ...                 ...   \n",
       "9109                               [Fast Food]  ...  Indian Rupees(Rs.)   \n",
       "9110                               [Fast Food]  ...  Indian Rupees(Rs.)   \n",
       "9111                  [North Indian,  Chinese]  ...  Indian Rupees(Rs.)   \n",
       "9112                   [Raw Meats,  Fast Food]  ...  Indian Rupees(Rs.)   \n",
       "9351  [Greek,  Mediterranean,  Middle Eastern]  ...          Pounds(��)   \n",
       "\n",
       "     Has Table booking Has Online delivery Is delivering now  \\\n",
       "30                  No                  No                No   \n",
       "58                  No                  No                No   \n",
       "69                  No                  No                No   \n",
       "77                  No                  No                No   \n",
       "78                  No                  No                No   \n",
       "...                ...                 ...               ...   \n",
       "9109                No                  No                No   \n",
       "9110                No                  No                No   \n",
       "9111                No                  No                No   \n",
       "9112                No                  No                No   \n",
       "9351                No                  No                No   \n",
       "\n",
       "     Switch to order menu Price range  Aggregate rating  Rating color  \\\n",
       "30                     No           1               0.0         White   \n",
       "58                     No           3               0.0         White   \n",
       "69                     No           2               0.0         White   \n",
       "77                     No           3               0.0         White   \n",
       "78                     No           2               0.0         White   \n",
       "...                   ...         ...               ...           ...   \n",
       "9109                   No           1               0.0         White   \n",
       "9110                   No           2               0.0         White   \n",
       "9111                   No           2               0.0         White   \n",
       "9112                   No           1               0.0         White   \n",
       "9351                   No           2               0.0         White   \n",
       "\n",
       "     Rating text Votes  \n",
       "30     Not rated     2  \n",
       "58     Not rated     1  \n",
       "69     Not rated     0  \n",
       "77     Not rated     2  \n",
       "78     Not rated     2  \n",
       "...          ...   ...  \n",
       "9109   Not rated     1  \n",
       "9110   Not rated     3  \n",
       "9111   Not rated     0  \n",
       "9112   Not rated     1  \n",
       "9351   Not rated     3  \n",
       "\n",
       "[2148 rows x 21 columns]"
      ]
     },
     "execution_count": 48,
     "metadata": {},
     "output_type": "execute_result"
    }
   ],
   "source": [
    "Q1 = df['Aggregate rating'].quantile(.25)\n",
    "Q3 = df['Aggregate rating'].quantile(.75)\n",
    "IQR = Q3-Q1\n",
    "\n",
    "lower_bound = Q1 - 1.5 * IQR\n",
    "upper_bound = Q3 + 1.5 * IQR\n",
    "\n",
    "print(f\"lower bound: {lower_bound}\\nupper bound: {upper_bound}\")\n",
    "\n",
    "# Outliers are values below the lower bound or values above the upper bound\n",
    "outliers = df[(df['Aggregate rating'] < lower_bound) | (df['Aggregate rating'] > upper_bound)]\n",
    "outliers\n"
   ]
  },
  {
   "cell_type": "markdown",
   "id": "46662ba2-fa78-4fa0-85a3-3b155a83156a",
   "metadata": {
    "id": "46662ba2-fa78-4fa0-85a3-3b155a83156a"
   },
   "source": [
    "#### **Observation**\n",
    "\n",
    "2,148 restaurants have been identified as outliers using the interquantile range method of identifying outliers.\n",
    "\n",
    "**Effect of Outliers**\n",
    "\n",
    "i. These outliers affected the distribution of the aggregate rating by making it left skewed.\n",
    "ii. Misleading analysis\n",
    "iii. Reducing model accuracy."
   ]
  },
  {
   "cell_type": "markdown",
   "id": "b6c8ab78-07ec-4d6e-8c85-c70d085ae2df",
   "metadata": {
    "id": "b6c8ab78-07ec-4d6e-8c85-c70d085ae2df"
   },
   "source": [
    "#### ii. **Correlation between votes and aggregate rating**"
   ]
  },
  {
   "cell_type": "code",
   "execution_count": 49,
   "id": "60b53b24-d799-49ba-80f4-51473fc6da6e",
   "metadata": {
    "colab": {
     "base_uri": "https://localhost:8080/",
     "height": 452
    },
    "id": "60b53b24-d799-49ba-80f4-51473fc6da6e",
    "outputId": "01a29772-f2cd-4253-f899-e653bef5a802"
   },
   "outputs": [
    {
     "data": {
      "text/plain": [
       "<Axes: >"
      ]
     },
     "execution_count": 49,
     "metadata": {},
     "output_type": "execute_result"
    },
    {
     "data": {
      "image/png": "[encoded data removed]",
      "text/plain": [
       "<Figure size 640x480 with 2 Axes>"
      ]
     },
     "metadata": {},
     "output_type": "display_data"
    }
   ],
   "source": [
    "x = df[['Votes', 'Aggregate rating']]\n",
    "corr = x.corr()\n",
    "sns.heatmap(corr, cmap = 'crest',annot = True)"
   ]
  },
  {
   "cell_type": "markdown",
   "id": "8e5b9566-f7af-477b-93b3-b983791bc547",
   "metadata": {
    "id": "8e5b9566-f7af-477b-93b3-b983791bc547"
   },
   "source": [
    "#### **Observation**\n",
    "\n",
    "A weak positive correlation was seen between votes and aggregate rating.\n",
    "This means that restaurants with more votes tend to have higher aggregate ratings."
   ]
  },
  {
   "cell_type": "markdown",
   "id": "2a972cd8-d5b6-443a-ae10-58449015d204",
   "metadata": {},
   "source": [
    "## Week 3:  Customer Preferences"
   ]
  },
  {
   "cell_type": "markdown",
   "id": "43f49cc0-7b51-43fa-bd94-6f1e992a2eba",
   "metadata": {},
   "source": [
    "### Objectives\n",
    "\n",
    "1. Identify highest-rated cuisines\n",
    "2. Compare ratings across price points\n",
    "3. Analyze table booking and delivery"
   ]
  },
  {
   "cell_type": "markdown",
   "id": "8552c59b-0764-4c94-9aa2-076622e99262",
   "metadata": {},
   "source": [
    "### 1. Cuisine Analysis"
   ]
  },
  {
   "cell_type": "code",
   "execution_count": 50,
   "id": "fe383ef1-a6ac-4e4f-a423-409eea2b1a16",
   "metadata": {},
   "outputs": [
    {
     "data": {
      "text/plain": [
       "Cuisines\n",
       "Sunda        4.900000\n",
       "B�_rek       4.700000\n",
       "Taiwanese    4.650000\n",
       "Ramen        4.500000\n",
       "Dim Sum      4.466667\n",
       "Name: Aggregate rating, dtype: float64"
      ]
     },
     "execution_count": 50,
     "metadata": {},
     "output_type": "execute_result"
    }
   ],
   "source": [
    "# Group Cuisines by average rating\n",
    "average_cuisines_rating = df_exploded.groupby('Cuisines')['Aggregate rating'].mean()\n",
    "highest_rated_cuisine = average_cuisines_rating.sort_values(ascending = False).head(5)\n",
    "highest_rated_cuisine\n"
   ]
  },
  {
   "cell_type": "markdown",
   "id": "597e70c3-bc5e-4677-b950-f7ae644fc645",
   "metadata": {},
   "source": [
    "### 2. Price Range"
   ]
  },
  {
   "cell_type": "code",
   "execution_count": 51,
   "id": "6ccbc04b-5113-4b1f-a00f-161ae0f685cd",
   "metadata": {},
   "outputs": [
    {
     "data": {
      "text/plain": [
       "Price range\n",
       "1    2.123560\n",
       "2    3.012253\n",
       "3    3.703060\n",
       "4    3.819914\n",
       "Name: Aggregate rating, dtype: float64"
      ]
     },
     "execution_count": 51,
     "metadata": {},
     "output_type": "execute_result"
    }
   ],
   "source": [
    "# Group Price by average rating\n",
    "average_price_rating = df_exploded.groupby('Price range')['Aggregate rating'].mean()\n",
    "average_price_rating"
   ]
  },
  {
   "cell_type": "code",
   "execution_count": 52,
   "id": "8efeef56-7dad-4592-86a3-23207bb10d9f",
   "metadata": {},
   "outputs": [
    {
     "data": {
      "image/png": "[encoded data removed]",
      "text/plain": [
       "<Figure size 640x480 with 1 Axes>"
      ]
     },
     "metadata": {},
     "output_type": "display_data"
    }
   ],
   "source": [
    "average_price_rating.plot(kind= 'bar')\n",
    "plt.title('Average ratings across price points')\n",
    "plt.xticks(rotation = 360)\n",
    "plt.show()"
   ]
  },
  {
   "cell_type": "markdown",
   "id": "05c8a944-3594-4b3e-9067-a3b61c2e4f8b",
   "metadata": {},
   "source": [
    "#### Observation\n",
    "\n",
    "Price range with the highest rating is 4.\n",
    "\n",
    "Sunda is the cuisine with the highest rating."
   ]
  },
  {
   "cell_type": "markdown",
   "id": "2c1b17e5-d3ed-444b-b916-a5f188d0ca93",
   "metadata": {},
   "source": [
    "### 3 Service Features"
   ]
  },
  {
   "cell_type": "code",
   "execution_count": 53,
   "id": "64b2eae1-93b9-462f-98ab-1cdbf3c3ff64",
   "metadata": {},
   "outputs": [
    {
     "name": "stdout",
     "output_type": "stream",
     "text": [
      "Has Table booking\n",
      "No     8384\n",
      "Yes    1158\n",
      "Name: count, dtype: int64\n"
     ]
    },
    {
     "data": {
      "image/png": "[encoded data removed]",
      "text/plain": [
       "<Figure size 500x300 with 1 Axes>"
      ]
     },
     "metadata": {},
     "output_type": "display_data"
    }
   ],
   "source": [
    "# Restaurant with or without Table booking\n",
    "print(df['Has Table booking'].value_counts())\n",
    "plt.figure(figsize = (5,3))\n",
    "df['Has Table booking'].value_counts().plot(kind='bar')\n",
    "plt.xticks(rotation = 360)\n",
    "plt.ylim((0, 9000))\n",
    "plt.xlabel('Table Booking' )\n",
    "plt.ylabel('Count')\n",
    "plt.title('Table Booking Analysis')\n",
    "plt.show()\n"
   ]
  },
  {
   "cell_type": "code",
   "execution_count": 54,
   "id": "8f9d09d8-7e0e-495d-b40e-c41b5a97569c",
   "metadata": {},
   "outputs": [
    {
     "data": {
      "text/html": [
       "<div>\n",
       "<style scoped>\n",
       "    .dataframe tbody tr th:only-of-type {\n",
       "        vertical-align: middle;\n",
       "    }\n",
       "\n",
       "    .dataframe tbody tr th {\n",
       "        vertical-align: top;\n",
       "    }\n",
       "\n",
       "    .dataframe thead th {\n",
       "        text-align: right;\n",
       "    }\n",
       "</style>\n",
       "<table border=\"1\" class=\"dataframe\">\n",
       "  <thead>\n",
       "    <tr style=\"text-align: right;\">\n",
       "      <th></th>\n",
       "      <th>Has Table booking</th>\n",
       "      <th>Avg_Aggregate rating</th>\n",
       "    </tr>\n",
       "  </thead>\n",
       "  <tbody>\n",
       "    <tr>\n",
       "      <th>1</th>\n",
       "      <td>Yes</td>\n",
       "      <td>3.441969</td>\n",
       "    </tr>\n",
       "    <tr>\n",
       "      <th>0</th>\n",
       "      <td>No</td>\n",
       "      <td>2.557956</td>\n",
       "    </tr>\n",
       "  </tbody>\n",
       "</table>\n",
       "</div>"
      ],
      "text/plain": [
       "  Has Table booking  Avg_Aggregate rating\n",
       "1               Yes              3.441969\n",
       "0                No              2.557956"
      ]
     },
     "execution_count": 54,
     "metadata": {},
     "output_type": "execute_result"
    }
   ],
   "source": [
    "table_booking_rating = df.groupby(['Has Table booking'])['Aggregate rating'].mean().reset_index()\n",
    "table_booking_rating = table_booking_rating.sort_values(by= ['Aggregate rating'],ascending= False).rename(columns={'Aggregate rating': 'Avg_Aggregate rating'}) \n",
    "table_booking_rating"
   ]
  },
  {
   "cell_type": "markdown",
   "id": "e0db541b-dc8d-4792-88c3-77424e0cf96f",
   "metadata": {},
   "source": [
    "#### Observation\n",
    "\n",
    "1. 1,158 restaurants have table booking feature while 8,384 restaurants do not.\n",
    "2. Restaurants with table booking feature have a higher average aggregate rating than restaurants that do not have. "
   ]
  },
  {
   "cell_type": "markdown",
   "id": "69f1f7b4-0bdf-4071-a978-22d89cf5e62a",
   "metadata": {},
   "source": [
    "### Additional Insight"
   ]
  },
  {
   "cell_type": "markdown",
   "id": "72575462-a6c9-4e9e-a552-60304cf1510f",
   "metadata": {},
   "source": [
    "#### 3a. Table Booking Impact"
   ]
  },
  {
   "cell_type": "code",
   "execution_count": 55,
   "id": "c92e893e-e266-452d-966a-d27ebc6d97b1",
   "metadata": {},
   "outputs": [
    {
     "data": {
      "text/html": [
       "<div>\n",
       "<style scoped>\n",
       "    .dataframe tbody tr th:only-of-type {\n",
       "        vertical-align: middle;\n",
       "    }\n",
       "\n",
       "    .dataframe tbody tr th {\n",
       "        vertical-align: top;\n",
       "    }\n",
       "\n",
       "    .dataframe thead th {\n",
       "        text-align: right;\n",
       "    }\n",
       "</style>\n",
       "<table border=\"1\" class=\"dataframe\">\n",
       "  <thead>\n",
       "    <tr style=\"text-align: right;\">\n",
       "      <th></th>\n",
       "      <th>City</th>\n",
       "      <th>Has Table booking</th>\n",
       "      <th>Avg_Aggregate rating</th>\n",
       "    </tr>\n",
       "  </thead>\n",
       "  <tbody>\n",
       "    <tr>\n",
       "      <th>1</th>\n",
       "      <td>Abu Dhabi</td>\n",
       "      <td>Yes</td>\n",
       "      <td>4.450000</td>\n",
       "    </tr>\n",
       "    <tr>\n",
       "      <th>0</th>\n",
       "      <td>Abu Dhabi</td>\n",
       "      <td>No</td>\n",
       "      <td>4.235714</td>\n",
       "    </tr>\n",
       "    <tr>\n",
       "      <th>2</th>\n",
       "      <td>Agra</td>\n",
       "      <td>No</td>\n",
       "      <td>3.965000</td>\n",
       "    </tr>\n",
       "    <tr>\n",
       "      <th>3</th>\n",
       "      <td>Ahmedabad</td>\n",
       "      <td>No</td>\n",
       "      <td>4.161905</td>\n",
       "    </tr>\n",
       "    <tr>\n",
       "      <th>4</th>\n",
       "      <td>Albany</td>\n",
       "      <td>No</td>\n",
       "      <td>3.552941</td>\n",
       "    </tr>\n",
       "    <tr>\n",
       "      <th>5</th>\n",
       "      <td>Allahabad</td>\n",
       "      <td>No</td>\n",
       "      <td>3.395000</td>\n",
       "    </tr>\n",
       "    <tr>\n",
       "      <th>6</th>\n",
       "      <td>Amritsar</td>\n",
       "      <td>No</td>\n",
       "      <td>3.685714</td>\n",
       "    </tr>\n",
       "    <tr>\n",
       "      <th>7</th>\n",
       "      <td>Ankara</td>\n",
       "      <td>No</td>\n",
       "      <td>4.305000</td>\n",
       "    </tr>\n",
       "    <tr>\n",
       "      <th>8</th>\n",
       "      <td>Armidale</td>\n",
       "      <td>No</td>\n",
       "      <td>3.500000</td>\n",
       "    </tr>\n",
       "    <tr>\n",
       "      <th>9</th>\n",
       "      <td>Athens</td>\n",
       "      <td>No</td>\n",
       "      <td>4.200000</td>\n",
       "    </tr>\n",
       "  </tbody>\n",
       "</table>\n",
       "</div>"
      ],
      "text/plain": [
       "        City Has Table booking  Avg_Aggregate rating\n",
       "1  Abu Dhabi               Yes              4.450000\n",
       "0  Abu Dhabi                No              4.235714\n",
       "2       Agra                No              3.965000\n",
       "3  Ahmedabad                No              4.161905\n",
       "4     Albany                No              3.552941\n",
       "5  Allahabad                No              3.395000\n",
       "6   Amritsar                No              3.685714\n",
       "7     Ankara                No              4.305000\n",
       "8   Armidale                No              3.500000\n",
       "9     Athens                No              4.200000"
      ]
     },
     "execution_count": 55,
     "metadata": {},
     "output_type": "execute_result"
    }
   ],
   "source": [
    "city_table_booking = df.groupby(['City', 'Has Table booking'])['Aggregate rating'].mean().reset_index()\n",
    "city_table_booking = city_table_booking.sort_values(by= ['City', 'Aggregate rating'],ascending=[True, False]).rename(columns={'Aggregate rating': 'Avg_Aggregate rating'}) \n",
    "city_table_booking.head(10)"
   ]
  },
  {
   "cell_type": "code",
   "execution_count": 56,
   "id": "ccce4ace-42aa-4ddc-9070-81d609e9adec",
   "metadata": {},
   "outputs": [
    {
     "data": {
      "image/png": "[encoded data removed]",
      "text/plain": [
       "<Figure size 1000x600 with 1 Axes>"
      ]
     },
     "metadata": {},
     "output_type": "display_data"
    }
   ],
   "source": [
    "plt.figure(figsize=(10,6))\n",
    "sns.barplot(x= 'City', y= 'Avg_Aggregate rating', data=city_table_booking.head(20), hue='Has Table booking')\n",
    "plt.xticks(rotation=45, ha='right')\n",
    "plt.tight_layout()\n",
    "plt.show()"
   ]
  },
  {
   "cell_type": "markdown",
   "id": "ad883a70-3389-4f02-ab41-c6b297476d37",
   "metadata": {},
   "source": [
    "#### Observation\n",
    "\n",
    "In some cities like Abu Dhabi and Birmingham, restaurants with \"table booking\" have a higher average ratings while cities like Bangalore, Chennai, and Cedar Rapids/Iowa City, restaurants with no table booking have a higher average ratings which implies that the customer preference for this feature varies by city.\n",
    "\n",
    "There are 8,384 restaurants without table booking feature and 1,158 with the feature.\n",
    "\n"
   ]
  },
  {
   "cell_type": "markdown",
   "id": "4d95ea53-8d19-432b-873e-50cecaa4087d",
   "metadata": {},
   "source": [
    "#### 3b. Online Delivery Analysis"
   ]
  },
  {
   "cell_type": "code",
   "execution_count": 57,
   "id": "7c584c46-6711-4850-9cf4-af68b1b2099f",
   "metadata": {},
   "outputs": [
    {
     "name": "stdout",
     "output_type": "stream",
     "text": [
      "Has Online delivery\n",
      "No     7091\n",
      "Yes    2451\n",
      "Name: count, dtype: int64\n"
     ]
    },
    {
     "data": {
      "image/png": "[encoded data removed]",
      "text/plain": [
       "<Figure size 500x300 with 1 Axes>"
      ]
     },
     "metadata": {},
     "output_type": "display_data"
    }
   ],
   "source": [
    "plt.figure(figsize = (5,3))\n",
    "print(df['Has Online delivery'].value_counts())\n",
    "df['Has Online delivery'].value_counts().plot(kind='bar')\n",
    "plt.xticks(rotation = 360)\n",
    "plt.ylim((0, 8000))\n",
    "plt.xlabel('Online Delivery' )\n",
    "plt.ylabel('Count')\n",
    "plt.title('Online Delivery Analysis')\n",
    "plt.show()"
   ]
  },
  {
   "cell_type": "code",
   "execution_count": 58,
   "id": "26db2e03-e9e9-451f-a36e-9b6ba453d3aa",
   "metadata": {},
   "outputs": [
    {
     "data": {
      "text/plain": [
       "np.float64(25.69)"
      ]
     },
     "execution_count": 58,
     "metadata": {},
     "output_type": "execute_result"
    }
   ],
   "source": [
    "online_delivery_yes = (df['Has Online delivery'] == 'Yes').sum()\n",
    "total_count = df['Has Online delivery'].value_counts().sum()\n",
    "Online_Delivery_Percent = round((online_delivery_yes/total_count) * 100, 2)\n",
    "Online_Delivery_Percent \n"
   ]
  },
  {
   "cell_type": "code",
   "execution_count": 59,
   "id": "ce949a3c-e90d-42e0-a367-50aa35292be7",
   "metadata": {},
   "outputs": [
    {
     "name": "stdout",
     "output_type": "stream",
     "text": [
      "Price range\n",
      "1     701\n",
      "2    1286\n",
      "3     411\n",
      "4      53\n",
      "Name: Has Online delivery, dtype: int64\n"
     ]
    },
    {
     "data": {
      "image/png": "[encoded data removed]",
      "text/plain": [
       "<Figure size 500x300 with 1 Axes>"
      ]
     },
     "metadata": {},
     "output_type": "display_data"
    }
   ],
   "source": [
    "# Online Delivery across price range\n",
    "\n",
    "online_delivery_yes = df[df['Has Online delivery'] == 'Yes']\n",
    "print(online_delivery_yes.groupby('Price range')['Has Online delivery'].count())\n",
    "\n",
    "plt.figure(figsize = (5,3))\n",
    "online_delivery_yes.groupby('Price range')['Has Online delivery'].count().plot(kind='bar')\n",
    "plt.xticks(rotation=360)\n",
    "plt.ylim((0, 1400))\n",
    "plt.title('Online Delivery Availability Across Price Range')\n",
    "plt.ylabel('Count')\n",
    "plt.show()\n"
   ]
  },
  {
   "cell_type": "code",
   "execution_count": 60,
   "id": "502c630c-733f-4f92-9796-8eab28e07e1f",
   "metadata": {},
   "outputs": [
    {
     "name": "stdout",
     "output_type": "stream",
     "text": [
      "Is delivering now\n",
      "No     9508\n",
      "Yes      34\n",
      "Name: count, dtype: int64\n"
     ]
    },
    {
     "data": {
      "image/png": "[encoded data removed]",
      "text/plain": [
       "<Figure size 500x300 with 1 Axes>"
      ]
     },
     "metadata": {},
     "output_type": "display_data"
    }
   ],
   "source": [
    "plt.figure(figsize = (5,3))\n",
    "print(df['Is delivering now'].value_counts())\n",
    "df['Is delivering now'].value_counts().plot(kind='bar')\n",
    "plt.xticks(rotation = 360)\n",
    "plt.ylim((0, 10000))\n",
    "plt.xlabel('Ongoing Delivery' )\n",
    "plt.ylabel('Count')\n",
    "plt.title('Ongoing Delivery Analysis')\n",
    "plt.show()"
   ]
  },
  {
   "cell_type": "markdown",
   "id": "6a3bde8f-e0ff-4c17-98bb-b0e2f80870df",
   "metadata": {},
   "source": [
    "#### Observation\n",
    "\n",
    "1. 25.69% restaurants offer online delivery service.\n",
    "2. price range 2 has the highest availability of online delivery.\n",
    "3. 34 restaurants currently have ongoing delivery"
   ]
  },
  {
   "cell_type": "markdown",
   "id": "338e317e-a640-47cd-9731-e2bf8f0737d8",
   "metadata": {},
   "source": [
    "#### 3c. Customer Preference"
   ]
  },
  {
   "cell_type": "markdown",
   "id": "0e3fdf7c-4fdd-42ce-b82d-135c0011087e",
   "metadata": {},
   "source": [
    "#### i. City Specific Preference"
   ]
  },
  {
   "cell_type": "code",
   "execution_count": 61,
   "id": "11f04685-03f0-4c66-b8be-1770f164d153",
   "metadata": {},
   "outputs": [
    {
     "data": {
      "text/plain": [
       "Cuisines\n",
       "North Indian    595981\n",
       "Name: Votes, dtype: int64"
      ]
     },
     "execution_count": 61,
     "metadata": {},
     "output_type": "execute_result"
    }
   ],
   "source": [
    "# Popular Cuisine by votes\n",
    "df_exploded.groupby('Cuisines')['Votes'].sum().nlargest(1)"
   ]
  },
  {
   "cell_type": "code",
   "execution_count": 62,
   "id": "54d89e4d-c053-4ff9-9cbe-3d095f7c6dad",
   "metadata": {
    "scrolled": true
   },
   "outputs": [
    {
     "data": {
      "text/html": [
       "<div>\n",
       "<style scoped>\n",
       "    .dataframe tbody tr th:only-of-type {\n",
       "        vertical-align: middle;\n",
       "    }\n",
       "\n",
       "    .dataframe tbody tr th {\n",
       "        vertical-align: top;\n",
       "    }\n",
       "\n",
       "    .dataframe thead th {\n",
       "        text-align: right;\n",
       "    }\n",
       "</style>\n",
       "<table border=\"1\" class=\"dataframe\">\n",
       "  <thead>\n",
       "    <tr style=\"text-align: right;\">\n",
       "      <th></th>\n",
       "      <th>City</th>\n",
       "      <th>Cuisines</th>\n",
       "      <th>Avg_Aggregate rating</th>\n",
       "    </tr>\n",
       "  </thead>\n",
       "  <tbody>\n",
       "    <tr>\n",
       "      <th>7</th>\n",
       "      <td>Abu Dhabi</td>\n",
       "      <td>Desserts</td>\n",
       "      <td>4.600000</td>\n",
       "    </tr>\n",
       "    <tr>\n",
       "      <th>3</th>\n",
       "      <td>Abu Dhabi</td>\n",
       "      <td>Asian</td>\n",
       "      <td>4.550000</td>\n",
       "    </tr>\n",
       "    <tr>\n",
       "      <th>9</th>\n",
       "      <td>Abu Dhabi</td>\n",
       "      <td>Filipino</td>\n",
       "      <td>4.500000</td>\n",
       "    </tr>\n",
       "    <tr>\n",
       "      <th>14</th>\n",
       "      <td>Abu Dhabi</td>\n",
       "      <td>Japanese</td>\n",
       "      <td>4.450000</td>\n",
       "    </tr>\n",
       "    <tr>\n",
       "      <th>1</th>\n",
       "      <td>Abu Dhabi</td>\n",
       "      <td>American</td>\n",
       "      <td>4.450000</td>\n",
       "    </tr>\n",
       "    <tr>\n",
       "      <th>12</th>\n",
       "      <td>Abu Dhabi</td>\n",
       "      <td>Indonesian</td>\n",
       "      <td>4.400000</td>\n",
       "    </tr>\n",
       "    <tr>\n",
       "      <th>24</th>\n",
       "      <td>Abu Dhabi</td>\n",
       "      <td>Thai</td>\n",
       "      <td>4.400000</td>\n",
       "    </tr>\n",
       "    <tr>\n",
       "      <th>26</th>\n",
       "      <td>Abu Dhabi</td>\n",
       "      <td>Vietnamese</td>\n",
       "      <td>4.400000</td>\n",
       "    </tr>\n",
       "    <tr>\n",
       "      <th>19</th>\n",
       "      <td>Abu Dhabi</td>\n",
       "      <td>North Indian</td>\n",
       "      <td>4.300000</td>\n",
       "    </tr>\n",
       "    <tr>\n",
       "      <th>25</th>\n",
       "      <td>Abu Dhabi</td>\n",
       "      <td>Turkish</td>\n",
       "      <td>4.300000</td>\n",
       "    </tr>\n",
       "    <tr>\n",
       "      <th>13</th>\n",
       "      <td>Abu Dhabi</td>\n",
       "      <td>Italian</td>\n",
       "      <td>4.250000</td>\n",
       "    </tr>\n",
       "    <tr>\n",
       "      <th>21</th>\n",
       "      <td>Abu Dhabi</td>\n",
       "      <td>Pizza</td>\n",
       "      <td>4.250000</td>\n",
       "    </tr>\n",
       "    <tr>\n",
       "      <th>11</th>\n",
       "      <td>Abu Dhabi</td>\n",
       "      <td>Indian</td>\n",
       "      <td>4.214286</td>\n",
       "    </tr>\n",
       "    <tr>\n",
       "      <th>5</th>\n",
       "      <td>Abu Dhabi</td>\n",
       "      <td>Burger</td>\n",
       "      <td>4.200000</td>\n",
       "    </tr>\n",
       "    <tr>\n",
       "      <th>6</th>\n",
       "      <td>Abu Dhabi</td>\n",
       "      <td>Chinese</td>\n",
       "      <td>4.200000</td>\n",
       "    </tr>\n",
       "    <tr>\n",
       "      <th>8</th>\n",
       "      <td>Abu Dhabi</td>\n",
       "      <td>Fast Food</td>\n",
       "      <td>4.200000</td>\n",
       "    </tr>\n",
       "    <tr>\n",
       "      <th>2</th>\n",
       "      <td>Abu Dhabi</td>\n",
       "      <td>Arabian</td>\n",
       "      <td>4.150000</td>\n",
       "    </tr>\n",
       "    <tr>\n",
       "      <th>17</th>\n",
       "      <td>Abu Dhabi</td>\n",
       "      <td>Middle Eastern</td>\n",
       "      <td>4.150000</td>\n",
       "    </tr>\n",
       "    <tr>\n",
       "      <th>0</th>\n",
       "      <td>Abu Dhabi</td>\n",
       "      <td>Afghani</td>\n",
       "      <td>4.000000</td>\n",
       "    </tr>\n",
       "    <tr>\n",
       "      <th>4</th>\n",
       "      <td>Abu Dhabi</td>\n",
       "      <td>Biryani</td>\n",
       "      <td>4.000000</td>\n",
       "    </tr>\n",
       "    <tr>\n",
       "      <th>10</th>\n",
       "      <td>Abu Dhabi</td>\n",
       "      <td>Hyderabadi</td>\n",
       "      <td>4.000000</td>\n",
       "    </tr>\n",
       "    <tr>\n",
       "      <th>15</th>\n",
       "      <td>Abu Dhabi</td>\n",
       "      <td>Lebanese</td>\n",
       "      <td>4.000000</td>\n",
       "    </tr>\n",
       "    <tr>\n",
       "      <th>16</th>\n",
       "      <td>Abu Dhabi</td>\n",
       "      <td>Mexican</td>\n",
       "      <td>4.000000</td>\n",
       "    </tr>\n",
       "    <tr>\n",
       "      <th>18</th>\n",
       "      <td>Abu Dhabi</td>\n",
       "      <td>Mughlai</td>\n",
       "      <td>4.000000</td>\n",
       "    </tr>\n",
       "    <tr>\n",
       "      <th>20</th>\n",
       "      <td>Abu Dhabi</td>\n",
       "      <td>Pakistani</td>\n",
       "      <td>4.000000</td>\n",
       "    </tr>\n",
       "    <tr>\n",
       "      <th>22</th>\n",
       "      <td>Abu Dhabi</td>\n",
       "      <td>Seafood</td>\n",
       "      <td>4.000000</td>\n",
       "    </tr>\n",
       "    <tr>\n",
       "      <th>23</th>\n",
       "      <td>Abu Dhabi</td>\n",
       "      <td>South Indian</td>\n",
       "      <td>3.600000</td>\n",
       "    </tr>\n",
       "    <tr>\n",
       "      <th>27</th>\n",
       "      <td>Agra</td>\n",
       "      <td>Cafe</td>\n",
       "      <td>4.400000</td>\n",
       "    </tr>\n",
       "    <tr>\n",
       "      <th>38</th>\n",
       "      <td>Agra</td>\n",
       "      <td>Pizza</td>\n",
       "      <td>4.400000</td>\n",
       "    </tr>\n",
       "    <tr>\n",
       "      <th>34</th>\n",
       "      <td>Agra</td>\n",
       "      <td>Italian</td>\n",
       "      <td>4.166667</td>\n",
       "    </tr>\n",
       "    <tr>\n",
       "      <th>30</th>\n",
       "      <td>Agra</td>\n",
       "      <td>Desserts</td>\n",
       "      <td>4.100000</td>\n",
       "    </tr>\n",
       "    <tr>\n",
       "      <th>32</th>\n",
       "      <td>Agra</td>\n",
       "      <td>Fast Food</td>\n",
       "      <td>4.100000</td>\n",
       "    </tr>\n",
       "    <tr>\n",
       "      <th>40</th>\n",
       "      <td>Agra</td>\n",
       "      <td>South Indian</td>\n",
       "      <td>4.100000</td>\n",
       "    </tr>\n",
       "    <tr>\n",
       "      <th>28</th>\n",
       "      <td>Agra</td>\n",
       "      <td>Chinese</td>\n",
       "      <td>4.066667</td>\n",
       "    </tr>\n",
       "    <tr>\n",
       "      <th>31</th>\n",
       "      <td>Agra</td>\n",
       "      <td>European</td>\n",
       "      <td>4.000000</td>\n",
       "    </tr>\n",
       "    <tr>\n",
       "      <th>37</th>\n",
       "      <td>Agra</td>\n",
       "      <td>North Indian</td>\n",
       "      <td>3.946667</td>\n",
       "    </tr>\n",
       "    <tr>\n",
       "      <th>35</th>\n",
       "      <td>Agra</td>\n",
       "      <td>Mexican</td>\n",
       "      <td>3.900000</td>\n",
       "    </tr>\n",
       "    <tr>\n",
       "      <th>29</th>\n",
       "      <td>Agra</td>\n",
       "      <td>Continental</td>\n",
       "      <td>3.840000</td>\n",
       "    </tr>\n",
       "    <tr>\n",
       "      <th>36</th>\n",
       "      <td>Agra</td>\n",
       "      <td>Mughlai</td>\n",
       "      <td>3.822222</td>\n",
       "    </tr>\n",
       "    <tr>\n",
       "      <th>39</th>\n",
       "      <td>Agra</td>\n",
       "      <td>Rajasthani</td>\n",
       "      <td>3.800000</td>\n",
       "    </tr>\n",
       "    <tr>\n",
       "      <th>33</th>\n",
       "      <td>Agra</td>\n",
       "      <td>Gujarati</td>\n",
       "      <td>3.600000</td>\n",
       "    </tr>\n",
       "    <tr>\n",
       "      <th>52</th>\n",
       "      <td>Ahmedabad</td>\n",
       "      <td>Ice Cream</td>\n",
       "      <td>4.550000</td>\n",
       "    </tr>\n",
       "    <tr>\n",
       "      <th>45</th>\n",
       "      <td>Ahmedabad</td>\n",
       "      <td>Burger</td>\n",
       "      <td>4.500000</td>\n",
       "    </tr>\n",
       "    <tr>\n",
       "      <th>51</th>\n",
       "      <td>Ahmedabad</td>\n",
       "      <td>Healthy Food</td>\n",
       "      <td>4.500000</td>\n",
       "    </tr>\n",
       "    <tr>\n",
       "      <th>60</th>\n",
       "      <td>Ahmedabad</td>\n",
       "      <td>Street Food</td>\n",
       "      <td>4.400000</td>\n",
       "    </tr>\n",
       "    <tr>\n",
       "      <th>54</th>\n",
       "      <td>Ahmedabad</td>\n",
       "      <td>Mediterranean</td>\n",
       "      <td>4.350000</td>\n",
       "    </tr>\n",
       "    <tr>\n",
       "      <th>44</th>\n",
       "      <td>Ahmedabad</td>\n",
       "      <td>Beverages</td>\n",
       "      <td>4.266667</td>\n",
       "    </tr>\n",
       "    <tr>\n",
       "      <th>49</th>\n",
       "      <td>Ahmedabad</td>\n",
       "      <td>Desserts</td>\n",
       "      <td>4.266667</td>\n",
       "    </tr>\n",
       "    <tr>\n",
       "      <th>57</th>\n",
       "      <td>Ahmedabad</td>\n",
       "      <td>Pizza</td>\n",
       "      <td>4.233333</td>\n",
       "    </tr>\n",
       "    <tr>\n",
       "      <th>53</th>\n",
       "      <td>Ahmedabad</td>\n",
       "      <td>Italian</td>\n",
       "      <td>4.220000</td>\n",
       "    </tr>\n",
       "  </tbody>\n",
       "</table>\n",
       "</div>"
      ],
      "text/plain": [
       "         City        Cuisines  Avg_Aggregate rating\n",
       "7   Abu Dhabi        Desserts              4.600000\n",
       "3   Abu Dhabi           Asian              4.550000\n",
       "9   Abu Dhabi        Filipino              4.500000\n",
       "14  Abu Dhabi        Japanese              4.450000\n",
       "1   Abu Dhabi        American              4.450000\n",
       "12  Abu Dhabi      Indonesian              4.400000\n",
       "24  Abu Dhabi            Thai              4.400000\n",
       "26  Abu Dhabi      Vietnamese              4.400000\n",
       "19  Abu Dhabi    North Indian              4.300000\n",
       "25  Abu Dhabi         Turkish              4.300000\n",
       "13  Abu Dhabi         Italian              4.250000\n",
       "21  Abu Dhabi           Pizza              4.250000\n",
       "11  Abu Dhabi          Indian              4.214286\n",
       "5   Abu Dhabi          Burger              4.200000\n",
       "6   Abu Dhabi         Chinese              4.200000\n",
       "8   Abu Dhabi       Fast Food              4.200000\n",
       "2   Abu Dhabi         Arabian              4.150000\n",
       "17  Abu Dhabi  Middle Eastern              4.150000\n",
       "0   Abu Dhabi         Afghani              4.000000\n",
       "4   Abu Dhabi         Biryani              4.000000\n",
       "10  Abu Dhabi      Hyderabadi              4.000000\n",
       "15  Abu Dhabi        Lebanese              4.000000\n",
       "16  Abu Dhabi         Mexican              4.000000\n",
       "18  Abu Dhabi         Mughlai              4.000000\n",
       "20  Abu Dhabi       Pakistani              4.000000\n",
       "22  Abu Dhabi         Seafood              4.000000\n",
       "23  Abu Dhabi    South Indian              3.600000\n",
       "27       Agra            Cafe              4.400000\n",
       "38       Agra           Pizza              4.400000\n",
       "34       Agra         Italian              4.166667\n",
       "30       Agra        Desserts              4.100000\n",
       "32       Agra       Fast Food              4.100000\n",
       "40       Agra    South Indian              4.100000\n",
       "28       Agra         Chinese              4.066667\n",
       "31       Agra        European              4.000000\n",
       "37       Agra    North Indian              3.946667\n",
       "35       Agra         Mexican              3.900000\n",
       "29       Agra     Continental              3.840000\n",
       "36       Agra         Mughlai              3.822222\n",
       "39       Agra      Rajasthani              3.800000\n",
       "33       Agra        Gujarati              3.600000\n",
       "52  Ahmedabad       Ice Cream              4.550000\n",
       "45  Ahmedabad          Burger              4.500000\n",
       "51  Ahmedabad    Healthy Food              4.500000\n",
       "60  Ahmedabad     Street Food              4.400000\n",
       "54  Ahmedabad   Mediterranean              4.350000\n",
       "44  Ahmedabad       Beverages              4.266667\n",
       "49  Ahmedabad        Desserts              4.266667\n",
       "57  Ahmedabad           Pizza              4.233333\n",
       "53  Ahmedabad         Italian              4.220000"
      ]
     },
     "execution_count": 62,
     "metadata": {},
     "output_type": "execute_result"
    }
   ],
   "source": [
    "city_preference = df_exploded.groupby(['City', 'Cuisines'])['Aggregate rating'].mean().reset_index()\n",
    "city_preference = city_preference.sort_values(by= ['City', 'Aggregate rating'],ascending=[True, False]).rename(columns={'Aggregate rating': 'Avg_Aggregate rating'}) \n",
    "city_preference.head(50)"
   ]
  },
  {
   "cell_type": "code",
   "execution_count": 63,
   "id": "748e23c8-2e32-46cc-a742-f0f786cb249b",
   "metadata": {},
   "outputs": [
    {
     "data": {
      "text/html": [
       "<div>\n",
       "<style scoped>\n",
       "    .dataframe tbody tr th:only-of-type {\n",
       "        vertical-align: middle;\n",
       "    }\n",
       "\n",
       "    .dataframe tbody tr th {\n",
       "        vertical-align: top;\n",
       "    }\n",
       "\n",
       "    .dataframe thead th {\n",
       "        text-align: right;\n",
       "    }\n",
       "</style>\n",
       "<table border=\"1\" class=\"dataframe\">\n",
       "  <thead>\n",
       "    <tr style=\"text-align: right;\">\n",
       "      <th></th>\n",
       "      <th>City</th>\n",
       "      <th>Cuisines</th>\n",
       "      <th>Avg_Aggregate rating</th>\n",
       "    </tr>\n",
       "  </thead>\n",
       "  <tbody>\n",
       "    <tr>\n",
       "      <th>0</th>\n",
       "      <td>Abu Dhabi</td>\n",
       "      <td>Desserts</td>\n",
       "      <td>4.600000</td>\n",
       "    </tr>\n",
       "    <tr>\n",
       "      <th>1</th>\n",
       "      <td>Agra</td>\n",
       "      <td>Cafe</td>\n",
       "      <td>4.400000</td>\n",
       "    </tr>\n",
       "    <tr>\n",
       "      <th>2</th>\n",
       "      <td>Ahmedabad</td>\n",
       "      <td>Ice Cream</td>\n",
       "      <td>4.550000</td>\n",
       "    </tr>\n",
       "    <tr>\n",
       "      <th>3</th>\n",
       "      <td>Albany</td>\n",
       "      <td>Asian</td>\n",
       "      <td>3.900000</td>\n",
       "    </tr>\n",
       "    <tr>\n",
       "      <th>4</th>\n",
       "      <td>Allahabad</td>\n",
       "      <td>Desserts</td>\n",
       "      <td>3.600000</td>\n",
       "    </tr>\n",
       "    <tr>\n",
       "      <th>5</th>\n",
       "      <td>Amritsar</td>\n",
       "      <td>Mithai</td>\n",
       "      <td>4.100000</td>\n",
       "    </tr>\n",
       "    <tr>\n",
       "      <th>6</th>\n",
       "      <td>Ankara</td>\n",
       "      <td>Pizza</td>\n",
       "      <td>4.700000</td>\n",
       "    </tr>\n",
       "    <tr>\n",
       "      <th>7</th>\n",
       "      <td>Armidale</td>\n",
       "      <td>Bar Food</td>\n",
       "      <td>3.500000</td>\n",
       "    </tr>\n",
       "    <tr>\n",
       "      <th>8</th>\n",
       "      <td>Athens</td>\n",
       "      <td>Southwestern</td>\n",
       "      <td>4.500000</td>\n",
       "    </tr>\n",
       "    <tr>\n",
       "      <th>9</th>\n",
       "      <td>Auckland</td>\n",
       "      <td>Desserts</td>\n",
       "      <td>4.833333</td>\n",
       "    </tr>\n",
       "  </tbody>\n",
       "</table>\n",
       "</div>"
      ],
      "text/plain": [
       "        City      Cuisines  Avg_Aggregate rating\n",
       "0  Abu Dhabi      Desserts              4.600000\n",
       "1       Agra          Cafe              4.400000\n",
       "2  Ahmedabad     Ice Cream              4.550000\n",
       "3     Albany         Asian              3.900000\n",
       "4  Allahabad      Desserts              3.600000\n",
       "5   Amritsar        Mithai              4.100000\n",
       "6     Ankara         Pizza              4.700000\n",
       "7   Armidale      Bar Food              3.500000\n",
       "8     Athens  Southwestern              4.500000\n",
       "9   Auckland      Desserts              4.833333"
      ]
     },
     "execution_count": 63,
     "metadata": {},
     "output_type": "execute_result"
    }
   ],
   "source": [
    "# top cuisine per city\n",
    "specific_city_preference = city_preference.groupby('City').first().reset_index()\n",
    "specific_city_preference.head(10)\n"
   ]
  },
  {
   "cell_type": "code",
   "execution_count": 64,
   "id": "c2c9fbec-4348-4a49-812b-ea555610b575",
   "metadata": {},
   "outputs": [
    {
     "data": {
      "text/html": [
       "<div>\n",
       "<style scoped>\n",
       "    .dataframe tbody tr th:only-of-type {\n",
       "        vertical-align: middle;\n",
       "    }\n",
       "\n",
       "    .dataframe tbody tr th {\n",
       "        vertical-align: top;\n",
       "    }\n",
       "\n",
       "    .dataframe thead th {\n",
       "        text-align: right;\n",
       "    }\n",
       "</style>\n",
       "<table border=\"1\" class=\"dataframe\">\n",
       "  <thead>\n",
       "    <tr style=\"text-align: right;\">\n",
       "      <th></th>\n",
       "      <th>City</th>\n",
       "      <th>Cuisines</th>\n",
       "      <th>Avg_Aggregate rating</th>\n",
       "    </tr>\n",
       "  </thead>\n",
       "  <tbody>\n",
       "    <tr>\n",
       "      <th>147</th>\n",
       "      <td>Auckland</td>\n",
       "      <td>Desserts</td>\n",
       "      <td>4.833333</td>\n",
       "    </tr>\n",
       "    <tr>\n",
       "      <th>1514</th>\n",
       "      <td>Rio de Janeiro</td>\n",
       "      <td>Desserts</td>\n",
       "      <td>4.800000</td>\n",
       "    </tr>\n",
       "    <tr>\n",
       "      <th>1034</th>\n",
       "      <td>Makati City</td>\n",
       "      <td>Desserts</td>\n",
       "      <td>4.800000</td>\n",
       "    </tr>\n",
       "    <tr>\n",
       "      <th>810</th>\n",
       "      <td>Hyderabad</td>\n",
       "      <td>Desserts</td>\n",
       "      <td>4.750000</td>\n",
       "    </tr>\n",
       "    <tr>\n",
       "      <th>1695</th>\n",
       "      <td>Tampa Bay</td>\n",
       "      <td>Desserts</td>\n",
       "      <td>4.700000</td>\n",
       "    </tr>\n",
       "    <tr>\n",
       "      <th>...</th>\n",
       "      <td>...</td>\n",
       "      <td>...</td>\n",
       "      <td>...</td>\n",
       "    </tr>\n",
       "    <tr>\n",
       "      <th>261</th>\n",
       "      <td>Birmingham</td>\n",
       "      <td>Desserts</td>\n",
       "      <td>3.100000</td>\n",
       "    </tr>\n",
       "    <tr>\n",
       "      <th>723</th>\n",
       "      <td>Gurgaon</td>\n",
       "      <td>Desserts</td>\n",
       "      <td>3.007792</td>\n",
       "    </tr>\n",
       "    <tr>\n",
       "      <th>1182</th>\n",
       "      <td>New Delhi</td>\n",
       "      <td>Desserts</td>\n",
       "      <td>2.774674</td>\n",
       "    </tr>\n",
       "    <tr>\n",
       "      <th>1253</th>\n",
       "      <td>Noida</td>\n",
       "      <td>Desserts</td>\n",
       "      <td>2.323437</td>\n",
       "    </tr>\n",
       "    <tr>\n",
       "      <th>634</th>\n",
       "      <td>Faridabad</td>\n",
       "      <td>Desserts</td>\n",
       "      <td>1.906667</td>\n",
       "    </tr>\n",
       "  </tbody>\n",
       "</table>\n",
       "<p>63 rows × 3 columns</p>\n",
       "</div>"
      ],
      "text/plain": [
       "                City  Cuisines  Avg_Aggregate rating\n",
       "147         Auckland  Desserts              4.833333\n",
       "1514  Rio de Janeiro  Desserts              4.800000\n",
       "1034     Makati City  Desserts              4.800000\n",
       "810        Hyderabad  Desserts              4.750000\n",
       "1695       Tampa Bay  Desserts              4.700000\n",
       "...              ...       ...                   ...\n",
       "261       Birmingham  Desserts              3.100000\n",
       "723          Gurgaon  Desserts              3.007792\n",
       "1182       New Delhi  Desserts              2.774674\n",
       "1253           Noida  Desserts              2.323437\n",
       "634        Faridabad  Desserts              1.906667\n",
       "\n",
       "[63 rows x 3 columns]"
      ]
     },
     "execution_count": 64,
     "metadata": {},
     "output_type": "execute_result"
    }
   ],
   "source": [
    "# A cuisine average aggregatebrating trend, I used Desserts cuisine as an example to see the rating across the cities\n",
    "specific_preference_trend = city_preference[city_preference['Cuisines']== 'Desserts']\n",
    "specific_preference_trend.sort_values(by='Avg_Aggregate rating', ascending=False)\n"
   ]
  },
  {
   "cell_type": "markdown",
   "id": "d3086cc1-b437-41b3-a62c-8497728db220",
   "metadata": {},
   "source": [
    "#### ii. Identify consistently high-rated cuisines"
   ]
  },
  {
   "cell_type": "code",
   "execution_count": 65,
   "id": "5e58ee35-d753-4433-81e0-d5ea534bed77",
   "metadata": {},
   "outputs": [
    {
     "data": {
      "text/html": [
       "<div>\n",
       "<style scoped>\n",
       "    .dataframe tbody tr th:only-of-type {\n",
       "        vertical-align: middle;\n",
       "    }\n",
       "\n",
       "    .dataframe tbody tr th {\n",
       "        vertical-align: top;\n",
       "    }\n",
       "\n",
       "    .dataframe thead th {\n",
       "        text-align: right;\n",
       "    }\n",
       "</style>\n",
       "<table border=\"1\" class=\"dataframe\">\n",
       "  <thead>\n",
       "    <tr style=\"text-align: right;\">\n",
       "      <th></th>\n",
       "      <th>Cuisines</th>\n",
       "      <th>Avg_Aggregate rating</th>\n",
       "    </tr>\n",
       "  </thead>\n",
       "  <tbody>\n",
       "    <tr>\n",
       "      <th>130</th>\n",
       "      <td>Sunda</td>\n",
       "      <td>4.900000</td>\n",
       "    </tr>\n",
       "    <tr>\n",
       "      <th>26</th>\n",
       "      <td>B�_rek</td>\n",
       "      <td>4.700000</td>\n",
       "    </tr>\n",
       "    <tr>\n",
       "      <th>61</th>\n",
       "      <td>Hawaiian</td>\n",
       "      <td>4.400000</td>\n",
       "    </tr>\n",
       "    <tr>\n",
       "      <th>23</th>\n",
       "      <td>Bubble Tea</td>\n",
       "      <td>4.400000</td>\n",
       "    </tr>\n",
       "    <tr>\n",
       "      <th>112</th>\n",
       "      <td>Ramen</td>\n",
       "      <td>4.400000</td>\n",
       "    </tr>\n",
       "    <tr>\n",
       "      <th>132</th>\n",
       "      <td>Taiwanese</td>\n",
       "      <td>4.400000</td>\n",
       "    </tr>\n",
       "    <tr>\n",
       "      <th>47</th>\n",
       "      <td>D�_ner</td>\n",
       "      <td>4.400000</td>\n",
       "    </tr>\n",
       "    <tr>\n",
       "      <th>75</th>\n",
       "      <td>Kebab</td>\n",
       "      <td>4.380000</td>\n",
       "    </tr>\n",
       "    <tr>\n",
       "      <th>117</th>\n",
       "      <td>Scottish</td>\n",
       "      <td>4.333333</td>\n",
       "    </tr>\n",
       "    <tr>\n",
       "      <th>140</th>\n",
       "      <td>Turkish Pizza</td>\n",
       "      <td>4.325000</td>\n",
       "    </tr>\n",
       "    <tr>\n",
       "      <th>46</th>\n",
       "      <td>Durban</td>\n",
       "      <td>4.300000</td>\n",
       "    </tr>\n",
       "    <tr>\n",
       "      <th>71</th>\n",
       "      <td>Izgara</td>\n",
       "      <td>4.300000</td>\n",
       "    </tr>\n",
       "    <tr>\n",
       "      <th>69</th>\n",
       "      <td>Irish</td>\n",
       "      <td>4.300000</td>\n",
       "    </tr>\n",
       "    <tr>\n",
       "      <th>57</th>\n",
       "      <td>Gourmet Fast Food</td>\n",
       "      <td>4.300000</td>\n",
       "    </tr>\n",
       "    <tr>\n",
       "      <th>52</th>\n",
       "      <td>Fish and Chips</td>\n",
       "      <td>4.300000</td>\n",
       "    </tr>\n",
       "    <tr>\n",
       "      <th>121</th>\n",
       "      <td>South African</td>\n",
       "      <td>4.225000</td>\n",
       "    </tr>\n",
       "    <tr>\n",
       "      <th>40</th>\n",
       "      <td>Curry</td>\n",
       "      <td>4.200000</td>\n",
       "    </tr>\n",
       "    <tr>\n",
       "      <th>77</th>\n",
       "      <td>Kiwi</td>\n",
       "      <td>4.200000</td>\n",
       "    </tr>\n",
       "    <tr>\n",
       "      <th>5</th>\n",
       "      <td>Argentine</td>\n",
       "      <td>4.100000</td>\n",
       "    </tr>\n",
       "    <tr>\n",
       "      <th>135</th>\n",
       "      <td>Teriyaki</td>\n",
       "      <td>4.100000</td>\n",
       "    </tr>\n",
       "    <tr>\n",
       "      <th>114</th>\n",
       "      <td>Restaurant Cafe</td>\n",
       "      <td>4.025000</td>\n",
       "    </tr>\n",
       "    <tr>\n",
       "      <th>68</th>\n",
       "      <td>Iranian</td>\n",
       "      <td>4.000000</td>\n",
       "    </tr>\n",
       "    <tr>\n",
       "      <th>105</th>\n",
       "      <td>Peranakan</td>\n",
       "      <td>4.000000</td>\n",
       "    </tr>\n",
       "    <tr>\n",
       "      <th>103</th>\n",
       "      <td>Parsi</td>\n",
       "      <td>4.000000</td>\n",
       "    </tr>\n",
       "  </tbody>\n",
       "</table>\n",
       "</div>"
      ],
      "text/plain": [
       "              Cuisines  Avg_Aggregate rating\n",
       "130              Sunda              4.900000\n",
       "26              B�_rek              4.700000\n",
       "61            Hawaiian              4.400000\n",
       "23          Bubble Tea              4.400000\n",
       "112              Ramen              4.400000\n",
       "132          Taiwanese              4.400000\n",
       "47              D�_ner              4.400000\n",
       "75               Kebab              4.380000\n",
       "117           Scottish              4.333333\n",
       "140      Turkish Pizza              4.325000\n",
       "46              Durban              4.300000\n",
       "71              Izgara              4.300000\n",
       "69               Irish              4.300000\n",
       "57   Gourmet Fast Food              4.300000\n",
       "52      Fish and Chips              4.300000\n",
       "121      South African              4.225000\n",
       "40               Curry              4.200000\n",
       "77                Kiwi              4.200000\n",
       "5            Argentine              4.100000\n",
       "135           Teriyaki              4.100000\n",
       "114    Restaurant Cafe              4.025000\n",
       "68             Iranian              4.000000\n",
       "105          Peranakan              4.000000\n",
       "103              Parsi              4.000000"
      ]
     },
     "execution_count": 65,
     "metadata": {},
     "output_type": "execute_result"
    }
   ],
   "source": [
    "cuisine_consistency= city_preference.groupby(['Cuisines'])['Avg_Aggregate rating'].min().reset_index()\n",
    "#cuisine_consistency.head(20)\n",
    "cuisine_consistency.sort_values('Avg_Aggregate rating', ascending=False, inplace=True)\n",
    "\n",
    "#Assumption based on cuisines with a min rating of 4.0\n",
    "\n",
    "consistently_high_rated = cuisine_consistency[cuisine_consistency['Avg_Aggregate rating'] >= 4.0]\n",
    "consistently_high_rated"
   ]
  },
  {
   "cell_type": "code",
   "execution_count": 66,
   "id": "456b7045-b403-4bc0-ab4f-4978c042d53a",
   "metadata": {},
   "outputs": [
    {
     "name": "stdout",
     "output_type": "stream",
     "text": [
      "(24, 2)\n"
     ]
    }
   ],
   "source": [
    "print(consistently_high_rated.shape)"
   ]
  },
  {
   "attachments": {},
   "cell_type": "markdown",
   "id": "6b7b0bef-bcb8-48b4-85a4-ca40bc93c80f",
   "metadata": {},
   "source": [
    "#### Observation\n",
    "\n",
    "1. The popular cuisines by votes is North Indian.\n",
    "2. From the above, it could be seen that Desserts cuisine had a higher rating in Auckland city but low rating in Faridabad city.   Which implies that customer preference for some cuisines varies by city.\n",
    "3. We have 24 cuisines that have an average of 4.0 aggregate rating in all the city they appeared.\n",
    "\n",
    "\n",
    "\n"
   ]
  },
  {
   "cell_type": "markdown",
   "id": "b1f00f36-00d4-4dcb-8040-a6272288246b",
   "metadata": {},
   "source": [
    "## Week 4: Predictive Modelling"
   ]
  },
  {
   "cell_type": "markdown",
   "id": "b8bed0b2-c871-45d5-8319-d058d6e49b83",
   "metadata": {},
   "source": [
    "Note: For the regression, I will be using the exploded dataset. The exploded dataset has the cuisines unpivoted into different rows."
   ]
  },
  {
   "cell_type": "code",
   "execution_count": 67,
   "id": "d1725c75-203e-43b2-9c50-731b084fdef5",
   "metadata": {},
   "outputs": [
    {
     "data": {
      "text/plain": [
       "np.float64(-1.221923832708061)"
      ]
     },
     "execution_count": 67,
     "metadata": {},
     "output_type": "execute_result"
    }
   ],
   "source": [
    "Skewness = df_exploded['Aggregate rating'].skew()\n",
    "Skewness"
   ]
  },
  {
   "cell_type": "markdown",
   "id": "8948f1a7-6540-4b39-a656-2ea09cf0c97c",
   "metadata": {},
   "source": [
    "### Feature Engineering"
   ]
  },
  {
   "cell_type": "code",
   "execution_count": 68,
   "id": "52a7fb11-cfb8-4af8-bd6a-b64c7041206a",
   "metadata": {},
   "outputs": [
    {
     "data": {
      "text/html": [
       "<div>\n",
       "<style scoped>\n",
       "    .dataframe tbody tr th:only-of-type {\n",
       "        vertical-align: middle;\n",
       "    }\n",
       "\n",
       "    .dataframe tbody tr th {\n",
       "        vertical-align: top;\n",
       "    }\n",
       "\n",
       "    .dataframe thead th {\n",
       "        text-align: right;\n",
       "    }\n",
       "</style>\n",
       "<table border=\"1\" class=\"dataframe\">\n",
       "  <thead>\n",
       "    <tr style=\"text-align: right;\">\n",
       "      <th></th>\n",
       "      <th>Restaurant ID</th>\n",
       "      <th>Restaurant Name</th>\n",
       "      <th>Country Code</th>\n",
       "      <th>City</th>\n",
       "      <th>Address</th>\n",
       "      <th>Locality</th>\n",
       "      <th>Locality Verbose</th>\n",
       "      <th>Longitude</th>\n",
       "      <th>Latitude</th>\n",
       "      <th>Cuisines</th>\n",
       "      <th>...</th>\n",
       "      <th>Currency</th>\n",
       "      <th>Has Table booking</th>\n",
       "      <th>Has Online delivery</th>\n",
       "      <th>Is delivering now</th>\n",
       "      <th>Switch to order menu</th>\n",
       "      <th>Price range</th>\n",
       "      <th>Aggregate rating</th>\n",
       "      <th>Rating color</th>\n",
       "      <th>Rating text</th>\n",
       "      <th>Votes</th>\n",
       "    </tr>\n",
       "  </thead>\n",
       "  <tbody>\n",
       "    <tr>\n",
       "      <th>0</th>\n",
       "      <td>6317637</td>\n",
       "      <td>Le Petit Souffle</td>\n",
       "      <td>162</td>\n",
       "      <td>Makati City</td>\n",
       "      <td>Third Floor, Century City Mall, Kalayaan Avenu...</td>\n",
       "      <td>Century City Mall, Poblacion, Makati City</td>\n",
       "      <td>Century City Mall, Poblacion, Makati City, Mak...</td>\n",
       "      <td>121.027535</td>\n",
       "      <td>14.565443</td>\n",
       "      <td>French</td>\n",
       "      <td>...</td>\n",
       "      <td>Botswana Pula(P)</td>\n",
       "      <td>Yes</td>\n",
       "      <td>No</td>\n",
       "      <td>No</td>\n",
       "      <td>No</td>\n",
       "      <td>3</td>\n",
       "      <td>4.8</td>\n",
       "      <td>Dark Green</td>\n",
       "      <td>Excellent</td>\n",
       "      <td>314</td>\n",
       "    </tr>\n",
       "    <tr>\n",
       "      <th>0</th>\n",
       "      <td>6317637</td>\n",
       "      <td>Le Petit Souffle</td>\n",
       "      <td>162</td>\n",
       "      <td>Makati City</td>\n",
       "      <td>Third Floor, Century City Mall, Kalayaan Avenu...</td>\n",
       "      <td>Century City Mall, Poblacion, Makati City</td>\n",
       "      <td>Century City Mall, Poblacion, Makati City, Mak...</td>\n",
       "      <td>121.027535</td>\n",
       "      <td>14.565443</td>\n",
       "      <td>Japanese</td>\n",
       "      <td>...</td>\n",
       "      <td>Botswana Pula(P)</td>\n",
       "      <td>Yes</td>\n",
       "      <td>No</td>\n",
       "      <td>No</td>\n",
       "      <td>No</td>\n",
       "      <td>3</td>\n",
       "      <td>4.8</td>\n",
       "      <td>Dark Green</td>\n",
       "      <td>Excellent</td>\n",
       "      <td>314</td>\n",
       "    </tr>\n",
       "    <tr>\n",
       "      <th>0</th>\n",
       "      <td>6317637</td>\n",
       "      <td>Le Petit Souffle</td>\n",
       "      <td>162</td>\n",
       "      <td>Makati City</td>\n",
       "      <td>Third Floor, Century City Mall, Kalayaan Avenu...</td>\n",
       "      <td>Century City Mall, Poblacion, Makati City</td>\n",
       "      <td>Century City Mall, Poblacion, Makati City, Mak...</td>\n",
       "      <td>121.027535</td>\n",
       "      <td>14.565443</td>\n",
       "      <td>Desserts</td>\n",
       "      <td>...</td>\n",
       "      <td>Botswana Pula(P)</td>\n",
       "      <td>Yes</td>\n",
       "      <td>No</td>\n",
       "      <td>No</td>\n",
       "      <td>No</td>\n",
       "      <td>3</td>\n",
       "      <td>4.8</td>\n",
       "      <td>Dark Green</td>\n",
       "      <td>Excellent</td>\n",
       "      <td>314</td>\n",
       "    </tr>\n",
       "    <tr>\n",
       "      <th>1</th>\n",
       "      <td>6304287</td>\n",
       "      <td>Izakaya Kikufuji</td>\n",
       "      <td>162</td>\n",
       "      <td>Makati City</td>\n",
       "      <td>Little Tokyo, 2277 Chino Roces Avenue, Legaspi...</td>\n",
       "      <td>Little Tokyo, Legaspi Village, Makati City</td>\n",
       "      <td>Little Tokyo, Legaspi Village, Makati City, Ma...</td>\n",
       "      <td>121.014101</td>\n",
       "      <td>14.553708</td>\n",
       "      <td>Japanese</td>\n",
       "      <td>...</td>\n",
       "      <td>Botswana Pula(P)</td>\n",
       "      <td>Yes</td>\n",
       "      <td>No</td>\n",
       "      <td>No</td>\n",
       "      <td>No</td>\n",
       "      <td>3</td>\n",
       "      <td>4.5</td>\n",
       "      <td>Dark Green</td>\n",
       "      <td>Excellent</td>\n",
       "      <td>591</td>\n",
       "    </tr>\n",
       "    <tr>\n",
       "      <th>2</th>\n",
       "      <td>6300002</td>\n",
       "      <td>Heat - Edsa Shangri-La</td>\n",
       "      <td>162</td>\n",
       "      <td>Mandaluyong City</td>\n",
       "      <td>Edsa Shangri-La, 1 Garden Way, Ortigas, Mandal...</td>\n",
       "      <td>Edsa Shangri-La, Ortigas, Mandaluyong City</td>\n",
       "      <td>Edsa Shangri-La, Ortigas, Mandaluyong City, Ma...</td>\n",
       "      <td>121.056831</td>\n",
       "      <td>14.581404</td>\n",
       "      <td>Seafood</td>\n",
       "      <td>...</td>\n",
       "      <td>Botswana Pula(P)</td>\n",
       "      <td>Yes</td>\n",
       "      <td>No</td>\n",
       "      <td>No</td>\n",
       "      <td>No</td>\n",
       "      <td>4</td>\n",
       "      <td>4.4</td>\n",
       "      <td>Green</td>\n",
       "      <td>Very Good</td>\n",
       "      <td>270</td>\n",
       "    </tr>\n",
       "  </tbody>\n",
       "</table>\n",
       "<p>5 rows × 21 columns</p>\n",
       "</div>"
      ],
      "text/plain": [
       "   Restaurant ID         Restaurant Name  Country Code              City  \\\n",
       "0        6317637        Le Petit Souffle           162       Makati City   \n",
       "0        6317637        Le Petit Souffle           162       Makati City   \n",
       "0        6317637        Le Petit Souffle           162       Makati City   \n",
       "1        6304287        Izakaya Kikufuji           162       Makati City   \n",
       "2        6300002  Heat - Edsa Shangri-La           162  Mandaluyong City   \n",
       "\n",
       "                                             Address  \\\n",
       "0  Third Floor, Century City Mall, Kalayaan Avenu...   \n",
       "0  Third Floor, Century City Mall, Kalayaan Avenu...   \n",
       "0  Third Floor, Century City Mall, Kalayaan Avenu...   \n",
       "1  Little Tokyo, 2277 Chino Roces Avenue, Legaspi...   \n",
       "2  Edsa Shangri-La, 1 Garden Way, Ortigas, Mandal...   \n",
       "\n",
       "                                     Locality  \\\n",
       "0   Century City Mall, Poblacion, Makati City   \n",
       "0   Century City Mall, Poblacion, Makati City   \n",
       "0   Century City Mall, Poblacion, Makati City   \n",
       "1  Little Tokyo, Legaspi Village, Makati City   \n",
       "2  Edsa Shangri-La, Ortigas, Mandaluyong City   \n",
       "\n",
       "                                    Locality Verbose   Longitude   Latitude  \\\n",
       "0  Century City Mall, Poblacion, Makati City, Mak...  121.027535  14.565443   \n",
       "0  Century City Mall, Poblacion, Makati City, Mak...  121.027535  14.565443   \n",
       "0  Century City Mall, Poblacion, Makati City, Mak...  121.027535  14.565443   \n",
       "1  Little Tokyo, Legaspi Village, Makati City, Ma...  121.014101  14.553708   \n",
       "2  Edsa Shangri-La, Ortigas, Mandaluyong City, Ma...  121.056831  14.581404   \n",
       "\n",
       "   Cuisines  ...          Currency Has Table booking Has Online delivery  \\\n",
       "0    French  ...  Botswana Pula(P)               Yes                  No   \n",
       "0  Japanese  ...  Botswana Pula(P)               Yes                  No   \n",
       "0  Desserts  ...  Botswana Pula(P)               Yes                  No   \n",
       "1  Japanese  ...  Botswana Pula(P)               Yes                  No   \n",
       "2   Seafood  ...  Botswana Pula(P)               Yes                  No   \n",
       "\n",
       "  Is delivering now Switch to order menu Price range  Aggregate rating  \\\n",
       "0                No                   No           3               4.8   \n",
       "0                No                   No           3               4.8   \n",
       "0                No                   No           3               4.8   \n",
       "1                No                   No           3               4.5   \n",
       "2                No                   No           4               4.4   \n",
       "\n",
       "   Rating color Rating text Votes  \n",
       "0    Dark Green   Excellent   314  \n",
       "0    Dark Green   Excellent   314  \n",
       "0    Dark Green   Excellent   314  \n",
       "1    Dark Green   Excellent   591  \n",
       "2         Green   Very Good   270  \n",
       "\n",
       "[5 rows x 21 columns]"
      ]
     },
     "execution_count": 68,
     "metadata": {},
     "output_type": "execute_result"
    }
   ],
   "source": [
    "df_exploded.head()"
   ]
  },
  {
   "cell_type": "code",
   "execution_count": 69,
   "id": "e8abd399-7509-417c-86ab-0454631f44ae",
   "metadata": {},
   "outputs": [
    {
     "name": "stdout",
     "output_type": "stream",
     "text": [
      "-1.5615780484551456\n"
     ]
    },
    {
     "data": {
      "image/png": "[encoded data removed]",
      "text/plain": [
       "<Figure size 400x300 with 1 Axes>"
      ]
     },
     "metadata": {},
     "output_type": "display_data"
    }
   ],
   "source": [
    "plt.figure(figsize=(4,3))\n",
    "log_Aggregate_rating = np.log1p(df_exploded['Aggregate rating'])\n",
    "Skewness = log_Aggregate_rating.skew()\n",
    "print(Skewness)\n",
    "sns.histplot(data=log_Aggregate_rating, kde=True)\n",
    "plt.show()"
   ]
  },
  {
   "cell_type": "code",
   "execution_count": 70,
   "id": "1d12f027-a27e-45af-a0dd-1fd9feffa513",
   "metadata": {},
   "outputs": [
    {
     "name": "stdout",
     "output_type": "stream",
     "text": [
      "-1.5725628762563417\n"
     ]
    },
    {
     "data": {
      "image/png": "[encoded data removed]",
      "text/plain": [
       "<Figure size 400x300 with 1 Axes>"
      ]
     },
     "metadata": {},
     "output_type": "display_data"
    }
   ],
   "source": [
    "plt.figure(figsize=(4,3))\n",
    "Sq_Aggregate_rating = np.sqrt(df_exploded['Aggregate rating'])\n",
    "Skewness = Sq_Aggregate_rating.skew()\n",
    "print(Skewness)\n",
    "sns.histplot(data=log_Aggregate_rating, kde=True)\n",
    "plt.show()"
   ]
  },
  {
   "cell_type": "markdown",
   "id": "604d3ef9-9e0b-42bc-a669-51111b5d5009",
   "metadata": {},
   "source": [
    "#### Observation\n",
    "\n",
    "After performing log and square root transformations, it can be seen that the data is still strongly left skewed with a higher skewness value. Therefore, I will proceed with the modeling without any transformations on the target variable."
   ]
  },
  {
   "cell_type": "markdown",
   "id": "c0bd0cd5-76c9-4cbd-baa3-c287c9f8957a",
   "metadata": {},
   "source": [
    "#### Model Selection"
   ]
  },
  {
   "cell_type": "code",
   "execution_count": 71,
   "id": "58d3d069-c153-4b50-840d-c8e461dc2fbd",
   "metadata": {},
   "outputs": [],
   "source": [
    "X = df_exploded.drop(columns = ['Aggregate rating', 'Restaurant Name', 'Address', 'Locality Verbose', 'Country Code', 'Is delivering now', 'Switch to order menu',  'Rating color', 'Rating text', 'Latitude', 'Longitude'])\n",
    "y = df_exploded['Aggregate rating']"
   ]
  },
  {
   "cell_type": "markdown",
   "id": "d39243de-e8f4-43a1-a129-381fbcbca720",
   "metadata": {},
   "source": [
    "The longitude and latitude features were excluded from the analysis due to significant inconsistencies (497 records) between these coordinates and the corresponding city and locality. This decision was made to minimize potential model bias and ensure the accuracy of the results."
   ]
  },
  {
   "cell_type": "code",
   "execution_count": 72,
   "id": "866998c8-8dff-40b6-bc23-3efa9a99febf",
   "metadata": {},
   "outputs": [],
   "source": [
    "X_train, X_test, y_train, y_test = train_test_split(X, y, test_size = 0.3, train_size = 0.7, random_state = 42)"
   ]
  },
  {
   "cell_type": "markdown",
   "id": "d63dd156-344c-4e17-afe7-627d1dc0aa3c",
   "metadata": {},
   "source": [
    "#### Preprocessing"
   ]
  },
  {
   "cell_type": "code",
   "execution_count": 73,
   "id": "e6942786-b0a5-4a5a-aeed-710cce4a1cb2",
   "metadata": {},
   "outputs": [
    {
     "data": {
      "text/plain": [
       "Index(['City', 'Locality', 'Cuisines', 'Currency', 'Has Table booking',\n",
       "       'Has Online delivery'],\n",
       "      dtype='object')"
      ]
     },
     "execution_count": 73,
     "metadata": {},
     "output_type": "execute_result"
    }
   ],
   "source": [
    "cat_col = X.select_dtypes('object').columns\n",
    "cat_col"
   ]
  },
  {
   "cell_type": "code",
   "execution_count": 74,
   "id": "e5ffc673-b3b8-463e-bafa-438e883aa817",
   "metadata": {},
   "outputs": [],
   "source": [
    "encoder = OneHotEncoder(drop = 'first', handle_unknown = 'ignore')"
   ]
  },
  {
   "cell_type": "code",
   "execution_count": 75,
   "id": "9ca409fe-48cf-4b34-844e-90edbb96e818",
   "metadata": {},
   "outputs": [
    {
     "data": {
      "text/plain": [
       "array([[0., 0., 0., ..., 0., 0., 1.],\n",
       "       [0., 0., 0., ..., 0., 0., 1.],\n",
       "       [0., 0., 0., ..., 0., 0., 1.],\n",
       "       ...,\n",
       "       [0., 0., 0., ..., 0., 0., 0.],\n",
       "       [0., 0., 0., ..., 0., 0., 0.],\n",
       "       [0., 0., 0., ..., 0., 0., 0.]])"
      ]
     },
     "execution_count": 75,
     "metadata": {},
     "output_type": "execute_result"
    }
   ],
   "source": [
    "X_train_encoded = encoder.fit_transform(X_train[cat_col]).toarray()\n",
    "X_train_encoded"
   ]
  },
  {
   "cell_type": "code",
   "execution_count": 76,
   "id": "c30b97a4-9f12-4cc6-8da5-936f84195922",
   "metadata": {},
   "outputs": [
    {
     "name": "stderr",
     "output_type": "stream",
     "text": [
      "C:\\Users\\Adedamola.Ayeni\\AppData\\Local\\Programs\\Python\\Python312\\Lib\\site-packages\\sklearn\\preprocessing\\_encoders.py:246: UserWarning: Found unknown categories in columns [0, 1, 2] during transform. These unknown categories will be encoded as all zeros\n",
      "  warnings.warn(\n"
     ]
    },
    {
     "data": {
      "text/plain": [
       "array([[0., 0., 0., ..., 0., 0., 0.],\n",
       "       [0., 0., 0., ..., 0., 0., 0.],\n",
       "       [0., 0., 0., ..., 0., 0., 0.],\n",
       "       ...,\n",
       "       [0., 0., 0., ..., 0., 0., 0.],\n",
       "       [0., 0., 0., ..., 0., 0., 0.],\n",
       "       [0., 0., 0., ..., 0., 1., 1.]])"
      ]
     },
     "execution_count": 76,
     "metadata": {},
     "output_type": "execute_result"
    }
   ],
   "source": [
    "X_test_encoded = encoder.transform(X_test[cat_col]).toarray()\n",
    "X_test_encoded"
   ]
  },
  {
   "cell_type": "code",
   "execution_count": 77,
   "id": "dcc3b7c2-41e4-4077-9c20-011ef918747a",
   "metadata": {},
   "outputs": [
    {
     "name": "stdout",
     "output_type": "stream",
     "text": [
      "(13797, 1424) (5913, 1424)\n"
     ]
    }
   ],
   "source": [
    "print(X_train_encoded.shape, X_test_encoded.shape)"
   ]
  },
  {
   "cell_type": "code",
   "execution_count": 78,
   "id": "491a7384-b9d9-41de-ade4-a5d8c2e739f8",
   "metadata": {},
   "outputs": [
    {
     "data": {
      "text/plain": [
       "Index(['Restaurant ID', 'Average Cost for two', 'Price range', 'Votes'], dtype='object')"
      ]
     },
     "execution_count": 78,
     "metadata": {},
     "output_type": "execute_result"
    }
   ],
   "source": [
    "num_col = X.select_dtypes(np.number).columns\n",
    "num_col"
   ]
  },
  {
   "cell_type": "code",
   "execution_count": 79,
   "id": "625272d5-17f7-4855-8973-653d2b204e81",
   "metadata": {},
   "outputs": [],
   "source": [
    "scaler = StandardScaler()"
   ]
  },
  {
   "cell_type": "code",
   "execution_count": 80,
   "id": "bb8b9f49-8b22-43ab-af74-6fe50800ae26",
   "metadata": {},
   "outputs": [],
   "source": [
    "X_train_scaling = scaler.fit_transform(X_train[num_col])\n",
    "X_test_scaling = scaler.transform(X_test[num_col])"
   ]
  },
  {
   "cell_type": "code",
   "execution_count": 81,
   "id": "93d910ca-82b7-4643-ba2f-b1940af690be",
   "metadata": {},
   "outputs": [
    {
     "name": "stdout",
     "output_type": "stream",
     "text": [
      "(13797, 4) (5913, 4)\n"
     ]
    }
   ],
   "source": [
    "print(X_train_scaling.shape, X_test_scaling.shape)"
   ]
  },
  {
   "cell_type": "code",
   "execution_count": 82,
   "id": "9120678e-0ccb-4394-a262-7dc83bfab35b",
   "metadata": {},
   "outputs": [],
   "source": [
    "X_trainprocessed = np.hstack((X_train_encoded, X_train_scaling))\n",
    "X_testprocessed = np.hstack((X_test_encoded, X_test_scaling))"
   ]
  },
  {
   "cell_type": "code",
   "execution_count": 83,
   "id": "127d732c-e2b5-4cd9-952d-353941090855",
   "metadata": {},
   "outputs": [
    {
     "name": "stdout",
     "output_type": "stream",
     "text": [
      "(13797, 1428) (13797,)\n"
     ]
    }
   ],
   "source": [
    "print (X_trainprocessed.shape, y_train.shape)"
   ]
  },
  {
   "cell_type": "code",
   "execution_count": 84,
   "id": "c1b56222-753f-47c2-ae57-ccc0974c3e64",
   "metadata": {},
   "outputs": [],
   "source": [
    "model = LinearRegression()"
   ]
  },
  {
   "cell_type": "code",
   "execution_count": 85,
   "id": "8d0eca62-69e1-4ab3-90e2-bded3e3bef43",
   "metadata": {},
   "outputs": [
    {
     "data": {
      "text/html": [
       "<style>#sk-container-id-1 {\n",
       "  /* Definition of color scheme common for light and dark mode */\n",
       "  --sklearn-color-text: #000;\n",
       "  --sklearn-color-text-muted: #666;\n",
       "  --sklearn-color-line: gray;\n",
       "  /* Definition of color scheme for unfitted estimators */\n",
       "  --sklearn-color-unfitted-level-0: #fff5e6;\n",
       "  --sklearn-color-unfitted-level-1: #f6e4d2;\n",
       "  --sklearn-color-unfitted-level-2: #ffe0b3;\n",
       "  --sklearn-color-unfitted-level-3: chocolate;\n",
       "  /* Definition of color scheme for fitted estimators */\n",
       "  --sklearn-color-fitted-level-0: #f0f8ff;\n",
       "  --sklearn-color-fitted-level-1: #d4ebff;\n",
       "  --sklearn-color-fitted-level-2: #b3dbfd;\n",
       "  --sklearn-color-fitted-level-3: cornflowerblue;\n",
       "\n",
       "  /* Specific color for light theme */\n",
       "  --sklearn-color-text-on-default-background: var(--sg-text-color, var(--theme-code-foreground, var(--jp-content-font-color1, black)));\n",
       "  --sklearn-color-background: var(--sg-background-color, var(--theme-background, var(--jp-layout-color0, white)));\n",
       "  --sklearn-color-border-box: var(--sg-text-color, var(--theme-code-foreground, var(--jp-content-font-color1, black)));\n",
       "  --sklearn-color-icon: #696969;\n",
       "\n",
       "  @media (prefers-color-scheme: dark) {\n",
       "    /* Redefinition of color scheme for dark theme */\n",
       "    --sklearn-color-text-on-default-background: var(--sg-text-color, var(--theme-code-foreground, var(--jp-content-font-color1, white)));\n",
       "    --sklearn-color-background: var(--sg-background-color, var(--theme-background, var(--jp-layout-color0, #111)));\n",
       "    --sklearn-color-border-box: var(--sg-text-color, var(--theme-code-foreground, var(--jp-content-font-color1, white)));\n",
       "    --sklearn-color-icon: #878787;\n",
       "  }\n",
       "}\n",
       "\n",
       "#sk-container-id-1 {\n",
       "  color: var(--sklearn-color-text);\n",
       "}\n",
       "\n",
       "#sk-container-id-1 pre {\n",
       "  padding: 0;\n",
       "}\n",
       "\n",
       "#sk-container-id-1 input.sk-hidden--visually {\n",
       "  border: 0;\n",
       "  clip: rect(1px 1px 1px 1px);\n",
       "  clip: rect(1px, 1px, 1px, 1px);\n",
       "  height: 1px;\n",
       "  margin: -1px;\n",
       "  overflow: hidden;\n",
       "  padding: 0;\n",
       "  position: absolute;\n",
       "  width: 1px;\n",
       "}\n",
       "\n",
       "#sk-container-id-1 div.sk-dashed-wrapped {\n",
       "  border: 1px dashed var(--sklearn-color-line);\n",
       "  margin: 0 0.4em 0.5em 0.4em;\n",
       "  box-sizing: border-box;\n",
       "  padding-bottom: 0.4em;\n",
       "  background-color: var(--sklearn-color-background);\n",
       "}\n",
       "\n",
       "#sk-container-id-1 div.sk-container {\n",
       "  /* jupyter's `normalize.less` sets `[hidden] { display: none; }`\n",
       "     but bootstrap.min.css set `[hidden] { display: none !important; }`\n",
       "     so we also need the `!important` here to be able to override the\n",
       "     default hidden behavior on the sphinx rendered scikit-learn.org.\n",
       "     See: https://github.com/scikit-learn/scikit-learn/issues/21755 */\n",
       "  display: inline-block !important;\n",
       "  position: relative;\n",
       "}\n",
       "\n",
       "#sk-container-id-1 div.sk-text-repr-fallback {\n",
       "  display: none;\n",
       "}\n",
       "\n",
       "div.sk-parallel-item,\n",
       "div.sk-serial,\n",
       "div.sk-item {\n",
       "  /* draw centered vertical line to link estimators */\n",
       "  background-image: linear-gradient(var(--sklearn-color-text-on-default-background), var(--sklearn-color-text-on-default-background));\n",
       "  background-size: 2px 100%;\n",
       "  background-repeat: no-repeat;\n",
       "  background-position: center center;\n",
       "}\n",
       "\n",
       "/* Parallel-specific style estimator block */\n",
       "\n",
       "#sk-container-id-1 div.sk-parallel-item::after {\n",
       "  content: \"\";\n",
       "  width: 100%;\n",
       "  border-bottom: 2px solid var(--sklearn-color-text-on-default-background);\n",
       "  flex-grow: 1;\n",
       "}\n",
       "\n",
       "#sk-container-id-1 div.sk-parallel {\n",
       "  display: flex;\n",
       "  align-items: stretch;\n",
       "  justify-content: center;\n",
       "  background-color: var(--sklearn-color-background);\n",
       "  position: relative;\n",
       "}\n",
       "\n",
       "#sk-container-id-1 div.sk-parallel-item {\n",
       "  display: flex;\n",
       "  flex-direction: column;\n",
       "}\n",
       "\n",
       "#sk-container-id-1 div.sk-parallel-item:first-child::after {\n",
       "  align-self: flex-end;\n",
       "  width: 50%;\n",
       "}\n",
       "\n",
       "#sk-container-id-1 div.sk-parallel-item:last-child::after {\n",
       "  align-self: flex-start;\n",
       "  width: 50%;\n",
       "}\n",
       "\n",
       "#sk-container-id-1 div.sk-parallel-item:only-child::after {\n",
       "  width: 0;\n",
       "}\n",
       "\n",
       "/* Serial-specific style estimator block */\n",
       "\n",
       "#sk-container-id-1 div.sk-serial {\n",
       "  display: flex;\n",
       "  flex-direction: column;\n",
       "  align-items: center;\n",
       "  background-color: var(--sklearn-color-background);\n",
       "  padding-right: 1em;\n",
       "  padding-left: 1em;\n",
       "}\n",
       "\n",
       "\n",
       "/* Toggleable style: style used for estimator/Pipeline/ColumnTransformer box that is\n",
       "clickable and can be expanded/collapsed.\n",
       "- Pipeline and ColumnTransformer use this feature and define the default style\n",
       "- Estimators will overwrite some part of the style using the `sk-estimator` class\n",
       "*/\n",
       "\n",
       "/* Pipeline and ColumnTransformer style (default) */\n",
       "\n",
       "#sk-container-id-1 div.sk-toggleable {\n",
       "  /* Default theme specific background. It is overwritten whether we have a\n",
       "  specific estimator or a Pipeline/ColumnTransformer */\n",
       "  background-color: var(--sklearn-color-background);\n",
       "}\n",
       "\n",
       "/* Toggleable label */\n",
       "#sk-container-id-1 label.sk-toggleable__label {\n",
       "  cursor: pointer;\n",
       "  display: flex;\n",
       "  width: 100%;\n",
       "  margin-bottom: 0;\n",
       "  padding: 0.5em;\n",
       "  box-sizing: border-box;\n",
       "  text-align: center;\n",
       "  align-items: start;\n",
       "  justify-content: space-between;\n",
       "  gap: 0.5em;\n",
       "}\n",
       "\n",
       "#sk-container-id-1 label.sk-toggleable__label .caption {\n",
       "  font-size: 0.6rem;\n",
       "  font-weight: lighter;\n",
       "  color: var(--sklearn-color-text-muted);\n",
       "}\n",
       "\n",
       "#sk-container-id-1 label.sk-toggleable__label-arrow:before {\n",
       "  /* Arrow on the left of the label */\n",
       "  content: \"▸\";\n",
       "  float: left;\n",
       "  margin-right: 0.25em;\n",
       "  color: var(--sklearn-color-icon);\n",
       "}\n",
       "\n",
       "#sk-container-id-1 label.sk-toggleable__label-arrow:hover:before {\n",
       "  color: var(--sklearn-color-text);\n",
       "}\n",
       "\n",
       "/* Toggleable content - dropdown */\n",
       "\n",
       "#sk-container-id-1 div.sk-toggleable__content {\n",
       "  max-height: 0;\n",
       "  max-width: 0;\n",
       "  overflow: hidden;\n",
       "  text-align: left;\n",
       "  /* unfitted */\n",
       "  background-color: var(--sklearn-color-unfitted-level-0);\n",
       "}\n",
       "\n",
       "#sk-container-id-1 div.sk-toggleable__content.fitted {\n",
       "  /* fitted */\n",
       "  background-color: var(--sklearn-color-fitted-level-0);\n",
       "}\n",
       "\n",
       "#sk-container-id-1 div.sk-toggleable__content pre {\n",
       "  margin: 0.2em;\n",
       "  border-radius: 0.25em;\n",
       "  color: var(--sklearn-color-text);\n",
       "  /* unfitted */\n",
       "  background-color: var(--sklearn-color-unfitted-level-0);\n",
       "}\n",
       "\n",
       "#sk-container-id-1 div.sk-toggleable__content.fitted pre {\n",
       "  /* unfitted */\n",
       "  background-color: var(--sklearn-color-fitted-level-0);\n",
       "}\n",
       "\n",
       "#sk-container-id-1 input.sk-toggleable__control:checked~div.sk-toggleable__content {\n",
       "  /* Expand drop-down */\n",
       "  max-height: 200px;\n",
       "  max-width: 100%;\n",
       "  overflow: auto;\n",
       "}\n",
       "\n",
       "#sk-container-id-1 input.sk-toggleable__control:checked~label.sk-toggleable__label-arrow:before {\n",
       "  content: \"▾\";\n",
       "}\n",
       "\n",
       "/* Pipeline/ColumnTransformer-specific style */\n",
       "\n",
       "#sk-container-id-1 div.sk-label input.sk-toggleable__control:checked~label.sk-toggleable__label {\n",
       "  color: var(--sklearn-color-text);\n",
       "  background-color: var(--sklearn-color-unfitted-level-2);\n",
       "}\n",
       "\n",
       "#sk-container-id-1 div.sk-label.fitted input.sk-toggleable__control:checked~label.sk-toggleable__label {\n",
       "  background-color: var(--sklearn-color-fitted-level-2);\n",
       "}\n",
       "\n",
       "/* Estimator-specific style */\n",
       "\n",
       "/* Colorize estimator box */\n",
       "#sk-container-id-1 div.sk-estimator input.sk-toggleable__control:checked~label.sk-toggleable__label {\n",
       "  /* unfitted */\n",
       "  background-color: var(--sklearn-color-unfitted-level-2);\n",
       "}\n",
       "\n",
       "#sk-container-id-1 div.sk-estimator.fitted input.sk-toggleable__control:checked~label.sk-toggleable__label {\n",
       "  /* fitted */\n",
       "  background-color: var(--sklearn-color-fitted-level-2);\n",
       "}\n",
       "\n",
       "#sk-container-id-1 div.sk-label label.sk-toggleable__label,\n",
       "#sk-container-id-1 div.sk-label label {\n",
       "  /* The background is the default theme color */\n",
       "  color: var(--sklearn-color-text-on-default-background);\n",
       "}\n",
       "\n",
       "/* On hover, darken the color of the background */\n",
       "#sk-container-id-1 div.sk-label:hover label.sk-toggleable__label {\n",
       "  color: var(--sklearn-color-text);\n",
       "  background-color: var(--sklearn-color-unfitted-level-2);\n",
       "}\n",
       "\n",
       "/* Label box, darken color on hover, fitted */\n",
       "#sk-container-id-1 div.sk-label.fitted:hover label.sk-toggleable__label.fitted {\n",
       "  color: var(--sklearn-color-text);\n",
       "  background-color: var(--sklearn-color-fitted-level-2);\n",
       "}\n",
       "\n",
       "/* Estimator label */\n",
       "\n",
       "#sk-container-id-1 div.sk-label label {\n",
       "  font-family: monospace;\n",
       "  font-weight: bold;\n",
       "  display: inline-block;\n",
       "  line-height: 1.2em;\n",
       "}\n",
       "\n",
       "#sk-container-id-1 div.sk-label-container {\n",
       "  text-align: center;\n",
       "}\n",
       "\n",
       "/* Estimator-specific */\n",
       "#sk-container-id-1 div.sk-estimator {\n",
       "  font-family: monospace;\n",
       "  border: 1px dotted var(--sklearn-color-border-box);\n",
       "  border-radius: 0.25em;\n",
       "  box-sizing: border-box;\n",
       "  margin-bottom: 0.5em;\n",
       "  /* unfitted */\n",
       "  background-color: var(--sklearn-color-unfitted-level-0);\n",
       "}\n",
       "\n",
       "#sk-container-id-1 div.sk-estimator.fitted {\n",
       "  /* fitted */\n",
       "  background-color: var(--sklearn-color-fitted-level-0);\n",
       "}\n",
       "\n",
       "/* on hover */\n",
       "#sk-container-id-1 div.sk-estimator:hover {\n",
       "  /* unfitted */\n",
       "  background-color: var(--sklearn-color-unfitted-level-2);\n",
       "}\n",
       "\n",
       "#sk-container-id-1 div.sk-estimator.fitted:hover {\n",
       "  /* fitted */\n",
       "  background-color: var(--sklearn-color-fitted-level-2);\n",
       "}\n",
       "\n",
       "/* Specification for estimator info (e.g. \"i\" and \"?\") */\n",
       "\n",
       "/* Common style for \"i\" and \"?\" */\n",
       "\n",
       ".sk-estimator-doc-link,\n",
       "a:link.sk-estimator-doc-link,\n",
       "a:visited.sk-estimator-doc-link {\n",
       "  float: right;\n",
       "  font-size: smaller;\n",
       "  line-height: 1em;\n",
       "  font-family: monospace;\n",
       "  background-color: var(--sklearn-color-background);\n",
       "  border-radius: 1em;\n",
       "  height: 1em;\n",
       "  width: 1em;\n",
       "  text-decoration: none !important;\n",
       "  margin-left: 0.5em;\n",
       "  text-align: center;\n",
       "  /* unfitted */\n",
       "  border: var(--sklearn-color-unfitted-level-1) 1pt solid;\n",
       "  color: var(--sklearn-color-unfitted-level-1);\n",
       "}\n",
       "\n",
       ".sk-estimator-doc-link.fitted,\n",
       "a:link.sk-estimator-doc-link.fitted,\n",
       "a:visited.sk-estimator-doc-link.fitted {\n",
       "  /* fitted */\n",
       "  border: var(--sklearn-color-fitted-level-1) 1pt solid;\n",
       "  color: var(--sklearn-color-fitted-level-1);\n",
       "}\n",
       "\n",
       "/* On hover */\n",
       "div.sk-estimator:hover .sk-estimator-doc-link:hover,\n",
       ".sk-estimator-doc-link:hover,\n",
       "div.sk-label-container:hover .sk-estimator-doc-link:hover,\n",
       ".sk-estimator-doc-link:hover {\n",
       "  /* unfitted */\n",
       "  background-color: var(--sklearn-color-unfitted-level-3);\n",
       "  color: var(--sklearn-color-background);\n",
       "  text-decoration: none;\n",
       "}\n",
       "\n",
       "div.sk-estimator.fitted:hover .sk-estimator-doc-link.fitted:hover,\n",
       ".sk-estimator-doc-link.fitted:hover,\n",
       "div.sk-label-container:hover .sk-estimator-doc-link.fitted:hover,\n",
       ".sk-estimator-doc-link.fitted:hover {\n",
       "  /* fitted */\n",
       "  background-color: var(--sklearn-color-fitted-level-3);\n",
       "  color: var(--sklearn-color-background);\n",
       "  text-decoration: none;\n",
       "}\n",
       "\n",
       "/* Span, style for the box shown on hovering the info icon */\n",
       ".sk-estimator-doc-link span {\n",
       "  display: none;\n",
       "  z-index: 9999;\n",
       "  position: relative;\n",
       "  font-weight: normal;\n",
       "  right: .2ex;\n",
       "  padding: .5ex;\n",
       "  margin: .5ex;\n",
       "  width: min-content;\n",
       "  min-width: 20ex;\n",
       "  max-width: 50ex;\n",
       "  color: var(--sklearn-color-text);\n",
       "  box-shadow: 2pt 2pt 4pt #999;\n",
       "  /* unfitted */\n",
       "  background: var(--sklearn-color-unfitted-level-0);\n",
       "  border: .5pt solid var(--sklearn-color-unfitted-level-3);\n",
       "}\n",
       "\n",
       ".sk-estimator-doc-link.fitted span {\n",
       "  /* fitted */\n",
       "  background: var(--sklearn-color-fitted-level-0);\n",
       "  border: var(--sklearn-color-fitted-level-3);\n",
       "}\n",
       "\n",
       ".sk-estimator-doc-link:hover span {\n",
       "  display: block;\n",
       "}\n",
       "\n",
       "/* \"?\"-specific style due to the `<a>` HTML tag */\n",
       "\n",
       "#sk-container-id-1 a.estimator_doc_link {\n",
       "  float: right;\n",
       "  font-size: 1rem;\n",
       "  line-height: 1em;\n",
       "  font-family: monospace;\n",
       "  background-color: var(--sklearn-color-background);\n",
       "  border-radius: 1rem;\n",
       "  height: 1rem;\n",
       "  width: 1rem;\n",
       "  text-decoration: none;\n",
       "  /* unfitted */\n",
       "  color: var(--sklearn-color-unfitted-level-1);\n",
       "  border: var(--sklearn-color-unfitted-level-1) 1pt solid;\n",
       "}\n",
       "\n",
       "#sk-container-id-1 a.estimator_doc_link.fitted {\n",
       "  /* fitted */\n",
       "  border: var(--sklearn-color-fitted-level-1) 1pt solid;\n",
       "  color: var(--sklearn-color-fitted-level-1);\n",
       "}\n",
       "\n",
       "/* On hover */\n",
       "#sk-container-id-1 a.estimator_doc_link:hover {\n",
       "  /* unfitted */\n",
       "  background-color: var(--sklearn-color-unfitted-level-3);\n",
       "  color: var(--sklearn-color-background);\n",
       "  text-decoration: none;\n",
       "}\n",
       "\n",
       "#sk-container-id-1 a.estimator_doc_link.fitted:hover {\n",
       "  /* fitted */\n",
       "  background-color: var(--sklearn-color-fitted-level-3);\n",
       "}\n",
       "</style><div id=\"sk-container-id-1\" class=\"sk-top-container\"><div class=\"sk-text-repr-fallback\"><pre>LinearRegression()</pre><b>In a Jupyter environment, please rerun this cell to show the HTML representation or trust the notebook. <br />On GitHub, the HTML representation is unable to render, please try loading this page with nbviewer.org.</b></div><div class=\"sk-container\" hidden><div class=\"sk-item\"><div class=\"sk-estimator fitted sk-toggleable\"><input class=\"sk-toggleable__control sk-hidden--visually\" id=\"sk-estimator-id-1\" type=\"checkbox\" checked><label for=\"sk-estimator-id-1\" class=\"sk-toggleable__label fitted sk-toggleable__label-arrow\"><div><div>LinearRegression</div></div><div><a class=\"sk-estimator-doc-link fitted\" rel=\"noreferrer\" target=\"_blank\" href=\"https://scikit-learn.org/1.6/modules/generated/sklearn.linear_model.LinearRegression.html\">?<span>Documentation for LinearRegression</span></a><span class=\"sk-estimator-doc-link fitted\">i<span>Fitted</span></span></div></label><div class=\"sk-toggleable__content fitted\"><pre>LinearRegression()</pre></div> </div></div></div></div>"
      ],
      "text/plain": [
       "LinearRegression()"
      ]
     },
     "execution_count": 85,
     "metadata": {},
     "output_type": "execute_result"
    }
   ],
   "source": [
    "model.fit(X_trainprocessed, y_train)"
   ]
  },
  {
   "cell_type": "code",
   "execution_count": 86,
   "id": "437c5fb4-ea6e-4f0a-8123-7897105fd539",
   "metadata": {},
   "outputs": [],
   "source": [
    "y_train_pred = model.predict(X_trainprocessed)\n",
    "y_test_pred = model.predict(X_testprocessed)\n"
   ]
  },
  {
   "cell_type": "code",
   "execution_count": 87,
   "id": "3317eda2-17d0-4c3b-9e56-3fda5f04d2d1",
   "metadata": {},
   "outputs": [
    {
     "name": "stdout",
     "output_type": "stream",
     "text": [
      "0.320435520212741 0.2538451647404111\n"
     ]
    }
   ],
   "source": [
    "train_score = r2_score(y_train_pred, y_train)\n",
    "test_score = r2_score(y_test_pred, y_test)\n",
    "print(train_score, test_score)"
   ]
  },
  {
   "cell_type": "code",
   "execution_count": 88,
   "id": "e9482c03-8fdd-43fb-834d-5fee264b1514",
   "metadata": {},
   "outputs": [
    {
     "name": "stdout",
     "output_type": "stream",
     "text": [
      "0.8123667414451653 0.8849132091632923\n",
      "0.9013138972883783 0.9406982561710702\n"
     ]
    }
   ],
   "source": [
    "train_mse = mean_squared_error(y_train_pred, y_train)\n",
    "test_mse = mean_squared_error(y_test_pred, y_test)\n",
    "train_rmse = np.sqrt(mean_squared_error(y_train_pred, y_train))\n",
    "test_rmse = np.sqrt(mean_squared_error(y_test_pred, y_test))\n",
    "print(train_mse, test_mse)\n",
    "print(train_rmse, test_rmse)"
   ]
  },
  {
   "cell_type": "code",
   "execution_count": 89,
   "id": "f72b66e5-0aa2-46ad-9857-378b7c8a1c4d",
   "metadata": {},
   "outputs": [
    {
     "name": "stdout",
     "output_type": "stream",
     "text": [
      "DecisionTree - train_score: 1.000, test_score: 0.978\n",
      " train_mse: 0.000,test_mse: 0.044\n",
      "train_rmse: 0.000,test_rmse: 0.210\n",
      " train_mae:0.000, test_mae:0.081\n",
      "RandomForest - train_score: 0.998, test_score: 0.983\n",
      " train_mse: 0.005,test_mse: 0.032\n",
      "train_rmse: 0.067,test_rmse: 0.179\n",
      " train_mae:0.038, test_mae:0.102\n",
      "GradientBoosting - train_score: 0.958, test_score: 0.954\n",
      " train_mse: 0.078,test_mse: 0.085\n",
      "train_rmse: 0.280,test_rmse: 0.292\n",
      " train_mae:0.197, test_mae:0.203\n"
     ]
    }
   ],
   "source": [
    "def parameter(**param):\n",
    "    models = {\n",
    "        #'Regression': LinearRegression(**param),\n",
    "        'DecisionTree': DecisionTreeRegressor(**param),\n",
    "        'RandomForest': RandomForestRegressor(**param),\n",
    "        'GradientBoosting': GradientBoostingRegressor(**param)\n",
    "    }\n",
    "    \n",
    "    for name, model in models.items():\n",
    "        model.fit(X_trainprocessed, y_train)\n",
    "    \n",
    "        y_train_pred = model.predict(X_trainprocessed)\n",
    "        y_test_pred = model.predict(X_testprocessed)\n",
    "\n",
    "        train_mse = mean_squared_error(y_train_pred, y_train)\n",
    "        test_mse = mean_squared_error(y_test_pred, y_test)\n",
    "\n",
    "        train_rmse = np.sqrt(mean_squared_error(y_train_pred, y_train))\n",
    "        test_rmse = np.sqrt(mean_squared_error(y_test_pred, y_test))\n",
    "\n",
    "        train_score = r2_score(y_train_pred, y_train)\n",
    "        test_score = r2_score(y_test_pred, y_test)\n",
    "\n",
    "        train_mae = mean_absolute_error(y_train_pred, y_train)\n",
    "        test_mae = mean_absolute_error(y_test_pred, y_test)\n",
    "\n",
    "        print(f'{name} - train_score: {train_score:.3f}, test_score: {test_score:.3f}\\n train_mse: {train_mse:.3f},test_mse: {test_mse:.3f}\\ntrain_rmse: {train_rmse:.3f},test_rmse: {test_rmse:.3f}\\n train_mae:{train_mae:.3f}, test_mae:{test_mae:.3f}')\n",
    "\n",
    "parameter(random_state = 42)"
   ]
  },
  {
   "cell_type": "markdown",
   "id": "104a6e5d-92c5-4f37-9039-eab83e4deddf",
   "metadata": {},
   "source": [
    "### Modeling after removing the Zeros rating record"
   ]
  },
  {
   "cell_type": "code",
   "execution_count": 90,
   "id": "abc9d3a2-4f89-4a7f-875f-4c1f81e4b127",
   "metadata": {},
   "outputs": [],
   "source": [
    "df_exploded = df_exploded[df_exploded['Aggregate rating'] > 0]"
   ]
  },
  {
   "cell_type": "markdown",
   "id": "eca3f2dd-77c5-421e-9fe4-f976ac45a5a0",
   "metadata": {},
   "source": [
    "#### Model Selection"
   ]
  },
  {
   "cell_type": "code",
   "execution_count": 91,
   "id": "9e0ca157-b33f-44b1-b3d2-6a1b3e9a4087",
   "metadata": {},
   "outputs": [],
   "source": [
    "X = df_exploded.drop(columns = ['Aggregate rating', 'Restaurant Name', 'Address', 'Locality Verbose', 'Country Code', 'Is delivering now', 'Switch to order menu',  'Rating color', 'Rating text', 'Latitude', 'Longitude'])\n",
    "y = df_exploded['Aggregate rating']"
   ]
  },
  {
   "cell_type": "code",
   "execution_count": 92,
   "id": "ae726c60-a8d0-4eed-ad82-4ae8ad79d3d1",
   "metadata": {},
   "outputs": [],
   "source": [
    "X_train, X_test, y_train, y_test = train_test_split(X, y, test_size = 0.3, train_size = 0.7, random_state = 42)"
   ]
  },
  {
   "cell_type": "markdown",
   "id": "6050f548-f618-4b8e-9b73-a9831721b53a",
   "metadata": {},
   "source": [
    "#### Preprocessing"
   ]
  },
  {
   "cell_type": "code",
   "execution_count": 93,
   "id": "22807de7-bf30-4afe-b595-00f9e766e2e8",
   "metadata": {},
   "outputs": [
    {
     "data": {
      "text/plain": [
       "Index(['City', 'Locality', 'Cuisines', 'Currency', 'Has Table booking',\n",
       "       'Has Online delivery'],\n",
       "      dtype='object')"
      ]
     },
     "execution_count": 93,
     "metadata": {},
     "output_type": "execute_result"
    }
   ],
   "source": [
    "cat_col = X.select_dtypes('object').columns\n",
    "cat_col"
   ]
  },
  {
   "cell_type": "code",
   "execution_count": 94,
   "id": "fcc840aa-8108-4a62-b355-9ee28c2084ed",
   "metadata": {},
   "outputs": [],
   "source": [
    "encoder = OneHotEncoder(drop = 'first', handle_unknown = 'ignore')"
   ]
  },
  {
   "cell_type": "code",
   "execution_count": 95,
   "id": "d45a21a3-8bec-47f7-b9a0-ec81dbd22efe",
   "metadata": {},
   "outputs": [
    {
     "name": "stderr",
     "output_type": "stream",
     "text": [
      "C:\\Users\\Adedamola.Ayeni\\AppData\\Local\\Programs\\Python\\Python312\\Lib\\site-packages\\sklearn\\preprocessing\\_encoders.py:246: UserWarning: Found unknown categories in columns [0, 1, 2] during transform. These unknown categories will be encoded as all zeros\n",
      "  warnings.warn(\n"
     ]
    }
   ],
   "source": [
    "X_train_encoded = encoder.fit_transform(X_train[cat_col]).toarray()\n",
    "X_test_encoded = encoder.transform(X_test[cat_col]).toarray()"
   ]
  },
  {
   "cell_type": "code",
   "execution_count": 96,
   "id": "21387b1c-d45f-489c-924d-16043e8f07b7",
   "metadata": {},
   "outputs": [
    {
     "data": {
      "text/plain": [
       "Index(['Restaurant ID', 'Average Cost for two', 'Price range', 'Votes'], dtype='object')"
      ]
     },
     "execution_count": 96,
     "metadata": {},
     "output_type": "execute_result"
    }
   ],
   "source": [
    "num_col = X.select_dtypes(np.number).columns\n",
    "num_col"
   ]
  },
  {
   "cell_type": "code",
   "execution_count": 97,
   "id": "107d2f9d-7c67-4a2b-8e5b-06c68f761af2",
   "metadata": {},
   "outputs": [],
   "source": [
    "X_train_scaling = scaler.fit_transform(X_train[num_col])\n",
    "X_test_scaling = scaler.transform(X_test[num_col])"
   ]
  },
  {
   "cell_type": "code",
   "execution_count": 98,
   "id": "67b1e874-d4a2-45ee-bf50-923d6a5c115f",
   "metadata": {},
   "outputs": [],
   "source": [
    "X_trainprocessed = np.hstack((X_train_encoded, X_train_scaling))\n",
    "X_testprocessed = np.hstack((X_test_encoded, X_test_scaling))"
   ]
  },
  {
   "cell_type": "code",
   "execution_count": 99,
   "id": "01d2e030-56f2-467f-892f-fc50dbeb3bb3",
   "metadata": {},
   "outputs": [],
   "source": [
    "model = LinearRegression()"
   ]
  },
  {
   "cell_type": "code",
   "execution_count": 100,
   "id": "ed035402-789d-4fcc-a0b7-9e9a7235594f",
   "metadata": {},
   "outputs": [
    {
     "data": {
      "text/html": [
       "<style>#sk-container-id-2 {\n",
       "  /* Definition of color scheme common for light and dark mode */\n",
       "  --sklearn-color-text: #000;\n",
       "  --sklearn-color-text-muted: #666;\n",
       "  --sklearn-color-line: gray;\n",
       "  /* Definition of color scheme for unfitted estimators */\n",
       "  --sklearn-color-unfitted-level-0: #fff5e6;\n",
       "  --sklearn-color-unfitted-level-1: #f6e4d2;\n",
       "  --sklearn-color-unfitted-level-2: #ffe0b3;\n",
       "  --sklearn-color-unfitted-level-3: chocolate;\n",
       "  /* Definition of color scheme for fitted estimators */\n",
       "  --sklearn-color-fitted-level-0: #f0f8ff;\n",
       "  --sklearn-color-fitted-level-1: #d4ebff;\n",
       "  --sklearn-color-fitted-level-2: #b3dbfd;\n",
       "  --sklearn-color-fitted-level-3: cornflowerblue;\n",
       "\n",
       "  /* Specific color for light theme */\n",
       "  --sklearn-color-text-on-default-background: var(--sg-text-color, var(--theme-code-foreground, var(--jp-content-font-color1, black)));\n",
       "  --sklearn-color-background: var(--sg-background-color, var(--theme-background, var(--jp-layout-color0, white)));\n",
       "  --sklearn-color-border-box: var(--sg-text-color, var(--theme-code-foreground, var(--jp-content-font-color1, black)));\n",
       "  --sklearn-color-icon: #696969;\n",
       "\n",
       "  @media (prefers-color-scheme: dark) {\n",
       "    /* Redefinition of color scheme for dark theme */\n",
       "    --sklearn-color-text-on-default-background: var(--sg-text-color, var(--theme-code-foreground, var(--jp-content-font-color1, white)));\n",
       "    --sklearn-color-background: var(--sg-background-color, var(--theme-background, var(--jp-layout-color0, #111)));\n",
       "    --sklearn-color-border-box: var(--sg-text-color, var(--theme-code-foreground, var(--jp-content-font-color1, white)));\n",
       "    --sklearn-color-icon: #878787;\n",
       "  }\n",
       "}\n",
       "\n",
       "#sk-container-id-2 {\n",
       "  color: var(--sklearn-color-text);\n",
       "}\n",
       "\n",
       "#sk-container-id-2 pre {\n",
       "  padding: 0;\n",
       "}\n",
       "\n",
       "#sk-container-id-2 input.sk-hidden--visually {\n",
       "  border: 0;\n",
       "  clip: rect(1px 1px 1px 1px);\n",
       "  clip: rect(1px, 1px, 1px, 1px);\n",
       "  height: 1px;\n",
       "  margin: -1px;\n",
       "  overflow: hidden;\n",
       "  padding: 0;\n",
       "  position: absolute;\n",
       "  width: 1px;\n",
       "}\n",
       "\n",
       "#sk-container-id-2 div.sk-dashed-wrapped {\n",
       "  border: 1px dashed var(--sklearn-color-line);\n",
       "  margin: 0 0.4em 0.5em 0.4em;\n",
       "  box-sizing: border-box;\n",
       "  padding-bottom: 0.4em;\n",
       "  background-color: var(--sklearn-color-background);\n",
       "}\n",
       "\n",
       "#sk-container-id-2 div.sk-container {\n",
       "  /* jupyter's `normalize.less` sets `[hidden] { display: none; }`\n",
       "     but bootstrap.min.css set `[hidden] { display: none !important; }`\n",
       "     so we also need the `!important` here to be able to override the\n",
       "     default hidden behavior on the sphinx rendered scikit-learn.org.\n",
       "     See: https://github.com/scikit-learn/scikit-learn/issues/21755 */\n",
       "  display: inline-block !important;\n",
       "  position: relative;\n",
       "}\n",
       "\n",
       "#sk-container-id-2 div.sk-text-repr-fallback {\n",
       "  display: none;\n",
       "}\n",
       "\n",
       "div.sk-parallel-item,\n",
       "div.sk-serial,\n",
       "div.sk-item {\n",
       "  /* draw centered vertical line to link estimators */\n",
       "  background-image: linear-gradient(var(--sklearn-color-text-on-default-background), var(--sklearn-color-text-on-default-background));\n",
       "  background-size: 2px 100%;\n",
       "  background-repeat: no-repeat;\n",
       "  background-position: center center;\n",
       "}\n",
       "\n",
       "/* Parallel-specific style estimator block */\n",
       "\n",
       "#sk-container-id-2 div.sk-parallel-item::after {\n",
       "  content: \"\";\n",
       "  width: 100%;\n",
       "  border-bottom: 2px solid var(--sklearn-color-text-on-default-background);\n",
       "  flex-grow: 1;\n",
       "}\n",
       "\n",
       "#sk-container-id-2 div.sk-parallel {\n",
       "  display: flex;\n",
       "  align-items: stretch;\n",
       "  justify-content: center;\n",
       "  background-color: var(--sklearn-color-background);\n",
       "  position: relative;\n",
       "}\n",
       "\n",
       "#sk-container-id-2 div.sk-parallel-item {\n",
       "  display: flex;\n",
       "  flex-direction: column;\n",
       "}\n",
       "\n",
       "#sk-container-id-2 div.sk-parallel-item:first-child::after {\n",
       "  align-self: flex-end;\n",
       "  width: 50%;\n",
       "}\n",
       "\n",
       "#sk-container-id-2 div.sk-parallel-item:last-child::after {\n",
       "  align-self: flex-start;\n",
       "  width: 50%;\n",
       "}\n",
       "\n",
       "#sk-container-id-2 div.sk-parallel-item:only-child::after {\n",
       "  width: 0;\n",
       "}\n",
       "\n",
       "/* Serial-specific style estimator block */\n",
       "\n",
       "#sk-container-id-2 div.sk-serial {\n",
       "  display: flex;\n",
       "  flex-direction: column;\n",
       "  align-items: center;\n",
       "  background-color: var(--sklearn-color-background);\n",
       "  padding-right: 1em;\n",
       "  padding-left: 1em;\n",
       "}\n",
       "\n",
       "\n",
       "/* Toggleable style: style used for estimator/Pipeline/ColumnTransformer box that is\n",
       "clickable and can be expanded/collapsed.\n",
       "- Pipeline and ColumnTransformer use this feature and define the default style\n",
       "- Estimators will overwrite some part of the style using the `sk-estimator` class\n",
       "*/\n",
       "\n",
       "/* Pipeline and ColumnTransformer style (default) */\n",
       "\n",
       "#sk-container-id-2 div.sk-toggleable {\n",
       "  /* Default theme specific background. It is overwritten whether we have a\n",
       "  specific estimator or a Pipeline/ColumnTransformer */\n",
       "  background-color: var(--sklearn-color-background);\n",
       "}\n",
       "\n",
       "/* Toggleable label */\n",
       "#sk-container-id-2 label.sk-toggleable__label {\n",
       "  cursor: pointer;\n",
       "  display: flex;\n",
       "  width: 100%;\n",
       "  margin-bottom: 0;\n",
       "  padding: 0.5em;\n",
       "  box-sizing: border-box;\n",
       "  text-align: center;\n",
       "  align-items: start;\n",
       "  justify-content: space-between;\n",
       "  gap: 0.5em;\n",
       "}\n",
       "\n",
       "#sk-container-id-2 label.sk-toggleable__label .caption {\n",
       "  font-size: 0.6rem;\n",
       "  font-weight: lighter;\n",
       "  color: var(--sklearn-color-text-muted);\n",
       "}\n",
       "\n",
       "#sk-container-id-2 label.sk-toggleable__label-arrow:before {\n",
       "  /* Arrow on the left of the label */\n",
       "  content: \"▸\";\n",
       "  float: left;\n",
       "  margin-right: 0.25em;\n",
       "  color: var(--sklearn-color-icon);\n",
       "}\n",
       "\n",
       "#sk-container-id-2 label.sk-toggleable__label-arrow:hover:before {\n",
       "  color: var(--sklearn-color-text);\n",
       "}\n",
       "\n",
       "/* Toggleable content - dropdown */\n",
       "\n",
       "#sk-container-id-2 div.sk-toggleable__content {\n",
       "  max-height: 0;\n",
       "  max-width: 0;\n",
       "  overflow: hidden;\n",
       "  text-align: left;\n",
       "  /* unfitted */\n",
       "  background-color: var(--sklearn-color-unfitted-level-0);\n",
       "}\n",
       "\n",
       "#sk-container-id-2 div.sk-toggleable__content.fitted {\n",
       "  /* fitted */\n",
       "  background-color: var(--sklearn-color-fitted-level-0);\n",
       "}\n",
       "\n",
       "#sk-container-id-2 div.sk-toggleable__content pre {\n",
       "  margin: 0.2em;\n",
       "  border-radius: 0.25em;\n",
       "  color: var(--sklearn-color-text);\n",
       "  /* unfitted */\n",
       "  background-color: var(--sklearn-color-unfitted-level-0);\n",
       "}\n",
       "\n",
       "#sk-container-id-2 div.sk-toggleable__content.fitted pre {\n",
       "  /* unfitted */\n",
       "  background-color: var(--sklearn-color-fitted-level-0);\n",
       "}\n",
       "\n",
       "#sk-container-id-2 input.sk-toggleable__control:checked~div.sk-toggleable__content {\n",
       "  /* Expand drop-down */\n",
       "  max-height: 200px;\n",
       "  max-width: 100%;\n",
       "  overflow: auto;\n",
       "}\n",
       "\n",
       "#sk-container-id-2 input.sk-toggleable__control:checked~label.sk-toggleable__label-arrow:before {\n",
       "  content: \"▾\";\n",
       "}\n",
       "\n",
       "/* Pipeline/ColumnTransformer-specific style */\n",
       "\n",
       "#sk-container-id-2 div.sk-label input.sk-toggleable__control:checked~label.sk-toggleable__label {\n",
       "  color: var(--sklearn-color-text);\n",
       "  background-color: var(--sklearn-color-unfitted-level-2);\n",
       "}\n",
       "\n",
       "#sk-container-id-2 div.sk-label.fitted input.sk-toggleable__control:checked~label.sk-toggleable__label {\n",
       "  background-color: var(--sklearn-color-fitted-level-2);\n",
       "}\n",
       "\n",
       "/* Estimator-specific style */\n",
       "\n",
       "/* Colorize estimator box */\n",
       "#sk-container-id-2 div.sk-estimator input.sk-toggleable__control:checked~label.sk-toggleable__label {\n",
       "  /* unfitted */\n",
       "  background-color: var(--sklearn-color-unfitted-level-2);\n",
       "}\n",
       "\n",
       "#sk-container-id-2 div.sk-estimator.fitted input.sk-toggleable__control:checked~label.sk-toggleable__label {\n",
       "  /* fitted */\n",
       "  background-color: var(--sklearn-color-fitted-level-2);\n",
       "}\n",
       "\n",
       "#sk-container-id-2 div.sk-label label.sk-toggleable__label,\n",
       "#sk-container-id-2 div.sk-label label {\n",
       "  /* The background is the default theme color */\n",
       "  color: var(--sklearn-color-text-on-default-background);\n",
       "}\n",
       "\n",
       "/* On hover, darken the color of the background */\n",
       "#sk-container-id-2 div.sk-label:hover label.sk-toggleable__label {\n",
       "  color: var(--sklearn-color-text);\n",
       "  background-color: var(--sklearn-color-unfitted-level-2);\n",
       "}\n",
       "\n",
       "/* Label box, darken color on hover, fitted */\n",
       "#sk-container-id-2 div.sk-label.fitted:hover label.sk-toggleable__label.fitted {\n",
       "  color: var(--sklearn-color-text);\n",
       "  background-color: var(--sklearn-color-fitted-level-2);\n",
       "}\n",
       "\n",
       "/* Estimator label */\n",
       "\n",
       "#sk-container-id-2 div.sk-label label {\n",
       "  font-family: monospace;\n",
       "  font-weight: bold;\n",
       "  display: inline-block;\n",
       "  line-height: 1.2em;\n",
       "}\n",
       "\n",
       "#sk-container-id-2 div.sk-label-container {\n",
       "  text-align: center;\n",
       "}\n",
       "\n",
       "/* Estimator-specific */\n",
       "#sk-container-id-2 div.sk-estimator {\n",
       "  font-family: monospace;\n",
       "  border: 1px dotted var(--sklearn-color-border-box);\n",
       "  border-radius: 0.25em;\n",
       "  box-sizing: border-box;\n",
       "  margin-bottom: 0.5em;\n",
       "  /* unfitted */\n",
       "  background-color: var(--sklearn-color-unfitted-level-0);\n",
       "}\n",
       "\n",
       "#sk-container-id-2 div.sk-estimator.fitted {\n",
       "  /* fitted */\n",
       "  background-color: var(--sklearn-color-fitted-level-0);\n",
       "}\n",
       "\n",
       "/* on hover */\n",
       "#sk-container-id-2 div.sk-estimator:hover {\n",
       "  /* unfitted */\n",
       "  background-color: var(--sklearn-color-unfitted-level-2);\n",
       "}\n",
       "\n",
       "#sk-container-id-2 div.sk-estimator.fitted:hover {\n",
       "  /* fitted */\n",
       "  background-color: var(--sklearn-color-fitted-level-2);\n",
       "}\n",
       "\n",
       "/* Specification for estimator info (e.g. \"i\" and \"?\") */\n",
       "\n",
       "/* Common style for \"i\" and \"?\" */\n",
       "\n",
       ".sk-estimator-doc-link,\n",
       "a:link.sk-estimator-doc-link,\n",
       "a:visited.sk-estimator-doc-link {\n",
       "  float: right;\n",
       "  font-size: smaller;\n",
       "  line-height: 1em;\n",
       "  font-family: monospace;\n",
       "  background-color: var(--sklearn-color-background);\n",
       "  border-radius: 1em;\n",
       "  height: 1em;\n",
       "  width: 1em;\n",
       "  text-decoration: none !important;\n",
       "  margin-left: 0.5em;\n",
       "  text-align: center;\n",
       "  /* unfitted */\n",
       "  border: var(--sklearn-color-unfitted-level-1) 1pt solid;\n",
       "  color: var(--sklearn-color-unfitted-level-1);\n",
       "}\n",
       "\n",
       ".sk-estimator-doc-link.fitted,\n",
       "a:link.sk-estimator-doc-link.fitted,\n",
       "a:visited.sk-estimator-doc-link.fitted {\n",
       "  /* fitted */\n",
       "  border: var(--sklearn-color-fitted-level-1) 1pt solid;\n",
       "  color: var(--sklearn-color-fitted-level-1);\n",
       "}\n",
       "\n",
       "/* On hover */\n",
       "div.sk-estimator:hover .sk-estimator-doc-link:hover,\n",
       ".sk-estimator-doc-link:hover,\n",
       "div.sk-label-container:hover .sk-estimator-doc-link:hover,\n",
       ".sk-estimator-doc-link:hover {\n",
       "  /* unfitted */\n",
       "  background-color: var(--sklearn-color-unfitted-level-3);\n",
       "  color: var(--sklearn-color-background);\n",
       "  text-decoration: none;\n",
       "}\n",
       "\n",
       "div.sk-estimator.fitted:hover .sk-estimator-doc-link.fitted:hover,\n",
       ".sk-estimator-doc-link.fitted:hover,\n",
       "div.sk-label-container:hover .sk-estimator-doc-link.fitted:hover,\n",
       ".sk-estimator-doc-link.fitted:hover {\n",
       "  /* fitted */\n",
       "  background-color: var(--sklearn-color-fitted-level-3);\n",
       "  color: var(--sklearn-color-background);\n",
       "  text-decoration: none;\n",
       "}\n",
       "\n",
       "/* Span, style for the box shown on hovering the info icon */\n",
       ".sk-estimator-doc-link span {\n",
       "  display: none;\n",
       "  z-index: 9999;\n",
       "  position: relative;\n",
       "  font-weight: normal;\n",
       "  right: .2ex;\n",
       "  padding: .5ex;\n",
       "  margin: .5ex;\n",
       "  width: min-content;\n",
       "  min-width: 20ex;\n",
       "  max-width: 50ex;\n",
       "  color: var(--sklearn-color-text);\n",
       "  box-shadow: 2pt 2pt 4pt #999;\n",
       "  /* unfitted */\n",
       "  background: var(--sklearn-color-unfitted-level-0);\n",
       "  border: .5pt solid var(--sklearn-color-unfitted-level-3);\n",
       "}\n",
       "\n",
       ".sk-estimator-doc-link.fitted span {\n",
       "  /* fitted */\n",
       "  background: var(--sklearn-color-fitted-level-0);\n",
       "  border: var(--sklearn-color-fitted-level-3);\n",
       "}\n",
       "\n",
       ".sk-estimator-doc-link:hover span {\n",
       "  display: block;\n",
       "}\n",
       "\n",
       "/* \"?\"-specific style due to the `<a>` HTML tag */\n",
       "\n",
       "#sk-container-id-2 a.estimator_doc_link {\n",
       "  float: right;\n",
       "  font-size: 1rem;\n",
       "  line-height: 1em;\n",
       "  font-family: monospace;\n",
       "  background-color: var(--sklearn-color-background);\n",
       "  border-radius: 1rem;\n",
       "  height: 1rem;\n",
       "  width: 1rem;\n",
       "  text-decoration: none;\n",
       "  /* unfitted */\n",
       "  color: var(--sklearn-color-unfitted-level-1);\n",
       "  border: var(--sklearn-color-unfitted-level-1) 1pt solid;\n",
       "}\n",
       "\n",
       "#sk-container-id-2 a.estimator_doc_link.fitted {\n",
       "  /* fitted */\n",
       "  border: var(--sklearn-color-fitted-level-1) 1pt solid;\n",
       "  color: var(--sklearn-color-fitted-level-1);\n",
       "}\n",
       "\n",
       "/* On hover */\n",
       "#sk-container-id-2 a.estimator_doc_link:hover {\n",
       "  /* unfitted */\n",
       "  background-color: var(--sklearn-color-unfitted-level-3);\n",
       "  color: var(--sklearn-color-background);\n",
       "  text-decoration: none;\n",
       "}\n",
       "\n",
       "#sk-container-id-2 a.estimator_doc_link.fitted:hover {\n",
       "  /* fitted */\n",
       "  background-color: var(--sklearn-color-fitted-level-3);\n",
       "}\n",
       "</style><div id=\"sk-container-id-2\" class=\"sk-top-container\"><div class=\"sk-text-repr-fallback\"><pre>LinearRegression()</pre><b>In a Jupyter environment, please rerun this cell to show the HTML representation or trust the notebook. <br />On GitHub, the HTML representation is unable to render, please try loading this page with nbviewer.org.</b></div><div class=\"sk-container\" hidden><div class=\"sk-item\"><div class=\"sk-estimator fitted sk-toggleable\"><input class=\"sk-toggleable__control sk-hidden--visually\" id=\"sk-estimator-id-2\" type=\"checkbox\" checked><label for=\"sk-estimator-id-2\" class=\"sk-toggleable__label fitted sk-toggleable__label-arrow\"><div><div>LinearRegression</div></div><div><a class=\"sk-estimator-doc-link fitted\" rel=\"noreferrer\" target=\"_blank\" href=\"https://scikit-learn.org/1.6/modules/generated/sklearn.linear_model.LinearRegression.html\">?<span>Documentation for LinearRegression</span></a><span class=\"sk-estimator-doc-link fitted\">i<span>Fitted</span></span></div></label><div class=\"sk-toggleable__content fitted\"><pre>LinearRegression()</pre></div> </div></div></div></div>"
      ],
      "text/plain": [
       "LinearRegression()"
      ]
     },
     "execution_count": 100,
     "metadata": {},
     "output_type": "execute_result"
    }
   ],
   "source": [
    "model.fit(X_trainprocessed, y_train)"
   ]
  },
  {
   "cell_type": "code",
   "execution_count": 101,
   "id": "daeca7fc-88ba-4c4f-9bca-46d40fbec8ba",
   "metadata": {},
   "outputs": [],
   "source": [
    "y_train_pred = model.predict(X_trainprocessed)\n",
    "y_test_pred = model.predict(X_testprocessed)"
   ]
  },
  {
   "cell_type": "code",
   "execution_count": 102,
   "id": "b8425ac6-c615-491e-9ec2-c0196bae2cd0",
   "metadata": {},
   "outputs": [
    {
     "name": "stdout",
     "output_type": "stream",
     "text": [
      "0.45745822062040054 0.3614362001182626\n"
     ]
    }
   ],
   "source": [
    "train_score = r2_score(y_train_pred, y_train)\n",
    "test_score = r2_score(y_test_pred, y_test)\n",
    "print(train_score, test_score)"
   ]
  },
  {
   "cell_type": "code",
   "execution_count": 103,
   "id": "b97479ae-e0bd-483d-82fb-f76ce8090629",
   "metadata": {},
   "outputs": [
    {
     "name": "stdout",
     "output_type": "stream",
     "text": [
      "0.1110081236704995 0.125999784647259\n",
      "0.33317881635917296 0.3549644836420385\n"
     ]
    }
   ],
   "source": [
    "train_mse = mean_squared_error(y_train_pred, y_train)\n",
    "test_mse = mean_squared_error(y_test_pred, y_test)\n",
    "\n",
    "train_rmse = np.sqrt(mean_squared_error(y_train_pred, y_train))\n",
    "test_rmse = np.sqrt(mean_squared_error(y_test_pred, y_test))\n",
    "print(train_mse, test_mse)\n",
    "print(train_rmse, test_rmse)"
   ]
  },
  {
   "cell_type": "code",
   "execution_count": 104,
   "id": "921dd6dc-a3dc-4a9f-ab41-d248666c9590",
   "metadata": {},
   "outputs": [
    {
     "name": "stdout",
     "output_type": "stream",
     "text": [
      "0.24553523977116737 0.26773162333930145\n"
     ]
    }
   ],
   "source": [
    "train_mae = mean_absolute_error(y_train_pred, y_train)\n",
    "test_mae = mean_absolute_error(y_test_pred, y_test)\n",
    "print(train_mae, test_mae)"
   ]
  },
  {
   "cell_type": "code",
   "execution_count": 105,
   "id": "35bf4c51-82bf-4b3c-a525-02f39d9322d7",
   "metadata": {},
   "outputs": [
    {
     "name": "stdout",
     "output_type": "stream",
     "text": [
      "DecisionTree - train_score: 1.000, test_score: 0.818\n",
      " train_mse: 0.000,test_mse: 0.053\n",
      "train_rmse: 0.000,test_rmse: 0.053\n",
      " train_mae:0.000, test_mae:0.096\n",
      "RandomForest - train_score: 0.981, test_score: 0.844\n",
      " train_mse: 0.005,test_mse: 0.039\n",
      "train_rmse: 0.005,test_rmse: 0.039\n",
      " train_mae:0.045, test_mae:0.123\n",
      "GradientBoosting - train_score: 0.523, test_score: 0.514\n",
      " train_mse: 0.092,test_mse: 0.093\n",
      "train_rmse: 0.092,test_rmse: 0.093\n",
      " train_mae:0.231, test_mae:0.233\n"
     ]
    }
   ],
   "source": [
    "def parameter(**param):\n",
    "    models = {\n",
    "        \n",
    "        'DecisionTree': DecisionTreeRegressor(**param),\n",
    "        'RandomForest': RandomForestRegressor(**param),\n",
    "        'GradientBoosting': GradientBoostingRegressor(**param)\n",
    "    }\n",
    "    \n",
    "    for name, model in models.items():\n",
    "        model.fit(X_trainprocessed, y_train)\n",
    "    \n",
    "        y_train_pred = model.predict(X_trainprocessed)\n",
    "        y_test_pred = model.predict(X_testprocessed)\n",
    "\n",
    "        train_mse = mean_squared_error(y_train_pred, y_train)\n",
    "        test_mse = mean_squared_error(y_test_pred, y_test)\n",
    "\n",
    "        train_rmse = np.sqrt(mean_squared_error(y_train_pred, y_train))\n",
    "        test_rmse = np.sqrt(mean_squared_error(y_test_pred, y_test))\n",
    "\n",
    "        train_score = r2_score(y_train_pred, y_train)\n",
    "        test_score = r2_score(y_test_pred, y_test)\n",
    "\n",
    "        train_mae = mean_absolute_error(y_train_pred, y_train)\n",
    "        test_mae = mean_absolute_error(y_test_pred, y_test)\n",
    "\n",
    "        print(f'{name} - train_score: {train_score:.3f}, test_score: {test_score:.3f}\\n train_mse: {train_mse:.3f},test_mse: {test_mse:.3f}\\ntrain_rmse: {train_mse:.3f},test_rmse: {test_mse:.3f}\\n train_mae:{train_mae:.3f}, test_mae:{test_mae:.3f}')\n",
    "\n",
    "parameter(random_state = 42)"
   ]
  },
  {
   "cell_type": "markdown",
   "id": "6720f8f9-7bd2-4603-a3cf-a5236e05331b",
   "metadata": {},
   "source": [
    "#### Observation\n",
    "\n",
    "##### Model Comparison:\n",
    "\n",
    "Two versions of the unpivoted dataset, one with outliers and one without, were used to train models. The results showed that RandomForest consistently outperformed other models, while LinearRegression performed poorly due to its sensitivity to skewness.\n",
    "\n",
    "Likewise, the model with zero(0) rating dataset performed better than the other model without the zero(0) rating record.\n",
    "\n",
    "1. DecisionTree: Overfitting can't be ruled out, given the perfect train score and relatively lower test score.\n",
    "2. RandomForest: Performs well, with a high test score and relatively low MSE, RMSE, and MAE implying that it generalizes well better than DecisionTree and GradientBoosting.\n",
    "3. GradientBoosting: More stable looking at the closeness of the train and test score, but has higher errors and lower test score than DecisionTree and RandomForest."
   ]
  },
  {
   "cell_type": "markdown",
   "id": "f4170617-6a79-46f7-b2af-ad76b8558abc",
   "metadata": {},
   "source": [
    "### 8. Conclusion and Recommendation\n",
    "\n",
    "i. **Model Optimization:**\n",
    "\n",
    "Based on the models' evaluation results, the following conclusions and recommendations were made:\n",
    "\n",
    "RandomForest: Due to its outstanding performance on both training and testing datasets, RandomForest is the top choice.\n",
    "\n",
    "DecisionTree: If DecisionTree is still preferred, consider regularization to mitigate overfitting.\n",
    "\n",
    "GradientBoosting: Fine-tuning GradientBoosting's hyperparameters can enhance its performance.\n",
    "\n",
    "LinearRegression: LinearRegression excels with linear, normally distributed data and minimal multicollinearity. To address skewness, consider alternative transformations like Box-Cox, as log and square root transformations were ineffective.\n",
    "\n",
    "Also, an ensemble method like XGBoost may be considered because it is particularly good for handling zero-heavy data due to its ability to manage skewed distributions and missing values effectively.\n",
    "\n",
    "By selecting the best-performing model and fine-tuning its hyperparameters, the accuracy and reliability of the model's predictions can be significantly improved.\n",
    "\n",
    "ii. **Business Recommendation**\n",
    "\n",
    "To drive business growth and maximize revenue potential, restaurant owners within the dataset's vicinity must prioritize customer retention and new customer attraction. Based on our analysis, the following strategic recommendations can help owners increase customer loyalty, attract new customers, and maintain a competitive edge in the market:\n",
    "\n",
    "1. Focus on growing your business in cities such as New Delhi, Inner City etc. where demand is high and ratings are favorable.\n",
    "2. Conduct market research to better understand customer preferences in different cities.\n",
    "3. Provide online delivery services, particularly for cuisines in Price Range 2, and implement table booking options to attract more customers and improve ratings.\n",
    "4. Focus on improving the quality of your restaurants, as evidenced by the positive correlation between votes and aggregate ratings.\n",
    "5. Continuous monitoring, evaluating, and adjusting the business strategies based on customer feedback and ratings."
   ]
  }
 ],
 "metadata": {
  "colab": {
   "provenance": []
  },
  "kernelspec": {
   "display_name": "Python 3 (ipykernel)",
   "language": "python",
   "name": "python3"
  },
  "language_info": {
   "codemirror_mode": {
    "name": "ipython",
    "version": 3
   },
   "file_extension": ".py",
   "mimetype": "text/x-python",
   "name": "python",
   "nbconvert_exporter": "python",
   "pygments_lexer": "ipython3",
   "version": "3.12.4"
  }
 },
 "nbformat": 4,
 "nbformat_minor": 5
}
